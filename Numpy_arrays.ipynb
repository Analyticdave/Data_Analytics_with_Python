{
  "cells": [
    {
      "cell_type": "markdown",
      "metadata": {
        "id": "view-in-github",
        "colab_type": "text"
      },
      "source": [
        "<a href=\"https://colab.research.google.com/github/Analyticdave/Data_Analytics_with_Python/blob/main/Numpy_arrays.ipynb\" target=\"_parent\"><img src=\"https://colab.research.google.com/assets/colab-badge.svg\" alt=\"Open In Colab\"/></a>"
      ]
    },
    {
      "cell_type": "code",
      "execution_count": null,
      "id": "077ce5d4-6275-487b-afda-a48f8914d82c",
      "metadata": {
        "id": "077ce5d4-6275-487b-afda-a48f8914d82c"
      },
      "outputs": [],
      "source": [
        "#Importing numpy\n",
        "\n",
        "import numpy as np\n",
        "\n",
        "\n",
        "\n"
      ]
    },
    {
      "cell_type": "code",
      "execution_count": null,
      "id": "b1c7001c-0597-4a1d-a987-df7e1bf19f78",
      "metadata": {
        "id": "b1c7001c-0597-4a1d-a987-df7e1bf19f78",
        "outputId": "edfaf3a5-86dd-4b7e-e67a-32811c431385"
      },
      "outputs": [
        {
          "name": "stdout",
          "output_type": "stream",
          "text": [
            "[1 2 3 4 5]\n"
          ]
        }
      ],
      "source": [
        "# Creating arrays\n",
        "\n",
        "arr = np.array([1, 2, 3, 4, 5])\n",
        "\n",
        "print(arr)"
      ]
    },
    {
      "cell_type": "code",
      "execution_count": null,
      "id": "190dc950-d43b-4ef1-8f59-d0ae5d8e57c2",
      "metadata": {
        "id": "190dc950-d43b-4ef1-8f59-d0ae5d8e57c2",
        "outputId": "bf977dab-e842-43e1-85d8-d82f06e7f8de"
      },
      "outputs": [
        {
          "name": "stdout",
          "output_type": "stream",
          "text": [
            "[ 6  7  8  9 10]\n"
          ]
        }
      ],
      "source": [
        "arr1 =  np.array([6,7,8,9,10])\n",
        "print(arr1)"
      ]
    },
    {
      "cell_type": "raw",
      "id": "6053555a-a828-47b9-a59a-519e51cc6472",
      "metadata": {
        "id": "6053555a-a828-47b9-a59a-519e51cc6472"
      },
      "source": []
    },
    {
      "cell_type": "code",
      "execution_count": null,
      "id": "daaa57ca-2dbf-4bbf-882a-82cc184f4050",
      "metadata": {
        "id": "daaa57ca-2dbf-4bbf-882a-82cc184f4050",
        "outputId": "c647862f-1b1e-49f7-a3fa-d20516224003"
      },
      "outputs": [
        {
          "name": "stdout",
          "output_type": "stream",
          "text": [
            "[ 6  7  8  9 10]\n",
            "<class 'numpy.ndarray'>\n"
          ]
        }
      ],
      "source": [
        "# checking array type\n",
        "print(arr1)\n",
        "print(type(arr1))"
      ]
    },
    {
      "cell_type": "code",
      "execution_count": null,
      "id": "8e05381a-7343-46ec-834b-2a65f2edfff3",
      "metadata": {
        "id": "8e05381a-7343-46ec-834b-2a65f2edfff3",
        "outputId": "788747d1-8686-4d6a-e9e9-9ad3064ae1e2"
      },
      "outputs": [
        {
          "name": "stdout",
          "output_type": "stream",
          "text": [
            "[11 12 13 14 15]\n"
          ]
        }
      ],
      "source": [
        "# creating arrays with Tupple\n",
        "tupple_arr = np.array((11,12,13,14,15))\n",
        "print(tupple_arr)"
      ]
    },
    {
      "cell_type": "code",
      "execution_count": null,
      "id": "12a2742b-ed69-4604-ba76-4741108f0f1a",
      "metadata": {
        "id": "12a2742b-ed69-4604-ba76-4741108f0f1a",
        "outputId": "fb89021f-2e96-4dba-b1c5-1c1511718f13"
      },
      "outputs": [
        {
          "name": "stdout",
          "output_type": "stream",
          "text": [
            "[[ 1  3  5  7  9]\n",
            " [ 2  4  6  8 10]]\n"
          ]
        }
      ],
      "source": [
        "# Creating 2D arrays\n",
        "arr2 = np.array([[1,3,5,7,9],[2,4,6,8,10]])\n",
        "print(arr2)"
      ]
    },
    {
      "cell_type": "code",
      "execution_count": null,
      "id": "19abac28-8ebb-4051-9c1c-a6fe4232e54e",
      "metadata": {
        "id": "19abac28-8ebb-4051-9c1c-a6fe4232e54e",
        "outputId": "613efd03-c38c-48f7-90d7-0bad4cf6a10d"
      },
      "outputs": [
        {
          "name": "stdout",
          "output_type": "stream",
          "text": [
            "[[[ 1  3  5  7  9]\n",
            "  [ 2  4  6  8 10]\n",
            "  [ 1  2  3  4  5]]]\n"
          ]
        }
      ],
      "source": [
        "# Creating 3D arrays\n",
        "arr3 = np.array([[[1,3,5,7,9],[2,4,6,8,10],[1,2,3,4,5]]])\n",
        "print(arr3)\n"
      ]
    },
    {
      "cell_type": "code",
      "execution_count": null,
      "id": "20916e83-acd0-4d9d-a379-937a921d2f6c",
      "metadata": {
        "id": "20916e83-acd0-4d9d-a379-937a921d2f6c",
        "outputId": "df36b55e-1926-4c8a-cd88-f5b1da84c9fd"
      },
      "outputs": [
        {
          "name": "stdout",
          "output_type": "stream",
          "text": [
            "1\n",
            "1\n",
            "2\n",
            "3\n"
          ]
        }
      ],
      "source": [
        "# Checking the ndim of an arry\n",
        "print(arr.ndim)\n",
        "print(arr1.ndim)\n",
        "print(arr2.ndim)\n",
        "print(arr3.ndim)"
      ]
    },
    {
      "cell_type": "code",
      "execution_count": null,
      "id": "50e32b2f-5c65-4bf6-8de9-c6921e6d4b05",
      "metadata": {
        "id": "50e32b2f-5c65-4bf6-8de9-c6921e6d4b05",
        "outputId": "0111bbb8-07ac-4015-d990-c4f492d16fe0"
      },
      "outputs": [
        {
          "name": "stdout",
          "output_type": "stream",
          "text": [
            "[[[[[[[10 20 30 40]]]]]]]\n",
            "number of dimensions : 7\n"
          ]
        }
      ],
      "source": [
        "# creating arrays with higher dimensions\n",
        "\n",
        "arr_higher = np.array([10, 20, 30, 40], ndmin=7)\n",
        "\n",
        "print(arr_higher)\n",
        "print('number of dimensions :', arr_higher.ndim)"
      ]
    },
    {
      "cell_type": "code",
      "execution_count": null,
      "id": "721fe158-beed-4fb5-b7f9-9a36b1f2d54e",
      "metadata": {
        "id": "721fe158-beed-4fb5-b7f9-9a36b1f2d54e",
        "outputId": "851a9b6d-7c42-4f2e-f4e1-816872a9547f"
      },
      "outputs": [
        {
          "name": "stdout",
          "output_type": "stream",
          "text": [
            "100\n",
            "300\n",
            "700\n"
          ]
        }
      ],
      "source": [
        "# ACCESSING ARRAYS\n",
        "\n",
        "# 1-D Arrays\n",
        "\n",
        "arr = np.array([100, 200, 300, 400])\n",
        "\n",
        "print(arr[0])\n",
        "print(arr[2] )\n",
        "print(arr[2] + arr[3])"
      ]
    },
    {
      "cell_type": "code",
      "execution_count": null,
      "id": "aae7649a-d33e-4b31-9df2-de8905b5ee6b",
      "metadata": {
        "id": "aae7649a-d33e-4b31-9df2-de8905b5ee6b",
        "outputId": "884827ae-ee38-457e-b800-0da89b3c0b03"
      },
      "outputs": [
        {
          "name": "stdout",
          "output_type": "stream",
          "text": [
            "[[ 1  3  5  7  9]\n",
            " [ 2  4  6  8 10]]\n",
            "3\n",
            "10\n"
          ]
        }
      ],
      "source": [
        "# Accessing 2-D Arrays\n",
        "\n",
        "arr = arr2\n",
        "print(arr2)\n",
        "print(arr[0,1])\n",
        "print(arr[1,4])"
      ]
    },
    {
      "cell_type": "code",
      "execution_count": null,
      "id": "ddd8cdb4-5f10-4c05-be55-8b7a69d05f9b",
      "metadata": {
        "id": "ddd8cdb4-5f10-4c05-be55-8b7a69d05f9b",
        "outputId": "01c16783-fa75-4a7c-9b44-9fb57806c4fd"
      },
      "outputs": [
        {
          "name": "stdout",
          "output_type": "stream",
          "text": [
            "[[[ 1  3  5  7  9]\n",
            "  [ 2  4  6  8 10]\n",
            "  [ 1  2  3  4  5]]]\n",
            "6\n"
          ]
        }
      ],
      "source": [
        "#Accessing 3-D Arrays\n",
        "arr = arr3\n",
        "print(arr3)\n",
        "print(arr[0,1,2])"
      ]
    },
    {
      "cell_type": "code",
      "execution_count": null,
      "id": "33d84c51-4022-430b-9893-74680f360105",
      "metadata": {
        "id": "33d84c51-4022-430b-9893-74680f360105",
        "outputId": "f8eee7c4-d0bd-4cd4-bc1a-a7426d29b8c3"
      },
      "outputs": [
        {
          "name": "stdout",
          "output_type": "stream",
          "text": [
            "[[ 1  3  5  7  9]\n",
            " [ 2  4  6  8 10]]\n",
            "8\n"
          ]
        }
      ],
      "source": [
        "# Negative Indexing\n",
        "print(arr2)\n",
        "print(arr2[1,-2])"
      ]
    },
    {
      "cell_type": "code",
      "execution_count": null,
      "id": "f39496a4-7be3-4b33-b1be-1724c0a90ae6",
      "metadata": {
        "id": "f39496a4-7be3-4b33-b1be-1724c0a90ae6",
        "outputId": "721250f6-e0f2-48a9-b907-2d4cbd839222"
      },
      "outputs": [
        {
          "name": "stdout",
          "output_type": "stream",
          "text": [
            "[ 1  2  3  4  5  6  7  8  9 10]\n",
            "[1 2 3 4]\n",
            "[2 4 6 8]\n"
          ]
        }
      ],
      "source": [
        "# Slicing  Arrays [start:stop:step]\n",
        "# 1-D Array\n",
        "\n",
        "arr4 = np.array([1,2,3,4,5,6,7,8,9,10])\n",
        "\n",
        "print(arr4)\n",
        "\n",
        "print(arr4[0:4])\n",
        "\n",
        "print(arr4[1:9:2])"
      ]
    },
    {
      "cell_type": "code",
      "execution_count": null,
      "id": "bb00a3e6-0d8d-4e0d-a934-d351acce5cea",
      "metadata": {
        "id": "bb00a3e6-0d8d-4e0d-a934-d351acce5cea",
        "outputId": "682c2a29-1eb2-4947-88a5-f266625704dc"
      },
      "outputs": [
        {
          "name": "stdout",
          "output_type": "stream",
          "text": [
            "[1 3 5 7 9]\n",
            "[ 1  2  3  4  5  6  7  8  9 10]\n"
          ]
        }
      ],
      "source": [
        "print(arr4[::2])\n",
        "print(arr4[::1])"
      ]
    },
    {
      "cell_type": "code",
      "execution_count": null,
      "id": "d6cadab5-107f-4073-8e04-07b9aa6891f4",
      "metadata": {
        "id": "d6cadab5-107f-4073-8e04-07b9aa6891f4",
        "outputId": "c53d98da-c27d-412e-903f-f10061a08776"
      },
      "outputs": [
        {
          "name": "stdout",
          "output_type": "stream",
          "text": [
            "[7 8 9]\n",
            "[3 8]\n",
            "[[2 3 4]\n",
            " [7 8 9]]\n"
          ]
        }
      ],
      "source": [
        "# Slicing in 2-D Arrays\n",
        "arr5 = np.array([[1, 2, 3, 4, 5], [6, 7, 8, 9, 10]])\n",
        "\n",
        "print(arr5[1, 1:4])\n",
        "print(arr5[0:2, 2])\n",
        "print(arr5[0:2, 1:4])"
      ]
    },
    {
      "cell_type": "code",
      "execution_count": null,
      "id": "7ceb683f-43d5-4ca9-b0f3-5e58f37ae9e1",
      "metadata": {
        "id": "7ceb683f-43d5-4ca9-b0f3-5e58f37ae9e1",
        "outputId": "1dae7a08-421b-4f24-ed2e-5610d22e55e6"
      },
      "outputs": [
        {
          "name": "stdout",
          "output_type": "stream",
          "text": [
            "copy: None\n",
            "view [[ 1  2  3  4  5]\n",
            " [ 6  7  8  9 10]]\n"
          ]
        }
      ],
      "source": [
        "# Copy and View of Arrays\n",
        "arr_copy = arr5.copy()\n",
        "arr_view = arr5.view()\n",
        "print('copy:', arr_copy.base)\n",
        "print('view', arr_view.base)"
      ]
    },
    {
      "cell_type": "code",
      "execution_count": null,
      "id": "ca75b1b1-35d1-43a1-af33-8998e1714e90",
      "metadata": {
        "id": "ca75b1b1-35d1-43a1-af33-8998e1714e90",
        "outputId": "9a1a36b4-fc0a-4947-c274-131bbab93391"
      },
      "outputs": [
        {
          "name": "stdout",
          "output_type": "stream",
          "text": [
            "1\n",
            "2\n",
            "3\n"
          ]
        }
      ],
      "source": [
        "# Iteration with arrys(This is just like using a for loop. Iterating means going through elements one by one.)\n",
        "# For 1-D Array\n",
        "arr = np.array([1, 2, 3])\n",
        "\n",
        "for x in arr:\n",
        "    print(x)\n"
      ]
    },
    {
      "cell_type": "code",
      "execution_count": null,
      "id": "1407982d-35d1-4509-850b-4e7f88f1de86",
      "metadata": {
        "id": "1407982d-35d1-4509-850b-4e7f88f1de86",
        "outputId": "44df1e44-0356-474a-8c85-3fe01a9847f5"
      },
      "outputs": [
        {
          "name": "stdout",
          "output_type": "stream",
          "text": [
            "[1 2 3]\n",
            "[4 5 6]\n"
          ]
        }
      ],
      "source": [
        "# for n-D Array\n",
        "\n",
        "arr = np.array([[1, 2, 3], [4, 5, 6]])\n",
        "\n",
        "for x in arr:\n",
        "    print(x)"
      ]
    },
    {
      "cell_type": "code",
      "execution_count": null,
      "id": "ebb466d5-6872-4d38-ba4e-8be2087d894a",
      "metadata": {
        "id": "ebb466d5-6872-4d38-ba4e-8be2087d894a",
        "outputId": "7d63c217-d021-4b4b-c8a1-01d5fdb14e66"
      },
      "outputs": [
        {
          "name": "stdout",
          "output_type": "stream",
          "text": [
            "1\n",
            "2\n",
            "3\n",
            "4\n",
            "5\n",
            "6\n"
          ]
        }
      ],
      "source": [
        "# for 2-D Array\n",
        "\n",
        "arr = np.array([[1, 2, 3], [4, 5, 6]])\n",
        "\n",
        "for x in arr:\n",
        "    for y in x:\n",
        "        print(y)"
      ]
    },
    {
      "cell_type": "code",
      "execution_count": null,
      "id": "8635ec98-a218-46f1-a3e2-346b84d03cd4",
      "metadata": {
        "id": "8635ec98-a218-46f1-a3e2-346b84d03cd4",
        "outputId": "c3f485dc-cf91-41d4-ef90-561704273129"
      },
      "outputs": [
        {
          "name": "stdout",
          "output_type": "stream",
          "text": [
            "1\n",
            "2\n",
            "3\n",
            "4\n",
            "5\n",
            "6\n",
            "7\n",
            "8\n",
            "9\n",
            "10\n",
            "11\n",
            "12\n"
          ]
        }
      ],
      "source": [
        "# For 3-D Arrays\n",
        "arr = np.array([[[1, 2, 3], [4, 5, 6]], [[7, 8, 9], [10, 11, 12]]])\n",
        "\n",
        "for x in arr:\n",
        "    for y in x:\n",
        "        for z in y:\n",
        "            print(z)"
      ]
    },
    {
      "cell_type": "code",
      "execution_count": null,
      "id": "110ad629-1545-4a6f-a455-adc2160f2d96",
      "metadata": {
        "id": "110ad629-1545-4a6f-a455-adc2160f2d96",
        "outputId": "e441b874-8f2e-47ae-a4cc-5a64a9db3a8c"
      },
      "outputs": [
        {
          "name": "stdout",
          "output_type": "stream",
          "text": [
            "1\n",
            "2\n",
            "3\n",
            "4\n",
            "5\n",
            "6\n",
            "7\n",
            "8\n"
          ]
        }
      ],
      "source": [
        "# Iterating throup an Array using nditer()\n",
        "\n",
        "\n",
        "arr = np.array([[[1, 2], [3, 4]], [[5, 6], [7, 8]]])\n",
        "\n",
        "for x in np.nditer(arr):\n",
        "    print(x)"
      ]
    },
    {
      "cell_type": "code",
      "execution_count": null,
      "id": "968f5ab1-903d-49e5-953e-81ccc6db87a2",
      "metadata": {
        "id": "968f5ab1-903d-49e5-953e-81ccc6db87a2",
        "outputId": "07b63c58-1354-49f3-d81f-56bcafb5f752"
      },
      "outputs": [
        {
          "name": "stdout",
          "output_type": "stream",
          "text": [
            "b'1'\n",
            "b'2'\n",
            "b'3'\n"
          ]
        }
      ],
      "source": [
        "# Iterating Array With Different Data Types using flags = buffer amd OP-DTYPES = S\n",
        "\n",
        "\n",
        "arr = np.array([1, 2, 3])\n",
        "\n",
        "for x in np.nditer(arr, flags=['buffered'], op_dtypes=['S']):\n",
        "    print(x)"
      ]
    },
    {
      "cell_type": "code",
      "execution_count": null,
      "id": "6884707e-7876-4ed6-bccc-5a6627f97756",
      "metadata": {
        "id": "6884707e-7876-4ed6-bccc-5a6627f97756",
        "outputId": "b67bb294-08e6-4c48-9977-3098a807ed86"
      },
      "outputs": [
        {
          "name": "stdout",
          "output_type": "stream",
          "text": [
            "1\n",
            "3\n",
            "5\n",
            "7\n"
          ]
        }
      ],
      "source": [
        "# Iterating With Different Step Size\n",
        "\n",
        "arr = np.array([[1, 2, 3, 4], [5, 6, 7, 8]])\n",
        "\n",
        "# This line skips one element bescause the step is 2\n",
        "for x in np.nditer(arr[:, ::2]):\n",
        "    print(x)"
      ]
    },
    {
      "cell_type": "code",
      "execution_count": null,
      "id": "ddc58d77-8c3f-453a-85bb-8ef46434de0d",
      "metadata": {
        "id": "ddc58d77-8c3f-453a-85bb-8ef46434de0d",
        "outputId": "f1eb9ad9-9ab2-4279-82ef-1ea0a9cac367"
      },
      "outputs": [
        {
          "name": "stdout",
          "output_type": "stream",
          "text": [
            "(0,) 5\n",
            "(1,) 2\n",
            "(2,) 23\n"
          ]
        }
      ],
      "source": [
        "# Enumerated Iteration Using ndenumerate()\n",
        "\n",
        "\n",
        "arr = np.array([5, 2, 23])\n",
        "\n",
        "for idx, x in np.ndenumerate(arr):\n",
        "    print(idx, x)"
      ]
    },
    {
      "cell_type": "code",
      "execution_count": null,
      "id": "2bc5f8b1-91ab-44ed-8c11-68b5244705e9",
      "metadata": {
        "id": "2bc5f8b1-91ab-44ed-8c11-68b5244705e9",
        "outputId": "0b205d3b-fcd9-417d-9cf0-cfcafd5ecbdb"
      },
      "outputs": [
        {
          "name": "stdout",
          "output_type": "stream",
          "text": [
            "(0, 0) 10\n",
            "(0, 1) 20\n",
            "(0, 2) 30\n",
            "(0, 3) 40\n",
            "(1, 0) 50\n",
            "(1, 1) 60\n",
            "(1, 2) 70\n",
            "(1, 3) 80\n"
          ]
        }
      ],
      "source": [
        "# Enumerate on following 2D array's elements:\n",
        "\n",
        "arr = np.array([[10, 20, 30, 40], [50, 60, 70, 80]])\n",
        "\n",
        "for idx, x in np.ndenumerate(arr):\n",
        "  print(idx, x)"
      ]
    },
    {
      "cell_type": "code",
      "execution_count": null,
      "id": "cb969d86-3fa9-4ff6-9e80-b4add54fa27f",
      "metadata": {
        "id": "cb969d86-3fa9-4ff6-9e80-b4add54fa27f",
        "outputId": "5a4efe29-2ae7-42c3-8cc3-a044210d2561"
      },
      "outputs": [
        {
          "name": "stdout",
          "output_type": "stream",
          "text": [
            "[1 5 2 4 3 6]\n"
          ]
        }
      ],
      "source": [
        "# Joinning of Arrays using Concatenate()\n",
        "\n",
        "arr1 = np.array([1, 5, 2])\n",
        "\n",
        "arr2 = np.array([4, 3, 6])\n",
        "\n",
        "arr = np.concatenate((arr1, arr2))\n",
        "\n",
        "print(arr)"
      ]
    },
    {
      "cell_type": "code",
      "execution_count": null,
      "id": "e39e68f6-bcb5-427f-b1c7-03552d328f40",
      "metadata": {
        "id": "e39e68f6-bcb5-427f-b1c7-03552d328f40",
        "outputId": "d6ce18d3-0424-4b24-85f4-330333edd29f"
      },
      "outputs": [
        {
          "name": "stdout",
          "output_type": "stream",
          "text": [
            "[[1 2]\n",
            " [3 4]\n",
            " [5 6]\n",
            " [7 8]]\n"
          ]
        }
      ],
      "source": [
        "# Joining two 2-D Arrays 'Note that the axis must be soecified. 0 is x while 1 is y-axis'\n",
        "\n",
        "arr1 = np.array([[1, 2], [3, 4]])\n",
        "\n",
        "arr2 = np.array([[5, 6], [7, 8]])\n",
        "\n",
        "arr = np.concatenate((arr1, arr2), axis=0)\n",
        "\n",
        "print(arr)"
      ]
    },
    {
      "cell_type": "code",
      "execution_count": null,
      "id": "39b454a3-0347-475f-8ff4-b391d24fdd09",
      "metadata": {
        "id": "39b454a3-0347-475f-8ff4-b391d24fdd09",
        "outputId": "d522cf9a-390e-4c4a-b531-e7368e44ed40"
      },
      "outputs": [
        {
          "name": "stdout",
          "output_type": "stream",
          "text": [
            "[1 2 3 4 5 6]\n"
          ]
        }
      ],
      "source": [
        "# Joining Arrays Using Stack Functions dstack(), hStack() and vstack()\n",
        "\n",
        "# Stacking along column with hstack\n",
        "arr1 = np.array([1, 2, 3])\n",
        "\n",
        "arr2 = np.array([4, 5, 6])\n",
        "\n",
        "arr = np.hstack((arr1, arr2))\n",
        "print(arr)\n",
        "\n"
      ]
    },
    {
      "cell_type": "code",
      "execution_count": null,
      "id": "464f72f8-2186-4171-a299-eb9720ad369b",
      "metadata": {
        "id": "464f72f8-2186-4171-a299-eb9720ad369b",
        "outputId": "09a6b1bb-1baa-4d33-cd45-0bc604228df6"
      },
      "outputs": [
        {
          "name": "stdout",
          "output_type": "stream",
          "text": [
            "[[1 2 3]\n",
            " [4 5 6]]\n"
          ]
        }
      ],
      "source": [
        "# Stacking along rows with vstack\n",
        "\n",
        "arr1 = np.array([1, 2, 3])\n",
        "\n",
        "arr2 = np.array([4, 5, 6])\n",
        "\n",
        "arr = np.vstack((arr1, arr2))\n",
        "\n",
        "print(arr)"
      ]
    },
    {
      "cell_type": "code",
      "execution_count": null,
      "id": "4ae69f08-bbe7-4b0e-b22f-4dbc9decf7ff",
      "metadata": {
        "id": "4ae69f08-bbe7-4b0e-b22f-4dbc9decf7ff",
        "outputId": "52d4c05b-1a2f-4e28-9400-7af063067a68"
      },
      "outputs": [
        {
          "name": "stdout",
          "output_type": "stream",
          "text": [
            "[[[1 4]\n",
            "  [2 5]\n",
            "  [3 6]]]\n"
          ]
        }
      ],
      "source": [
        "# Stacking Along the Height\n",
        "\n",
        "arr1 = np.array([1, 2, 3])\n",
        "\n",
        "arr2 = np.array([4, 5, 6])\n",
        "\n",
        "arr = np.dstack((arr1, arr2))\n",
        "\n",
        "print(arr)"
      ]
    },
    {
      "cell_type": "code",
      "execution_count": null,
      "id": "120b8b83-416e-44d4-a165-e8de9a2c66ef",
      "metadata": {
        "id": "120b8b83-416e-44d4-a165-e8de9a2c66ef",
        "outputId": "071494b5-ea39-4cf9-c67a-faa9a83f7321"
      },
      "outputs": [
        {
          "name": "stdout",
          "output_type": "stream",
          "text": [
            "[array([1, 2, 3]), array([4, 5, 6])]\n"
          ]
        }
      ],
      "source": [
        "# Spliting Numpy Arrays using array_split()\n",
        "\n",
        "arr = np.array([1, 2, 3, 4, 5, 6])\n",
        "\n",
        "new_arr = np.array_split(arr, 2)\n",
        "\n",
        "print(new_arr)"
      ]
    },
    {
      "cell_type": "code",
      "execution_count": null,
      "id": "7b9c26dd-0f9b-4bba-8563-61cd07f6efca",
      "metadata": {
        "id": "7b9c26dd-0f9b-4bba-8563-61cd07f6efca",
        "outputId": "91805ec1-db22-4cb3-e798-3d3d695304ef"
      },
      "outputs": [
        {
          "name": "stdout",
          "output_type": "stream",
          "text": [
            "[array([1, 2, 3]), array([4, 5, 6])]\n",
            "[1 2 3]\n",
            "[4 5 6]\n"
          ]
        }
      ],
      "source": [
        "# Accessing Splited Arrays\n",
        "import numpy as np\n",
        "\n",
        "arr = np.array([1, 2, 3, 4, 5, 6])\n",
        "\n",
        "new_arr = np.array_split(arr, 2)\n",
        "\n",
        "print(new_arr)\n",
        "\n",
        "print(new_arr[0])\n",
        "print(new_arr[1])\n"
      ]
    },
    {
      "cell_type": "code",
      "execution_count": null,
      "id": "982e4cfd-846d-4206-b97b-b68973dca9a1",
      "metadata": {
        "id": "982e4cfd-846d-4206-b97b-b68973dca9a1",
        "outputId": "6f976475-dbec-414e-b793-df4482ca8425"
      },
      "outputs": [
        {
          "name": "stdout",
          "output_type": "stream",
          "text": [
            "The main array: [[ 1  2]\n",
            " [ 3  4]\n",
            " [ 5  6]\n",
            " [ 7  8]\n",
            " [ 9 10]\n",
            " [11 12]]\n",
            "Splitte array: [array([[1, 2],\n",
            "       [3, 4],\n",
            "       [5, 6]]), array([[ 7,  8],\n",
            "       [ 9, 10],\n",
            "       [11, 12]])]\n"
          ]
        }
      ],
      "source": [
        "# Spliting 2-D Arrays\n",
        "\n",
        "arr = np.array([[1, 2], [3, 4], [5, 6], [7, 8], [9, 10], [11, 12]])\n",
        "\n",
        "print('The main array:', arr)\n",
        "\n",
        "new_arr = np.array_split(arr, 2)\n",
        "\n",
        "print('Splitte array:',new_arr)"
      ]
    },
    {
      "cell_type": "code",
      "execution_count": null,
      "id": "b615f9d0-4a83-40d9-8931-6980b4703b2d",
      "metadata": {
        "id": "b615f9d0-4a83-40d9-8931-6980b4703b2d",
        "outputId": "1ec162a4-c821-4050-f507-9053dae152b6"
      },
      "outputs": [
        {
          "name": "stdout",
          "output_type": "stream",
          "text": [
            "[array([[ 1],\n",
            "       [ 4],\n",
            "       [ 7],\n",
            "       [10],\n",
            "       [13],\n",
            "       [16]]), array([[ 2],\n",
            "       [ 5],\n",
            "       [ 8],\n",
            "       [11],\n",
            "       [14],\n",
            "       [17]]), array([[ 3],\n",
            "       [ 6],\n",
            "       [ 9],\n",
            "       [12],\n",
            "       [15],\n",
            "       [18]])]\n"
          ]
        }
      ],
      "source": [
        "# Splittind Arrays along columns and rows with vsplit() and hsplit()\n",
        "\n",
        "arr = np.array([[1, 2, 3], [4, 5, 6], [7, 8, 9], [10, 11, 12], [13, 14, 15], [16, 17, 18]])\n",
        "\n",
        "new_arr = np.hsplit(arr, 3)\n",
        "\n",
        "print(new_arr)"
      ]
    },
    {
      "cell_type": "code",
      "execution_count": null,
      "id": "4410fbf4-5f02-4250-9bc3-0f152436e9e4",
      "metadata": {
        "id": "4410fbf4-5f02-4250-9bc3-0f152436e9e4",
        "outputId": "3b141d96-90aa-4ee7-e251-e3311e9c692a"
      },
      "outputs": [
        {
          "name": "stdout",
          "output_type": "stream",
          "text": [
            "[array([[1, 2, 3],\n",
            "       [4, 5, 6]]), array([[ 7,  8,  9],\n",
            "       [10, 11, 12]]), array([[13, 14, 15],\n",
            "       [16, 17, 18]])]\n"
          ]
        }
      ],
      "source": [
        "arr = np.array([[1, 2, 3], [4, 5, 6], [7, 8, 9], [10, 11, 12], [13, 14, 15], [16, 17, 18]])\n",
        "\n",
        "newarr = np.vsplit(arr, 3)\n",
        "\n",
        "print(newarr)"
      ]
    },
    {
      "cell_type": "code",
      "execution_count": null,
      "id": "8bfe24da-29c4-4aad-a30e-76e654f99aea",
      "metadata": {
        "id": "8bfe24da-29c4-4aad-a30e-76e654f99aea",
        "outputId": "015895a1-e636-4f14-f386-54fd047594d4"
      },
      "outputs": [
        {
          "name": "stdout",
          "output_type": "stream",
          "text": [
            "(array([2, 6], dtype=int64),)\n"
          ]
        }
      ],
      "source": [
        "# for arrays using the where clause\n",
        "\n",
        "arr = np.array([1, 2, 6,3, 4, 5, 6, 4])\n",
        "\n",
        "x = np.where(arr == 6)\n",
        "\n",
        "print(x)"
      ]
    },
    {
      "cell_type": "code",
      "execution_count": null,
      "id": "2b94fca4-cded-4190-94da-95b21e8154d9",
      "metadata": {
        "id": "2b94fca4-cded-4190-94da-95b21e8154d9",
        "outputId": "dcf381e4-d394-4b87-c4bf-b91536ebc431"
      },
      "outputs": [
        {
          "name": "stdout",
          "output_type": "stream",
          "text": [
            "(array([1, 3, 5], dtype=int64),)\n"
          ]
        }
      ],
      "source": [
        "# searching for even number position\n",
        "arr = np.array([1, 2, 3, 4, 5, 6, 7])\n",
        "\n",
        "x = np.where(arr%2 == 0)\n",
        "\n",
        "print(x)"
      ]
    },
    {
      "cell_type": "code",
      "execution_count": null,
      "id": "0fcd0cfb-09f1-44b1-9195-470c9743130f",
      "metadata": {
        "id": "0fcd0cfb-09f1-44b1-9195-470c9743130f",
        "outputId": "8ac06da9-7e89-4b0d-e9b5-1046f8a38215"
      },
      "outputs": [
        {
          "name": "stdout",
          "output_type": "stream",
          "text": [
            "(array([0, 2, 4], dtype=int64),)\n"
          ]
        }
      ],
      "source": [
        "# Searching for odd numbers position\n",
        "arr = np.array([1, 2, 3, 4, 5, 4, 4])\n",
        "\n",
        "x = np.where(arr%2 == 1)\n",
        "\n",
        "print(x)"
      ]
    },
    {
      "cell_type": "code",
      "execution_count": null,
      "id": "820bb84c-00be-40f4-8046-da3eeb3f2556",
      "metadata": {
        "id": "820bb84c-00be-40f4-8046-da3eeb3f2556",
        "outputId": "5d58cfa5-6284-4086-9161-99bec61cb2e4"
      },
      "outputs": [
        {
          "name": "stdout",
          "output_type": "stream",
          "text": [
            "1\n"
          ]
        }
      ],
      "source": [
        "# Search and sort using searchsorted()\n",
        "\n",
        "arr = np.array([6, 7, 8, 9])\n",
        "\n",
        "x = np.searchsorted(arr, 7)\n",
        "\n",
        "print(x)"
      ]
    },
    {
      "cell_type": "code",
      "execution_count": null,
      "id": "5dd4bb01-abe8-46a6-a9fc-1c397e815be5",
      "metadata": {
        "id": "5dd4bb01-abe8-46a6-a9fc-1c397e815be5",
        "outputId": "55340a03-16ad-49a6-9920-a0f5ea54f904"
      },
      "outputs": [
        {
          "name": "stdout",
          "output_type": "stream",
          "text": [
            "2\n"
          ]
        }
      ],
      "source": [
        "# starting the sort from left\n",
        "\n",
        "arr = np.array([6, 7, 8, 9])\n",
        "\n",
        "x = np.searchsorted(arr, 7, side = 'right')\n",
        "\n",
        "print(x)"
      ]
    },
    {
      "cell_type": "code",
      "execution_count": null,
      "id": "ef0df057-29ca-45f4-80a4-e65dfba870be",
      "metadata": {
        "id": "ef0df057-29ca-45f4-80a4-e65dfba870be",
        "outputId": "024bf044-a9cb-4813-e917-cda4364075da"
      },
      "outputs": [
        {
          "name": "stdout",
          "output_type": "stream",
          "text": [
            "1\n"
          ]
        }
      ],
      "source": [
        "# sorting to the right\n",
        "arr = np.array([6, 7, 8, 9])\n",
        "\n",
        "x = np.searchsorted(arr, 7, side = 'left')\n",
        "\n",
        "print(x)"
      ]
    },
    {
      "cell_type": "code",
      "execution_count": null,
      "id": "829e976e-5c93-41fa-bc8e-cf0cf2e64c16",
      "metadata": {
        "scrolled": true,
        "id": "829e976e-5c93-41fa-bc8e-cf0cf2e64c16",
        "outputId": "588538b5-20ef-47ec-a502-66edbb8f9fb8"
      },
      "outputs": [
        {
          "name": "stdout",
          "output_type": "stream",
          "text": [
            "['Apple' 'Grape' 'Lemon' 'banana' 'pineaple']\n"
          ]
        }
      ],
      "source": [
        "# Sorting of Arrays using sort()\n",
        "\n",
        "arr = np.array(['pineaple', 'banana', 'Lemon', 'Apple','Grape'])\n",
        "\n",
        "print(np.sort(arr))"
      ]
    },
    {
      "cell_type": "code",
      "execution_count": null,
      "id": "295ba87e-9e16-4ed8-84c4-6f1280b03359",
      "metadata": {
        "id": "295ba87e-9e16-4ed8-84c4-6f1280b03359",
        "outputId": "e3167c5a-00aa-43d4-d926-f0cdb87eebfe"
      },
      "outputs": [
        {
          "name": "stdout",
          "output_type": "stream",
          "text": [
            "[[2 3 4]\n",
            " [0 1 5]]\n"
          ]
        }
      ],
      "source": [
        "#Sorting 2-D Arrays\n",
        "\n",
        "arr = np.array([[3, 2, 4], [5, 0, 1]])\n",
        "\n",
        "print(np.sort(arr))"
      ]
    },
    {
      "cell_type": "code",
      "execution_count": null,
      "id": "ef73d7b6-3557-4d21-ac02-ad4371ae382b",
      "metadata": {
        "id": "ef73d7b6-3557-4d21-ac02-ad4371ae382b",
        "outputId": "ee2eda64-5d7f-4134-a4a9-1f90b74d3d5d"
      },
      "outputs": [
        {
          "name": "stdout",
          "output_type": "stream",
          "text": [
            "[2 6]\n"
          ]
        }
      ],
      "source": [
        "# creating a filter for arrays: A filter uses boolean decision to decide the elements in a new array\n",
        "# It returns true is the element meets a prescribed condition and false if it does not.\n",
        "\n",
        "arr = np.array([2, 15, 6, 1])\n",
        "\n",
        "x = [True, False, True, False]\n",
        "\n",
        "newarr = arr[x]\n",
        "\n",
        "print(newarr)"
      ]
    },
    {
      "cell_type": "code",
      "execution_count": null,
      "id": "58b62679-1fa4-495b-8b2d-1a60138b3428",
      "metadata": {
        "id": "58b62679-1fa4-495b-8b2d-1a60138b3428",
        "outputId": "1f66942a-b20c-4e43-c816-066875050626"
      },
      "outputs": [
        {
          "name": "stdout",
          "output_type": "stream",
          "text": [
            "[False, True, True, False]\n",
            "[15  6]\n"
          ]
        }
      ],
      "source": [
        "arr = np.array([2, 15, 6,1 ])\n",
        "\n",
        "# Create an empty list\n",
        "filter_arr = []\n",
        "\n",
        "# go through each element in arr\n",
        "for element in arr:\n",
        "# if the element is higher than 2, set the value to True, otherwise False:\n",
        "    if element > 2:\n",
        "        filter_arr.append(True)\n",
        "    else:\n",
        "        filter_arr.append(False)\n",
        "\n",
        "newarr = arr[filter_arr]\n",
        "\n",
        "print(filter_arr)\n",
        "print(newarr)"
      ]
    },
    {
      "cell_type": "code",
      "execution_count": null,
      "id": "2ac2a140-653d-4a9e-90f8-414b331181f1",
      "metadata": {
        "id": "2ac2a140-653d-4a9e-90f8-414b331181f1",
        "outputId": "e7f3dc31-9a20-47d3-d79d-15a583ebebae"
      },
      "outputs": [
        {
          "name": "stdout",
          "output_type": "stream",
          "text": [
            "[False, True, False, True, False, True, False, True, False, True]\n",
            "[ 2  4  6  8 10]\n"
          ]
        }
      ],
      "source": [
        "# creating a filter Array that only print Even numbers\n",
        "\n",
        "arr = np.array([1, 2, 3, 4, 5, 6, 7,8,9,10])\n",
        "\n",
        "# Create an empty list\n",
        "filter_arr = []\n",
        "\n",
        "# go through each element in arr\n",
        "for element in arr:\n",
        "# if the element is completely divisble by 2, set the value to True, otherwise False\n",
        "    if element % 2 == 0:\n",
        "        filter_arr.append(True)\n",
        "    else:\n",
        "            filter_arr.append(False)\n",
        "\n",
        "newarr = arr[filter_arr]\n",
        "\n",
        "print(filter_arr)\n",
        "print(newarr)"
      ]
    },
    {
      "cell_type": "code",
      "execution_count": null,
      "id": "97c01ac7-2a30-4ba4-b068-5aa6d70943dd",
      "metadata": {
        "id": "97c01ac7-2a30-4ba4-b068-5aa6d70943dd",
        "outputId": "03e90127-2470-48b9-97dc-e1277eae21a1"
      },
      "outputs": [
        {
          "name": "stdout",
          "output_type": "stream",
          "text": [
            "[True, False, True, False, True, False, True, True, False]\n",
            "[1 3 5 7 9]\n"
          ]
        }
      ],
      "source": [
        "# Creating a Filter for odd numbers\n",
        "arr = np.array([1, 2, 3, 4, 5, 6, 7,9,10])\n",
        "\n",
        "# Create an empty list\n",
        "filter_arr = []\n",
        "\n",
        "# go through each element in arr\n",
        "for element in arr:\n",
        "# if the element is not completely divisble by 2, set the value to True, otherwise False\n",
        "    if element % 2 == 1:\n",
        "        filter_arr.append(True)\n",
        "    else:\n",
        "        filter_arr.append(False)\n",
        "\n",
        "newarr = arr[filter_arr]\n",
        "\n",
        "print(filter_arr)\n",
        "print(newarr)"
      ]
    },
    {
      "cell_type": "code",
      "execution_count": null,
      "id": "96f8fa56-2ae3-497e-81a1-62746ebfd1a4",
      "metadata": {
        "id": "96f8fa56-2ae3-497e-81a1-62746ebfd1a4",
        "outputId": "fcac7264-904b-4d2b-fa6b-69ad18df463e"
      },
      "outputs": [
        {
          "name": "stdout",
          "output_type": "stream",
          "text": [
            "[False  True  True False]\n",
            "[5 6]\n"
          ]
        }
      ],
      "source": [
        "# Creating Filters directly From Arrays\n",
        "\n",
        "arr = np.array([2, 5, 6, 1])\n",
        "\n",
        "filter_arr = arr > 2\n",
        "\n",
        "newarr = arr[filter_arr]\n",
        "\n",
        "print(filter_arr)\n",
        "print(newarr)"
      ]
    },
    {
      "cell_type": "code",
      "execution_count": null,
      "id": "20dfb742-e2f4-4dae-95f8-983429521c5d",
      "metadata": {
        "id": "20dfb742-e2f4-4dae-95f8-983429521c5d",
        "outputId": "aa0ccf8b-ad55-4c29-c905-fc59024ad970"
      },
      "outputs": [
        {
          "name": "stdout",
          "output_type": "stream",
          "text": [
            "[False  True False  True False  True False False  True]\n",
            "[ 2  4  6 10]\n"
          ]
        }
      ],
      "source": [
        "# Creating even numbers Filters from arrays directly\n",
        "\n",
        "arr = np.array([1, 2, 3, 4, 5, 6, 7,9,10])\n",
        "\n",
        "filter_arr = arr % 2 == 0\n",
        "\n",
        "newarr = arr[filter_arr]\n",
        "\n",
        "print(filter_arr)\n",
        "print(newarr)"
      ]
    },
    {
      "cell_type": "code",
      "execution_count": null,
      "id": "c212f19a-2747-4d49-9cf5-06e5d7b9b176",
      "metadata": {
        "id": "c212f19a-2747-4d49-9cf5-06e5d7b9b176"
      },
      "outputs": [],
      "source": [
        "# Creating Odd numbers filter directly from Arrays\n",
        "arr = np.array([1, 2, 3, 4, 5, 6, 7,8,9,10])\n",
        "\n",
        "filter_arr = arr % 2 == 1\n",
        "\n",
        "newarr = arr[filter_arr]\n",
        "\n",
        "print(filter_arr)\n",
        "print(newarr)"
      ]
    },
    {
      "cell_type": "raw",
      "id": "1f7b4ff7-3b2e-43db-8e97-7376d167d329",
      "metadata": {
        "id": "1f7b4ff7-3b2e-43db-8e97-7376d167d329"
      },
      "source": []
    }
  ],
  "metadata": {
    "kernelspec": {
      "display_name": "Python 3 (ipykernel)",
      "language": "python",
      "name": "python3"
    },
    "language_info": {
      "codemirror_mode": {
        "name": "ipython",
        "version": 3
      },
      "file_extension": ".py",
      "mimetype": "text/x-python",
      "name": "python",
      "nbconvert_exporter": "python",
      "pygments_lexer": "ipython3",
      "version": "3.12.7"
    },
    "colab": {
      "provenance": [],
      "include_colab_link": true
    }
  },
  "nbformat": 4,
  "nbformat_minor": 5
}