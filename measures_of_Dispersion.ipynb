{
  "cells": [
    {
      "cell_type": "markdown",
      "metadata": {
        "id": "view-in-github",
        "colab_type": "text"
      },
      "source": [
        "<a href=\"https://colab.research.google.com/github/Analyticdave/Data_Analytics_with_Python/blob/main/measures_of_Dispersion.ipynb\" target=\"_parent\"><img src=\"https://colab.research.google.com/assets/colab-badge.svg\" alt=\"Open In Colab\"/></a>"
      ]
    },
    {
      "cell_type": "code",
      "execution_count": null,
      "id": "7a467be9-9459-46eb-bda3-805b635dd007",
      "metadata": {
        "id": "7a467be9-9459-46eb-bda3-805b635dd007"
      },
      "outputs": [],
      "source": [
        "import numpy as np\n",
        "import pandas as pd\n",
        "import scipy\n",
        "from scipy import stats"
      ]
    },
    {
      "cell_type": "code",
      "execution_count": null,
      "id": "05f0db98-d99a-46a0-9d3a-1131841f9a96",
      "metadata": {
        "id": "05f0db98-d99a-46a0-9d3a-1131841f9a96"
      },
      "outputs": [],
      "source": [
        "# Importing the dataset"
      ]
    },
    {
      "cell_type": "code",
      "execution_count": null,
      "id": "339db980-3956-412c-87a0-d523c63e425a",
      "metadata": {
        "id": "339db980-3956-412c-87a0-d523c63e425a",
        "outputId": "bf1a7f21-1274-4526-c230-136652aa94a2"
      },
      "outputs": [
        {
          "name": "stdout",
          "output_type": "stream",
          "text": [
            "    S.No.  MTE (25)  Mini Project (25)  Total (50)  ETE (50)  Total\n",
            "0       1      5.00                 20       25.00      12.0  37.00\n",
            "1       2     11.05                 20       31.05      26.0  57.05\n",
            "2       3      8.10                 20       28.10      14.0  42.10\n",
            "3       4      6.00                 10       16.00      13.0  29.00\n",
            "4       5     11.35                 20       31.35      17.0  48.35\n",
            "..    ...       ...                ...         ...       ...    ...\n",
            "74     75     12.05                 10       22.05      20.0  42.05\n",
            "75     76     12.25                 10       22.25      28.0  50.25\n",
            "76     77      1.75                 10       11.75       NaN   0.00\n",
            "77     78      3.00                 10       13.00       NaN   0.00\n",
            "78     79      5.80                 10       15.80      12.0  27.80\n",
            "\n",
            "[79 rows x 6 columns]\n"
          ]
        }
      ],
      "source": [
        "path = \"C:/Users/Mckinish_Computers/Desktop/Data Analytics/IBM-313 Marks.xlsx\"\n",
        "table = pd.read_excel(path)\n",
        "print(table)"
      ]
    },
    {
      "cell_type": "code",
      "execution_count": null,
      "id": "d896a9f5-d016-4d24-9dd3-85aac460d5d3",
      "metadata": {
        "id": "d896a9f5-d016-4d24-9dd3-85aac460d5d3",
        "outputId": "070b5dc9-4960-4f87-a6d6-a5aba22e1f0b"
      },
      "outputs": [
        {
          "data": {
            "text/html": [
              "<div>\n",
              "<style scoped>\n",
              "    .dataframe tbody tr th:only-of-type {\n",
              "        vertical-align: middle;\n",
              "    }\n",
              "\n",
              "    .dataframe tbody tr th {\n",
              "        vertical-align: top;\n",
              "    }\n",
              "\n",
              "    .dataframe thead th {\n",
              "        text-align: right;\n",
              "    }\n",
              "</style>\n",
              "<table border=\"1\" class=\"dataframe\">\n",
              "  <thead>\n",
              "    <tr style=\"text-align: right;\">\n",
              "      <th></th>\n",
              "      <th>S.No.</th>\n",
              "      <th>MTE (25)</th>\n",
              "      <th>Mini Project (25)</th>\n",
              "      <th>Total (50)</th>\n",
              "      <th>ETE (50)</th>\n",
              "      <th>Total</th>\n",
              "    </tr>\n",
              "  </thead>\n",
              "  <tbody>\n",
              "    <tr>\n",
              "      <th>0</th>\n",
              "      <td>1</td>\n",
              "      <td>5.00</td>\n",
              "      <td>20</td>\n",
              "      <td>25.00</td>\n",
              "      <td>12.0</td>\n",
              "      <td>37.00</td>\n",
              "    </tr>\n",
              "    <tr>\n",
              "      <th>1</th>\n",
              "      <td>2</td>\n",
              "      <td>11.05</td>\n",
              "      <td>20</td>\n",
              "      <td>31.05</td>\n",
              "      <td>26.0</td>\n",
              "      <td>57.05</td>\n",
              "    </tr>\n",
              "    <tr>\n",
              "      <th>2</th>\n",
              "      <td>3</td>\n",
              "      <td>8.10</td>\n",
              "      <td>20</td>\n",
              "      <td>28.10</td>\n",
              "      <td>14.0</td>\n",
              "      <td>42.10</td>\n",
              "    </tr>\n",
              "    <tr>\n",
              "      <th>3</th>\n",
              "      <td>4</td>\n",
              "      <td>6.00</td>\n",
              "      <td>10</td>\n",
              "      <td>16.00</td>\n",
              "      <td>13.0</td>\n",
              "      <td>29.00</td>\n",
              "    </tr>\n",
              "    <tr>\n",
              "      <th>4</th>\n",
              "      <td>5</td>\n",
              "      <td>11.35</td>\n",
              "      <td>20</td>\n",
              "      <td>31.35</td>\n",
              "      <td>17.0</td>\n",
              "      <td>48.35</td>\n",
              "    </tr>\n",
              "    <tr>\n",
              "      <th>...</th>\n",
              "      <td>...</td>\n",
              "      <td>...</td>\n",
              "      <td>...</td>\n",
              "      <td>...</td>\n",
              "      <td>...</td>\n",
              "      <td>...</td>\n",
              "    </tr>\n",
              "    <tr>\n",
              "      <th>74</th>\n",
              "      <td>75</td>\n",
              "      <td>12.05</td>\n",
              "      <td>10</td>\n",
              "      <td>22.05</td>\n",
              "      <td>20.0</td>\n",
              "      <td>42.05</td>\n",
              "    </tr>\n",
              "    <tr>\n",
              "      <th>75</th>\n",
              "      <td>76</td>\n",
              "      <td>12.25</td>\n",
              "      <td>10</td>\n",
              "      <td>22.25</td>\n",
              "      <td>28.0</td>\n",
              "      <td>50.25</td>\n",
              "    </tr>\n",
              "    <tr>\n",
              "      <th>76</th>\n",
              "      <td>77</td>\n",
              "      <td>1.75</td>\n",
              "      <td>10</td>\n",
              "      <td>11.75</td>\n",
              "      <td>NaN</td>\n",
              "      <td>0.00</td>\n",
              "    </tr>\n",
              "    <tr>\n",
              "      <th>77</th>\n",
              "      <td>78</td>\n",
              "      <td>3.00</td>\n",
              "      <td>10</td>\n",
              "      <td>13.00</td>\n",
              "      <td>NaN</td>\n",
              "      <td>0.00</td>\n",
              "    </tr>\n",
              "    <tr>\n",
              "      <th>78</th>\n",
              "      <td>79</td>\n",
              "      <td>5.80</td>\n",
              "      <td>10</td>\n",
              "      <td>15.80</td>\n",
              "      <td>12.0</td>\n",
              "      <td>27.80</td>\n",
              "    </tr>\n",
              "  </tbody>\n",
              "</table>\n",
              "<p>79 rows × 6 columns</p>\n",
              "</div>"
            ],
            "text/plain": [
              "    S.No.  MTE (25)  Mini Project (25)  Total (50)  ETE (50)  Total\n",
              "0       1      5.00                 20       25.00      12.0  37.00\n",
              "1       2     11.05                 20       31.05      26.0  57.05\n",
              "2       3      8.10                 20       28.10      14.0  42.10\n",
              "3       4      6.00                 10       16.00      13.0  29.00\n",
              "4       5     11.35                 20       31.35      17.0  48.35\n",
              "..    ...       ...                ...         ...       ...    ...\n",
              "74     75     12.05                 10       22.05      20.0  42.05\n",
              "75     76     12.25                 10       22.25      28.0  50.25\n",
              "76     77      1.75                 10       11.75       NaN   0.00\n",
              "77     78      3.00                 10       13.00       NaN   0.00\n",
              "78     79      5.80                 10       15.80      12.0  27.80\n",
              "\n",
              "[79 rows x 6 columns]"
            ]
          },
          "execution_count": 40,
          "metadata": {},
          "output_type": "execute_result"
        }
      ],
      "source": [
        "table\n"
      ]
    },
    {
      "cell_type": "code",
      "execution_count": null,
      "id": "42f2586d-304a-4521-ad6d-c4a16715354e",
      "metadata": {
        "id": "42f2586d-304a-4521-ad6d-c4a16715354e"
      },
      "outputs": [],
      "source": [
        "# Calculating the total"
      ]
    },
    {
      "cell_type": "code",
      "execution_count": null,
      "id": "a7d9b3e9-61d6-445c-96b7-2a6e3940c0d8",
      "metadata": {
        "id": "a7d9b3e9-61d6-445c-96b7-2a6e3940c0d8"
      },
      "outputs": [],
      "source": [
        "x = table['Total']"
      ]
    },
    {
      "cell_type": "code",
      "execution_count": null,
      "id": "d11c8cff-9e7b-4b7c-89c6-463a10d6c938",
      "metadata": {
        "id": "d11c8cff-9e7b-4b7c-89c6-463a10d6c938"
      },
      "outputs": [],
      "source": [
        "# Finding the mean of the distribution"
      ]
    },
    {
      "cell_type": "code",
      "execution_count": null,
      "id": "a0c45463-018d-4ea5-b316-8dcde2603645",
      "metadata": {
        "id": "a0c45463-018d-4ea5-b316-8dcde2603645",
        "outputId": "ba43d481-45c2-45b6-9b66-cba6765a083d"
      },
      "outputs": [
        {
          "data": {
            "text/plain": [
              "0     37.00\n",
              "1     57.05\n",
              "2     42.10\n",
              "3     29.00\n",
              "4     48.35\n",
              "      ...  \n",
              "74    42.05\n",
              "75    50.25\n",
              "76     0.00\n",
              "77     0.00\n",
              "78    27.80\n",
              "Name: Total, Length: 79, dtype: float64"
            ]
          },
          "metadata": {},
          "output_type": "display_data"
        }
      ],
      "source": [
        "display(x)"
      ]
    },
    {
      "cell_type": "code",
      "execution_count": null,
      "id": "5d60320d-bf1c-46c8-a769-eba44c933b07",
      "metadata": {
        "id": "5d60320d-bf1c-46c8-a769-eba44c933b07",
        "outputId": "e2417dac-0f7b-43f7-b28e-e275cf73bec1"
      },
      "outputs": [
        {
          "name": "stdout",
          "output_type": "stream",
          "text": [
            "46.90632911392405\n"
          ]
        }
      ],
      "source": [
        "mean = np.mean(x)\n",
        "print(mean)"
      ]
    },
    {
      "cell_type": "code",
      "execution_count": null,
      "id": "02daa5a5-d508-40c5-8ee1-344456f53672",
      "metadata": {
        "id": "02daa5a5-d508-40c5-8ee1-344456f53672"
      },
      "outputs": [],
      "source": [
        "# calculating the median of the distribution"
      ]
    },
    {
      "cell_type": "code",
      "execution_count": null,
      "id": "357dfa3a-96c5-4a33-a5d3-2fe9df0b5a59",
      "metadata": {
        "id": "357dfa3a-96c5-4a33-a5d3-2fe9df0b5a59",
        "outputId": "a863b48b-bae2-4b36-a063-9ca334e29215"
      },
      "outputs": [
        {
          "name": "stdout",
          "output_type": "stream",
          "text": [
            "45.0\n"
          ]
        }
      ],
      "source": [
        "median = np.median(x)\n",
        "print(median)"
      ]
    },
    {
      "cell_type": "code",
      "execution_count": null,
      "id": "f9139024-936b-4ceb-9008-3bde28b0a39d",
      "metadata": {
        "id": "f9139024-936b-4ceb-9008-3bde28b0a39d"
      },
      "outputs": [],
      "source": [
        "# Calculation of the modal score"
      ]
    },
    {
      "cell_type": "code",
      "execution_count": null,
      "id": "478828d2-71d3-4667-ba63-5ad90bc572ff",
      "metadata": {
        "id": "478828d2-71d3-4667-ba63-5ad90bc572ff"
      },
      "outputs": [],
      "source": [
        "import scipy\n",
        "from scipy import stats\n"
      ]
    },
    {
      "cell_type": "code",
      "execution_count": null,
      "id": "b4985f6f-2f1a-45c3-a27f-74cc554487c6",
      "metadata": {
        "id": "b4985f6f-2f1a-45c3-a27f-74cc554487c6"
      },
      "outputs": [],
      "source": [
        "# Percentiles"
      ]
    },
    {
      "cell_type": "code",
      "execution_count": null,
      "id": "398bcb68-aac4-4b31-ae53-733dc8caaccd",
      "metadata": {
        "id": "398bcb68-aac4-4b31-ae53-733dc8caaccd",
        "outputId": "360e7c43-6172-41e9-b2eb-beb292cd3596"
      },
      "outputs": [
        {
          "name": "stdout",
          "output_type": "stream",
          "text": [
            "Q1 6.0\n",
            "Q2 10.0\n",
            "Q3 50.0\n"
          ]
        }
      ],
      "source": [
        "a = np.array([2,6,10,50,100])\n",
        "Q1 = np.percentile(a,25)\n",
        "Q2 = np.percentile(a,50)\n",
        "Q3 = np.percentile(a,75)\n",
        "print('Q1',Q1)\n",
        "print('Q2',Q2)\n",
        "print('Q3',Q3)"
      ]
    },
    {
      "cell_type": "code",
      "execution_count": null,
      "id": "f11541af-841a-4249-bcc8-34b2efb24631",
      "metadata": {
        "id": "f11541af-841a-4249-bcc8-34b2efb24631"
      },
      "outputs": [],
      "source": [
        "# Looping in python (for loop)"
      ]
    },
    {
      "cell_type": "code",
      "execution_count": null,
      "id": "dbb2cf92-23bd-409a-8658-b075e02fa223",
      "metadata": {
        "id": "dbb2cf92-23bd-409a-8658-b075e02fa223",
        "outputId": "5c3f0530-a3bb-46d9-8879-bcd9970be964"
      },
      "outputs": [
        {
          "data": {
            "text/plain": [
              "['man', 65, 23.67]"
            ]
          },
          "execution_count": 5,
          "metadata": {},
          "output_type": "execute_result"
        }
      ],
      "source": [
        "p = ['man', 65, 23.67]\n",
        "(p)"
      ]
    },
    {
      "cell_type": "code",
      "execution_count": null,
      "id": "eebd55fe-0717-4f66-b499-2ce085245377",
      "metadata": {
        "id": "eebd55fe-0717-4f66-b499-2ce085245377",
        "outputId": "8e219fc7-a15f-4ea1-f9ab-4adbcdcff042"
      },
      "outputs": [
        {
          "name": "stdout",
          "output_type": "stream",
          "text": [
            "man\n",
            "65\n",
            "23.67\n"
          ]
        }
      ],
      "source": [
        "for i in p:\n",
        "    print(i)"
      ]
    },
    {
      "cell_type": "code",
      "execution_count": null,
      "id": "3086d0b5-c567-45d6-9554-6dfe7c447ff8",
      "metadata": {
        "id": "3086d0b5-c567-45d6-9554-6dfe7c447ff8"
      },
      "outputs": [],
      "source": [
        "# printing a range, using minimum, maximum and increment"
      ]
    },
    {
      "cell_type": "code",
      "execution_count": null,
      "id": "41c39cd0-73ff-4857-aa76-1fd1d8978fb6",
      "metadata": {
        "id": "41c39cd0-73ff-4857-aa76-1fd1d8978fb6",
        "outputId": "7952b0cc-9637-47f4-9d2b-5bdcb37f032c"
      },
      "outputs": [
        {
          "name": "stdout",
          "output_type": "stream",
          "text": [
            "100\n",
            "200\n",
            "300\n",
            "400\n",
            "500\n",
            "600\n",
            "700\n",
            "800\n",
            "900\n"
          ]
        }
      ],
      "source": [
        "for i in range(100,1000,100):print(i)"
      ]
    },
    {
      "cell_type": "code",
      "execution_count": null,
      "id": "f5070077-940e-4028-986a-581e110c3c32",
      "metadata": {
        "id": "f5070077-940e-4028-986a-581e110c3c32",
        "outputId": "1c57fd6a-182d-4589-9eb7-932ebdf64e99"
      },
      "outputs": [
        {
          "name": "stdout",
          "output_type": "stream",
          "text": [
            "20,40,60,80,100,"
          ]
        }
      ],
      "source": [
        "for i in range(20,120,20):print(i, end=(',')) # using comma as the separator"
      ]
    },
    {
      "cell_type": "code",
      "execution_count": null,
      "id": "b1f845bf-04fb-4696-b338-a340844d2fd1",
      "metadata": {
        "id": "b1f845bf-04fb-4696-b338-a340844d2fd1"
      },
      "outputs": [],
      "source": [
        "# Functions in pytthon"
      ]
    },
    {
      "cell_type": "code",
      "execution_count": null,
      "id": "d18fdbf7-8635-416e-9de7-162d537e4b14",
      "metadata": {
        "id": "d18fdbf7-8635-416e-9de7-162d537e4b14"
      },
      "outputs": [],
      "source": [
        "#A simple greeting funtion"
      ]
    },
    {
      "cell_type": "code",
      "execution_count": null,
      "id": "08c367d1-920a-468c-aa19-76850974c8b7",
      "metadata": {
        "id": "08c367d1-920a-468c-aa19-76850974c8b7",
        "outputId": "8686f76a-aa2e-41f8-e5d5-ce812fb5495d"
      },
      "outputs": [
        {
          "name": "stdout",
          "output_type": "stream",
          "text": [
            "Hello\n",
            "Good morning\n"
          ]
        }
      ],
      "source": [
        "def greet():\n",
        "    print('Hello')\n",
        "    print('Good morning')\n",
        "greet()"
      ]
    },
    {
      "cell_type": "code",
      "execution_count": null,
      "id": "a94cf1ac-f198-49aa-8fa9-ece25236c93f",
      "metadata": {
        "id": "a94cf1ac-f198-49aa-8fa9-ece25236c93f"
      },
      "outputs": [],
      "source": [
        "# A function to sum two numbers"
      ]
    },
    {
      "cell_type": "code",
      "execution_count": null,
      "id": "2a32f866-108c-4396-bde5-fe9e1c168b17",
      "metadata": {
        "id": "2a32f866-108c-4396-bde5-fe9e1c168b17",
        "outputId": "a9234814-ff24-4deb-8c49-285d90c8c8d1"
      },
      "outputs": [
        {
          "data": {
            "text/plain": [
              "10"
            ]
          },
          "execution_count": 21,
          "metadata": {},
          "output_type": "execute_result"
        }
      ],
      "source": [
        "def sum(a,b):\n",
        "    c = a + b\n",
        "    return(c)\n",
        "sum(4,6)"
      ]
    },
    {
      "cell_type": "code",
      "execution_count": null,
      "id": "a8a1f4f6-4908-4340-a32a-81129fd01e63",
      "metadata": {
        "id": "a8a1f4f6-4908-4340-a32a-81129fd01e63"
      },
      "outputs": [],
      "source": [
        "# finding the minimum and maximum numbers in an array"
      ]
    },
    {
      "cell_type": "code",
      "execution_count": null,
      "id": "7863fbc7-db74-4f63-b88e-36e393b838dd",
      "metadata": {
        "id": "7863fbc7-db74-4f63-b88e-36e393b838dd",
        "outputId": "c074e238-49f1-4571-8a5a-40119d38ee78"
      },
      "outputs": [
        {
          "data": {
            "text/plain": [
              "(2, 100)"
            ]
          },
          "execution_count": 18,
          "metadata": {},
          "output_type": "execute_result"
        }
      ],
      "source": [
        "arr = [4,5,23,67,7,59,2,100,42]\n",
        "min(arr),max(arr)"
      ]
    },
    {
      "cell_type": "code",
      "execution_count": null,
      "id": "f95b3679-0dfb-48ee-913f-5a71a0d2905e",
      "metadata": {
        "id": "f95b3679-0dfb-48ee-913f-5a71a0d2905e"
      },
      "outputs": [],
      "source": [
        "# A function to generate the min and max values from a set of data"
      ]
    },
    {
      "cell_type": "code",
      "execution_count": null,
      "id": "367b86f3-e526-4692-9efe-040b0c5f3e1e",
      "metadata": {
        "id": "367b86f3-e526-4692-9efe-040b0c5f3e1e"
      },
      "outputs": [],
      "source": [
        "data = [70,95,2,5,7,4,89,50]\n",
        "def min_and_max(data):\n",
        "    min_val = min(data)\n",
        "    max_val = max(data)\n",
        "    return(min_val,max_val)"
      ]
    },
    {
      "cell_type": "code",
      "execution_count": null,
      "id": "faebdce7-050a-4ba5-85f9-48ccf22a4206",
      "metadata": {
        "id": "faebdce7-050a-4ba5-85f9-48ccf22a4206",
        "outputId": "6aca1f74-7b9e-45f8-99e0-09ad60a6fd33"
      },
      "outputs": [
        {
          "data": {
            "text/plain": [
              "(2, 95)"
            ]
          },
          "execution_count": 22,
          "metadata": {},
          "output_type": "execute_result"
        }
      ],
      "source": [
        "min_and_max(data)  # here, the function is called."
      ]
    },
    {
      "cell_type": "code",
      "execution_count": null,
      "id": "6ab5d743-aa9b-4128-9922-80e3f0463e1e",
      "metadata": {
        "id": "6ab5d743-aa9b-4128-9922-80e3f0463e1e"
      },
      "outputs": [],
      "source": [
        "def range(data):\n",
        "    min_val = min(data)\n",
        "    max_val = max(data)\n",
        "    return(max_val - min_val)"
      ]
    },
    {
      "cell_type": "code",
      "execution_count": null,
      "id": "504928ec-ac17-497f-90f4-0b2c1cd6778f",
      "metadata": {
        "id": "504928ec-ac17-497f-90f4-0b2c1cd6778f",
        "outputId": "d6c0b4f2-5477-4adb-bbfa-72bb2fb5dc4d"
      },
      "outputs": [
        {
          "data": {
            "text/plain": [
              "93"
            ]
          },
          "execution_count": 25,
          "metadata": {},
          "output_type": "execute_result"
        }
      ],
      "source": [
        "range(data)"
      ]
    },
    {
      "cell_type": "code",
      "execution_count": null,
      "id": "f3d94fa5-fc97-4dc5-894d-7a8b038b552f",
      "metadata": {
        "id": "f3d94fa5-fc97-4dc5-894d-7a8b038b552f"
      },
      "outputs": [],
      "source": [
        "import statistics"
      ]
    },
    {
      "cell_type": "code",
      "execution_count": null,
      "id": "b5270b8b-1873-4c58-aacd-bd7c8bcc96a3",
      "metadata": {
        "id": "b5270b8b-1873-4c58-aacd-bd7c8bcc96a3",
        "outputId": "9d0b138d-854d-4fa1-961e-f08a27161f70"
      },
      "outputs": [
        {
          "data": {
            "text/plain": [
              "40.25"
            ]
          },
          "execution_count": 42,
          "metadata": {},
          "output_type": "execute_result"
        }
      ],
      "source": [
        "statistics.mean(data)"
      ]
    },
    {
      "cell_type": "code",
      "execution_count": null,
      "id": "d2629e30-51de-48d4-b85f-906153d8f55d",
      "metadata": {
        "id": "d2629e30-51de-48d4-b85f-906153d8f55d",
        "outputId": "0b1d49c4-31ca-427c-c3e6-789b85edbfa9"
      },
      "outputs": [
        {
          "data": {
            "text/plain": [
              "40.4960315516048"
            ]
          },
          "execution_count": 44,
          "metadata": {},
          "output_type": "execute_result"
        }
      ],
      "source": [
        "statistics.stdev(data)"
      ]
    },
    {
      "cell_type": "code",
      "execution_count": null,
      "id": "9b9efc40-eac2-4fcb-9285-51cc10331c96",
      "metadata": {
        "id": "9b9efc40-eac2-4fcb-9285-51cc10331c96"
      },
      "outputs": [],
      "source": [
        "import matplotlib.pyplot as plt"
      ]
    },
    {
      "cell_type": "code",
      "execution_count": null,
      "id": "48c986c7-3c3a-4cee-8c65-82f4723ed6e6",
      "metadata": {
        "id": "48c986c7-3c3a-4cee-8c65-82f4723ed6e6"
      },
      "outputs": [],
      "source": []
    }
  ],
  "metadata": {
    "kernelspec": {
      "display_name": "Python 3 (ipykernel)",
      "language": "python",
      "name": "python3"
    },
    "language_info": {
      "codemirror_mode": {
        "name": "ipython",
        "version": 3
      },
      "file_extension": ".py",
      "mimetype": "text/x-python",
      "name": "python",
      "nbconvert_exporter": "python",
      "pygments_lexer": "ipython3",
      "version": "3.12.7"
    },
    "colab": {
      "provenance": [],
      "include_colab_link": true
    }
  },
  "nbformat": 4,
  "nbformat_minor": 5
}