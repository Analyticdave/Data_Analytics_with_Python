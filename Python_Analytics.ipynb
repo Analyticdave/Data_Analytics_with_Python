{
  "cells": [
    {
      "cell_type": "markdown",
      "metadata": {
        "id": "view-in-github",
        "colab_type": "text"
      },
      "source": [
        "<a href=\"https://colab.research.google.com/github/Analyticdave/Data_Analytics_with_Python/blob/main/Python_Analytics.ipynb\" target=\"_parent\"><img src=\"https://colab.research.google.com/assets/colab-badge.svg\" alt=\"Open In Colab\"/></a>"
      ]
    },
    {
      "cell_type": "code",
      "execution_count": 44,
      "metadata": {
        "id": "VW1ob1XtW9kA"
      },
      "outputs": [],
      "source": []
    },
    {
      "cell_type": "code",
      "execution_count": 45,
      "metadata": {
        "id": "YzkSMwmHXNXM"
      },
      "outputs": [],
      "source": [
        "p = print"
      ]
    },
    {
      "cell_type": "code",
      "execution_count": 46,
      "metadata": {
        "colab": {
          "base_uri": "https://localhost:8080/"
        },
        "id": "gLiuQE2RYXA2",
        "outputId": "6423633f-6009-4e32-9e3c-f0e616f9729e"
      },
      "outputs": [
        {
          "output_type": "stream",
          "name": "stdout",
          "text": [
            "God is great!\n"
          ]
        }
      ],
      "source": [
        "p('God is great!')"
      ]
    },
    {
      "cell_type": "code",
      "execution_count": 47,
      "metadata": {
        "id": "nwPbAs6vYdGc"
      },
      "outputs": [],
      "source": [
        "def greet():\n",
        "  return \"What's up, Data guru\""
      ]
    },
    {
      "cell_type": "code",
      "execution_count": 48,
      "metadata": {
        "colab": {
          "base_uri": "https://localhost:8080/",
          "height": 36
        },
        "id": "TVPY7HOLY75k",
        "outputId": "95e03719-ef0c-494d-8114-e2a90f70cae3"
      },
      "outputs": [
        {
          "output_type": "execute_result",
          "data": {
            "text/plain": [
              "\"What's up, Data guru\""
            ],
            "application/vnd.google.colaboratory.intrinsic+json": {
              "type": "string"
            }
          },
          "metadata": {},
          "execution_count": 48
        }
      ],
      "source": [
        "greet()"
      ]
    },
    {
      "cell_type": "code",
      "execution_count": 49,
      "metadata": {
        "id": "vBePPNbbY9Tl"
      },
      "outputs": [],
      "source": [
        "job_title = 'Data Scientist'\n",
        "Location = 'Nigeria'\n",
        "Salary = 1000000"
      ]
    },
    {
      "cell_type": "code",
      "execution_count": 50,
      "metadata": {
        "colab": {
          "base_uri": "https://localhost:8080/"
        },
        "id": "S4Gagdn-ab8V",
        "outputId": "127fee03-950c-4054-bd74-ff7e62738fe7"
      },
      "outputs": [
        {
          "output_type": "stream",
          "name": "stdout",
          "text": [
            "Job: Data Scientist\n",
            "Location: Nigeria\n",
            "Salary: 1000000\n"
          ]
        }
      ],
      "source": [
        "p(f\"Job: {job_title}\")\n",
        "p(f\"Location: {Location}\")\n",
        "p(f\"Salary: {Salary}\")"
      ]
    },
    {
      "cell_type": "code",
      "execution_count": 51,
      "metadata": {
        "id": "Wqwsd1jRa6Fv"
      },
      "outputs": [],
      "source": [
        "def info_show(job_title, Location, Salary):\n",
        "  p(f\"Job: {job_title}\")\n",
        "  p(f\"Location: {Location}\")\n",
        "  p(f\"Salary: {Salary}\")"
      ]
    },
    {
      "cell_type": "code",
      "execution_count": 52,
      "metadata": {
        "colab": {
          "base_uri": "https://localhost:8080/"
        },
        "id": "8fSkj7CrcRwF",
        "outputId": "2618e415-c95f-4c36-b0df-9abdba8d58ef"
      },
      "outputs": [
        {
          "output_type": "stream",
          "name": "stdout",
          "text": [
            "Job: Data Scientist\n",
            "Location: Nigeria\n",
            "Salary: 1000000\n"
          ]
        }
      ],
      "source": [
        "info_show(job_title, Location, Salary)"
      ]
    },
    {
      "cell_type": "code",
      "execution_count": 53,
      "metadata": {
        "id": "U5BG785EcaL2"
      },
      "outputs": [],
      "source": [
        "class JobPost:\n",
        "  def __init__(self, job_title, Location, Salary):\n",
        "    self.job_title = job_title\n",
        "    self.Location = Location\n",
        "    self.Salary = Salary"
      ]
    },
    {
      "cell_type": "code",
      "execution_count": 54,
      "metadata": {
        "colab": {
          "base_uri": "https://localhost:8080/"
        },
        "id": "bcauCLLocwF5",
        "outputId": "74938cb7-7cff-4946-bc94-fb1042fae785"
      },
      "outputs": [
        {
          "output_type": "execute_result",
          "data": {
            "text/plain": [
              "<__main__.JobPost at 0x7b87dcc8a6d0>"
            ]
          },
          "metadata": {},
          "execution_count": 54
        }
      ],
      "source": [
        "JobPost(job_title, Location, Salary)"
      ]
    },
    {
      "cell_type": "code",
      "execution_count": 55,
      "metadata": {
        "id": "Umigr_bEdbZN"
      },
      "outputs": [],
      "source": [
        "# Attrbutes: The variable of an object.\n",
        "# Attribute: is a field record, defined by a class"
      ]
    },
    {
      "cell_type": "code",
      "execution_count": 56,
      "metadata": {
        "id": "YadEcsiwfhGf"
      },
      "outputs": [],
      "source": [
        "Job_1 = JobPost(job_title, Location, Salary) # An instance of JobPost"
      ]
    },
    {
      "cell_type": "code",
      "execution_count": 57,
      "metadata": {
        "colab": {
          "base_uri": "https://localhost:8080/"
        },
        "id": "aE66ovLSfoUL",
        "outputId": "7a2ac1e6-ef8e-4d38-90dc-be2f4c16854b"
      },
      "outputs": [
        {
          "output_type": "execute_result",
          "data": {
            "text/plain": [
              "1000000"
            ]
          },
          "metadata": {},
          "execution_count": 57
        }
      ],
      "source": [
        "Job_1.Salary"
      ]
    },
    {
      "cell_type": "code",
      "execution_count": 58,
      "metadata": {
        "id": "dqkI6gEdfvM_"
      },
      "outputs": [],
      "source": [
        "# Methods: The function of an object\n",
        "# Method: A function defined inside a class that operates its object"
      ]
    },
    {
      "cell_type": "code",
      "execution_count": 59,
      "metadata": {
        "colab": {
          "base_uri": "https://localhost:8080/"
        },
        "id": "UXgt8TkjgRTU",
        "outputId": "1cab230c-6324-4fbe-87fc-a097f76e23f6"
      },
      "outputs": [
        {
          "output_type": "execute_result",
          "data": {
            "text/plain": [
              "1010000"
            ]
          },
          "metadata": {},
          "execution_count": 59
        }
      ],
      "source": [
        "Salary.__add__(10000)"
      ]
    },
    {
      "cell_type": "code",
      "execution_count": 60,
      "metadata": {
        "id": "C7bWEytdhAF3"
      },
      "outputs": [],
      "source": [
        "# Data type"
      ]
    },
    {
      "cell_type": "code",
      "execution_count": 60,
      "metadata": {
        "id": "ei-VGQY0hv11"
      },
      "outputs": [],
      "source": []
    },
    {
      "cell_type": "markdown",
      "metadata": {
        "id": "YAWYIMHXkB-G"
      },
      "source": [
        "### Python has several built-in data types:\n",
        "\n",
        ">> ***Numeric Types***\n",
        "1. Integers (int): whole numbers, e.g., 1, 2, 3, etc.\n",
        "2. Floating Point Numbers (float): decimal numbers, e.g., 3.14, -0.5, etc.\n",
        "3. Complex Numbers (complex): numbers with real and imaginary parts, e.g., 3 + 4j.\n",
        "\n",
        ">> __Sequence Types__\n",
        "1. Strings (str): sequences of characters, e.g., \"hello\", 'hello', etc. Strings can be enclosed in single quotes or double quotes.\n",
        "2. Lists (list): ordered collections of items, e.g., [1, 2, 3], [\"a\", \"b\", \"c\"], etc.\n",
        "3. Tuples (tuple): ordered, immutable collections of items, e.g., (1, 2, 3), (\"a\", \"b\", \"c\"), etc.\n",
        "\n",
        ">> ***Mapping Type***\n",
        "1. Dictionaries (dict): unordered collections of key-value pairs, e.g., {\"name\": \"John\", \"age\": 30}, etc.\n",
        "\n",
        ">> ***Set Types***\n",
        "1. Sets (set): unordered collections of unique items, e.g., {1, 2, 3}, {\"a\", \"b\", \"c\"}, etc.\n",
        "2. Frozensets (frozenset): immutable sets, e.g., frozenset({1, 2, 3}).\n",
        "\n",
        ">> ***Boolean Type***\n",
        "1. Boolean (bool): a logical value that can be either True or False.\n",
        "\n",
        ">> ***Binary Types***\n",
        "1. Bytes (bytes): sequences of integers in the range 0 <= x < 256, e.g., b'hello'.\n",
        "2. ByteArray (bytearray): mutable sequences of integers in the range 0 <= x < 256.\n",
        "3. MemoryView (memoryview): a view into an existing buffer, e.g., a bytes or bytearray object.\n",
        "\n",
        ">> ***None Type***\n",
        "1. None (NoneType): a special type with a single value, None, which represents the absence of a value.\n",
        "\n",
        "These are the basic data types in Python. Understanding these data types is essential for writing effective Python code."
      ]
    },
    {
      "cell_type": "code",
      "execution_count": 61,
      "metadata": {
        "id": "4xnB9mm2kGCH"
      },
      "outputs": [],
      "source": [
        "# Strings"
      ]
    },
    {
      "cell_type": "code",
      "execution_count": 62,
      "metadata": {
        "id": "lstkCfKDopoK",
        "colab": {
          "base_uri": "https://localhost:8080/"
        },
        "outputId": "43136c06-45ba-42c4-cd0d-94cbf1d9e1bf"
      },
      "outputs": [
        {
          "output_type": "stream",
          "name": "stdout",
          "text": [
            "Help on class str in module builtins:\n",
            "\n",
            "class str(object)\n",
            " |  str(object='') -> str\n",
            " |  str(bytes_or_buffer[, encoding[, errors]]) -> str\n",
            " |  \n",
            " |  Create a new string object from the given object. If encoding or\n",
            " |  errors is specified, then the object must expose a data buffer\n",
            " |  that will be decoded using the given encoding and error handler.\n",
            " |  Otherwise, returns the result of object.__str__() (if defined)\n",
            " |  or repr(object).\n",
            " |  encoding defaults to sys.getdefaultencoding().\n",
            " |  errors defaults to 'strict'.\n",
            " |  \n",
            " |  Methods defined here:\n",
            " |  \n",
            " |  __add__(self, value, /)\n",
            " |      Return self+value.\n",
            " |  \n",
            " |  __contains__(self, key, /)\n",
            " |      Return key in self.\n",
            " |  \n",
            " |  __eq__(self, value, /)\n",
            " |      Return self==value.\n",
            " |  \n",
            " |  __format__(self, format_spec, /)\n",
            " |      Return a formatted version of the string as described by format_spec.\n",
            " |  \n",
            " |  __ge__(self, value, /)\n",
            " |      Return self>=value.\n",
            " |  \n",
            " |  __getattribute__(self, name, /)\n",
            " |      Return getattr(self, name).\n",
            " |  \n",
            " |  __getitem__(self, key, /)\n",
            " |      Return self[key].\n",
            " |  \n",
            " |  __getnewargs__(...)\n",
            " |  \n",
            " |  __gt__(self, value, /)\n",
            " |      Return self>value.\n",
            " |  \n",
            " |  __hash__(self, /)\n",
            " |      Return hash(self).\n",
            " |  \n",
            " |  __iter__(self, /)\n",
            " |      Implement iter(self).\n",
            " |  \n",
            " |  __le__(self, value, /)\n",
            " |      Return self<=value.\n",
            " |  \n",
            " |  __len__(self, /)\n",
            " |      Return len(self).\n",
            " |  \n",
            " |  __lt__(self, value, /)\n",
            " |      Return self<value.\n",
            " |  \n",
            " |  __mod__(self, value, /)\n",
            " |      Return self%value.\n",
            " |  \n",
            " |  __mul__(self, value, /)\n",
            " |      Return self*value.\n",
            " |  \n",
            " |  __ne__(self, value, /)\n",
            " |      Return self!=value.\n",
            " |  \n",
            " |  __repr__(self, /)\n",
            " |      Return repr(self).\n",
            " |  \n",
            " |  __rmod__(self, value, /)\n",
            " |      Return value%self.\n",
            " |  \n",
            " |  __rmul__(self, value, /)\n",
            " |      Return value*self.\n",
            " |  \n",
            " |  __sizeof__(self, /)\n",
            " |      Return the size of the string in memory, in bytes.\n",
            " |  \n",
            " |  __str__(self, /)\n",
            " |      Return str(self).\n",
            " |  \n",
            " |  capitalize(self, /)\n",
            " |      Return a capitalized version of the string.\n",
            " |      \n",
            " |      More specifically, make the first character have upper case and the rest lower\n",
            " |      case.\n",
            " |  \n",
            " |  casefold(self, /)\n",
            " |      Return a version of the string suitable for caseless comparisons.\n",
            " |  \n",
            " |  center(self, width, fillchar=' ', /)\n",
            " |      Return a centered string of length width.\n",
            " |      \n",
            " |      Padding is done using the specified fill character (default is a space).\n",
            " |  \n",
            " |  count(...)\n",
            " |      S.count(sub[, start[, end]]) -> int\n",
            " |      \n",
            " |      Return the number of non-overlapping occurrences of substring sub in\n",
            " |      string S[start:end].  Optional arguments start and end are\n",
            " |      interpreted as in slice notation.\n",
            " |  \n",
            " |  encode(self, /, encoding='utf-8', errors='strict')\n",
            " |      Encode the string using the codec registered for encoding.\n",
            " |      \n",
            " |      encoding\n",
            " |        The encoding in which to encode the string.\n",
            " |      errors\n",
            " |        The error handling scheme to use for encoding errors.\n",
            " |        The default is 'strict' meaning that encoding errors raise a\n",
            " |        UnicodeEncodeError.  Other possible values are 'ignore', 'replace' and\n",
            " |        'xmlcharrefreplace' as well as any other name registered with\n",
            " |        codecs.register_error that can handle UnicodeEncodeErrors.\n",
            " |  \n",
            " |  endswith(...)\n",
            " |      S.endswith(suffix[, start[, end]]) -> bool\n",
            " |      \n",
            " |      Return True if S ends with the specified suffix, False otherwise.\n",
            " |      With optional start, test S beginning at that position.\n",
            " |      With optional end, stop comparing S at that position.\n",
            " |      suffix can also be a tuple of strings to try.\n",
            " |  \n",
            " |  expandtabs(self, /, tabsize=8)\n",
            " |      Return a copy where all tab characters are expanded using spaces.\n",
            " |      \n",
            " |      If tabsize is not given, a tab size of 8 characters is assumed.\n",
            " |  \n",
            " |  find(...)\n",
            " |      S.find(sub[, start[, end]]) -> int\n",
            " |      \n",
            " |      Return the lowest index in S where substring sub is found,\n",
            " |      such that sub is contained within S[start:end].  Optional\n",
            " |      arguments start and end are interpreted as in slice notation.\n",
            " |      \n",
            " |      Return -1 on failure.\n",
            " |  \n",
            " |  format(...)\n",
            " |      S.format(*args, **kwargs) -> str\n",
            " |      \n",
            " |      Return a formatted version of S, using substitutions from args and kwargs.\n",
            " |      The substitutions are identified by braces ('{' and '}').\n",
            " |  \n",
            " |  format_map(...)\n",
            " |      S.format_map(mapping) -> str\n",
            " |      \n",
            " |      Return a formatted version of S, using substitutions from mapping.\n",
            " |      The substitutions are identified by braces ('{' and '}').\n",
            " |  \n",
            " |  index(...)\n",
            " |      S.index(sub[, start[, end]]) -> int\n",
            " |      \n",
            " |      Return the lowest index in S where substring sub is found,\n",
            " |      such that sub is contained within S[start:end].  Optional\n",
            " |      arguments start and end are interpreted as in slice notation.\n",
            " |      \n",
            " |      Raises ValueError when the substring is not found.\n",
            " |  \n",
            " |  isalnum(self, /)\n",
            " |      Return True if the string is an alpha-numeric string, False otherwise.\n",
            " |      \n",
            " |      A string is alpha-numeric if all characters in the string are alpha-numeric and\n",
            " |      there is at least one character in the string.\n",
            " |  \n",
            " |  isalpha(self, /)\n",
            " |      Return True if the string is an alphabetic string, False otherwise.\n",
            " |      \n",
            " |      A string is alphabetic if all characters in the string are alphabetic and there\n",
            " |      is at least one character in the string.\n",
            " |  \n",
            " |  isascii(self, /)\n",
            " |      Return True if all characters in the string are ASCII, False otherwise.\n",
            " |      \n",
            " |      ASCII characters have code points in the range U+0000-U+007F.\n",
            " |      Empty string is ASCII too.\n",
            " |  \n",
            " |  isdecimal(self, /)\n",
            " |      Return True if the string is a decimal string, False otherwise.\n",
            " |      \n",
            " |      A string is a decimal string if all characters in the string are decimal and\n",
            " |      there is at least one character in the string.\n",
            " |  \n",
            " |  isdigit(self, /)\n",
            " |      Return True if the string is a digit string, False otherwise.\n",
            " |      \n",
            " |      A string is a digit string if all characters in the string are digits and there\n",
            " |      is at least one character in the string.\n",
            " |  \n",
            " |  isidentifier(self, /)\n",
            " |      Return True if the string is a valid Python identifier, False otherwise.\n",
            " |      \n",
            " |      Call keyword.iskeyword(s) to test whether string s is a reserved identifier,\n",
            " |      such as \"def\" or \"class\".\n",
            " |  \n",
            " |  islower(self, /)\n",
            " |      Return True if the string is a lowercase string, False otherwise.\n",
            " |      \n",
            " |      A string is lowercase if all cased characters in the string are lowercase and\n",
            " |      there is at least one cased character in the string.\n",
            " |  \n",
            " |  isnumeric(self, /)\n",
            " |      Return True if the string is a numeric string, False otherwise.\n",
            " |      \n",
            " |      A string is numeric if all characters in the string are numeric and there is at\n",
            " |      least one character in the string.\n",
            " |  \n",
            " |  isprintable(self, /)\n",
            " |      Return True if the string is printable, False otherwise.\n",
            " |      \n",
            " |      A string is printable if all of its characters are considered printable in\n",
            " |      repr() or if it is empty.\n",
            " |  \n",
            " |  isspace(self, /)\n",
            " |      Return True if the string is a whitespace string, False otherwise.\n",
            " |      \n",
            " |      A string is whitespace if all characters in the string are whitespace and there\n",
            " |      is at least one character in the string.\n",
            " |  \n",
            " |  istitle(self, /)\n",
            " |      Return True if the string is a title-cased string, False otherwise.\n",
            " |      \n",
            " |      In a title-cased string, upper- and title-case characters may only\n",
            " |      follow uncased characters and lowercase characters only cased ones.\n",
            " |  \n",
            " |  isupper(self, /)\n",
            " |      Return True if the string is an uppercase string, False otherwise.\n",
            " |      \n",
            " |      A string is uppercase if all cased characters in the string are uppercase and\n",
            " |      there is at least one cased character in the string.\n",
            " |  \n",
            " |  join(self, iterable, /)\n",
            " |      Concatenate any number of strings.\n",
            " |      \n",
            " |      The string whose method is called is inserted in between each given string.\n",
            " |      The result is returned as a new string.\n",
            " |      \n",
            " |      Example: '.'.join(['ab', 'pq', 'rs']) -> 'ab.pq.rs'\n",
            " |  \n",
            " |  ljust(self, width, fillchar=' ', /)\n",
            " |      Return a left-justified string of length width.\n",
            " |      \n",
            " |      Padding is done using the specified fill character (default is a space).\n",
            " |  \n",
            " |  lower(self, /)\n",
            " |      Return a copy of the string converted to lowercase.\n",
            " |  \n",
            " |  lstrip(self, chars=None, /)\n",
            " |      Return a copy of the string with leading whitespace removed.\n",
            " |      \n",
            " |      If chars is given and not None, remove characters in chars instead.\n",
            " |  \n",
            " |  partition(self, sep, /)\n",
            " |      Partition the string into three parts using the given separator.\n",
            " |      \n",
            " |      This will search for the separator in the string.  If the separator is found,\n",
            " |      returns a 3-tuple containing the part before the separator, the separator\n",
            " |      itself, and the part after it.\n",
            " |      \n",
            " |      If the separator is not found, returns a 3-tuple containing the original string\n",
            " |      and two empty strings.\n",
            " |  \n",
            " |  removeprefix(self, prefix, /)\n",
            " |      Return a str with the given prefix string removed if present.\n",
            " |      \n",
            " |      If the string starts with the prefix string, return string[len(prefix):].\n",
            " |      Otherwise, return a copy of the original string.\n",
            " |  \n",
            " |  removesuffix(self, suffix, /)\n",
            " |      Return a str with the given suffix string removed if present.\n",
            " |      \n",
            " |      If the string ends with the suffix string and that suffix is not empty,\n",
            " |      return string[:-len(suffix)]. Otherwise, return a copy of the original\n",
            " |      string.\n",
            " |  \n",
            " |  replace(self, old, new, count=-1, /)\n",
            " |      Return a copy with all occurrences of substring old replaced by new.\n",
            " |      \n",
            " |        count\n",
            " |          Maximum number of occurrences to replace.\n",
            " |          -1 (the default value) means replace all occurrences.\n",
            " |      \n",
            " |      If the optional argument count is given, only the first count occurrences are\n",
            " |      replaced.\n",
            " |  \n",
            " |  rfind(...)\n",
            " |      S.rfind(sub[, start[, end]]) -> int\n",
            " |      \n",
            " |      Return the highest index in S where substring sub is found,\n",
            " |      such that sub is contained within S[start:end].  Optional\n",
            " |      arguments start and end are interpreted as in slice notation.\n",
            " |      \n",
            " |      Return -1 on failure.\n",
            " |  \n",
            " |  rindex(...)\n",
            " |      S.rindex(sub[, start[, end]]) -> int\n",
            " |      \n",
            " |      Return the highest index in S where substring sub is found,\n",
            " |      such that sub is contained within S[start:end].  Optional\n",
            " |      arguments start and end are interpreted as in slice notation.\n",
            " |      \n",
            " |      Raises ValueError when the substring is not found.\n",
            " |  \n",
            " |  rjust(self, width, fillchar=' ', /)\n",
            " |      Return a right-justified string of length width.\n",
            " |      \n",
            " |      Padding is done using the specified fill character (default is a space).\n",
            " |  \n",
            " |  rpartition(self, sep, /)\n",
            " |      Partition the string into three parts using the given separator.\n",
            " |      \n",
            " |      This will search for the separator in the string, starting at the end. If\n",
            " |      the separator is found, returns a 3-tuple containing the part before the\n",
            " |      separator, the separator itself, and the part after it.\n",
            " |      \n",
            " |      If the separator is not found, returns a 3-tuple containing two empty strings\n",
            " |      and the original string.\n",
            " |  \n",
            " |  rsplit(self, /, sep=None, maxsplit=-1)\n",
            " |      Return a list of the substrings in the string, using sep as the separator string.\n",
            " |      \n",
            " |        sep\n",
            " |          The separator used to split the string.\n",
            " |      \n",
            " |          When set to None (the default value), will split on any whitespace\n",
            " |          character (including \\n \\r \\t \\f and spaces) and will discard\n",
            " |          empty strings from the result.\n",
            " |        maxsplit\n",
            " |          Maximum number of splits.\n",
            " |          -1 (the default value) means no limit.\n",
            " |      \n",
            " |      Splitting starts at the end of the string and works to the front.\n",
            " |  \n",
            " |  rstrip(self, chars=None, /)\n",
            " |      Return a copy of the string with trailing whitespace removed.\n",
            " |      \n",
            " |      If chars is given and not None, remove characters in chars instead.\n",
            " |  \n",
            " |  split(self, /, sep=None, maxsplit=-1)\n",
            " |      Return a list of the substrings in the string, using sep as the separator string.\n",
            " |      \n",
            " |        sep\n",
            " |          The separator used to split the string.\n",
            " |      \n",
            " |          When set to None (the default value), will split on any whitespace\n",
            " |          character (including \\n \\r \\t \\f and spaces) and will discard\n",
            " |          empty strings from the result.\n",
            " |        maxsplit\n",
            " |          Maximum number of splits.\n",
            " |          -1 (the default value) means no limit.\n",
            " |      \n",
            " |      Splitting starts at the front of the string and works to the end.\n",
            " |      \n",
            " |      Note, str.split() is mainly useful for data that has been intentionally\n",
            " |      delimited.  With natural text that includes punctuation, consider using\n",
            " |      the regular expression module.\n",
            " |  \n",
            " |  splitlines(self, /, keepends=False)\n",
            " |      Return a list of the lines in the string, breaking at line boundaries.\n",
            " |      \n",
            " |      Line breaks are not included in the resulting list unless keepends is given and\n",
            " |      true.\n",
            " |  \n",
            " |  startswith(...)\n",
            " |      S.startswith(prefix[, start[, end]]) -> bool\n",
            " |      \n",
            " |      Return True if S starts with the specified prefix, False otherwise.\n",
            " |      With optional start, test S beginning at that position.\n",
            " |      With optional end, stop comparing S at that position.\n",
            " |      prefix can also be a tuple of strings to try.\n",
            " |  \n",
            " |  strip(self, chars=None, /)\n",
            " |      Return a copy of the string with leading and trailing whitespace removed.\n",
            " |      \n",
            " |      If chars is given and not None, remove characters in chars instead.\n",
            " |  \n",
            " |  swapcase(self, /)\n",
            " |      Convert uppercase characters to lowercase and lowercase characters to uppercase.\n",
            " |  \n",
            " |  title(self, /)\n",
            " |      Return a version of the string where each word is titlecased.\n",
            " |      \n",
            " |      More specifically, words start with uppercased characters and all remaining\n",
            " |      cased characters have lower case.\n",
            " |  \n",
            " |  translate(self, table, /)\n",
            " |      Replace each character in the string using the given translation table.\n",
            " |      \n",
            " |        table\n",
            " |          Translation table, which must be a mapping of Unicode ordinals to\n",
            " |          Unicode ordinals, strings, or None.\n",
            " |      \n",
            " |      The table must implement lookup/indexing via __getitem__, for instance a\n",
            " |      dictionary or list.  If this operation raises LookupError, the character is\n",
            " |      left untouched.  Characters mapped to None are deleted.\n",
            " |  \n",
            " |  upper(self, /)\n",
            " |      Return a copy of the string converted to uppercase.\n",
            " |  \n",
            " |  zfill(self, width, /)\n",
            " |      Pad a numeric string with zeros on the left, to fill a field of the given width.\n",
            " |      \n",
            " |      The string is never truncated.\n",
            " |  \n",
            " |  ----------------------------------------------------------------------\n",
            " |  Static methods defined here:\n",
            " |  \n",
            " |  __new__(*args, **kwargs)\n",
            " |      Create and return a new object.  See help(type) for accurate signature.\n",
            " |  \n",
            " |  maketrans(...)\n",
            " |      Return a translation table usable for str.translate().\n",
            " |      \n",
            " |      If there is only one argument, it must be a dictionary mapping Unicode\n",
            " |      ordinals (integers) or characters to Unicode ordinals, strings or None.\n",
            " |      Character keys will be then converted to ordinals.\n",
            " |      If there are two arguments, they must be strings of equal length, and\n",
            " |      in the resulting dictionary, each character in x will be mapped to the\n",
            " |      character at the same position in y. If there is a third argument, it\n",
            " |      must be a string, whose characters will be mapped to None in the result.\n",
            "\n"
          ]
        }
      ],
      "source": [
        "help(str)"
      ]
    },
    {
      "cell_type": "code",
      "execution_count": 63,
      "metadata": {
        "id": "cSp3u2Efo3c-"
      },
      "outputs": [],
      "source": [
        "Skill = 'Python'"
      ]
    },
    {
      "cell_type": "code",
      "execution_count": 64,
      "metadata": {
        "colab": {
          "base_uri": "https://localhost:8080/",
          "height": 36
        },
        "id": "WiIy48R5p5Ws",
        "outputId": "c9a65566-3e4b-4b20-dc7e-0292917fcf91"
      },
      "outputs": [
        {
          "output_type": "execute_result",
          "data": {
            "text/plain": [
              "'PYTHON'"
            ],
            "application/vnd.google.colaboratory.intrinsic+json": {
              "type": "string"
            }
          },
          "metadata": {},
          "execution_count": 64
        }
      ],
      "source": [
        "Skill.upper()"
      ]
    },
    {
      "cell_type": "code",
      "execution_count": 65,
      "metadata": {
        "colab": {
          "base_uri": "https://localhost:8080/",
          "height": 36
        },
        "id": "NW3mC3mSqT02",
        "outputId": "fb45683f-335f-4f95-d734-cfa2322f5802"
      },
      "outputs": [
        {
          "output_type": "execute_result",
          "data": {
            "text/plain": [
              "'python'"
            ],
            "application/vnd.google.colaboratory.intrinsic+json": {
              "type": "string"
            }
          },
          "metadata": {},
          "execution_count": 65
        }
      ],
      "source": [
        "Skill.lower()"
      ]
    },
    {
      "cell_type": "code",
      "execution_count": 66,
      "metadata": {
        "colab": {
          "base_uri": "https://localhost:8080/",
          "height": 36
        },
        "id": "KjftnfpsqxlY",
        "outputId": "c0e5758a-696b-4b8d-b5f7-16eaaa775dad"
      },
      "outputs": [
        {
          "output_type": "execute_result",
          "data": {
            "text/plain": [
              "'Python Programming'"
            ],
            "application/vnd.google.colaboratory.intrinsic+json": {
              "type": "string"
            }
          },
          "metadata": {},
          "execution_count": 66
        }
      ],
      "source": [
        "Skill.__add__(' Programming')"
      ]
    },
    {
      "cell_type": "code",
      "execution_count": 67,
      "metadata": {
        "colab": {
          "base_uri": "https://localhost:8080/",
          "height": 36
        },
        "id": "VOg0OUDSq-Z7",
        "outputId": "7f2b076a-a322-4d92-dcf0-124e951647d7"
      },
      "outputs": [
        {
          "output_type": "execute_result",
          "data": {
            "text/plain": [
              "'Dython'"
            ],
            "application/vnd.google.colaboratory.intrinsic+json": {
              "type": "string"
            }
          },
          "metadata": {},
          "execution_count": 67
        }
      ],
      "source": [
        "Skill.replace('P','D',2)"
      ]
    },
    {
      "cell_type": "code",
      "execution_count": 68,
      "metadata": {
        "id": "hVh5vzfLtvon"
      },
      "outputs": [],
      "source": [
        "Skill = 'Python Programming'"
      ]
    },
    {
      "cell_type": "code",
      "execution_count": 69,
      "metadata": {
        "colab": {
          "base_uri": "https://localhost:8080/",
          "height": 36
        },
        "id": "O-K_UE43uGbf",
        "outputId": "9df2ae33-1389-4ec4-b196-cf760ff35ec4"
      },
      "outputs": [
        {
          "output_type": "execute_result",
          "data": {
            "text/plain": [
              "'Python Programming'"
            ],
            "application/vnd.google.colaboratory.intrinsic+json": {
              "type": "string"
            }
          },
          "metadata": {},
          "execution_count": 69
        }
      ],
      "source": [
        "Skill"
      ]
    },
    {
      "cell_type": "code",
      "execution_count": 70,
      "metadata": {
        "colab": {
          "base_uri": "https://localhost:8080/"
        },
        "id": "PJ908duyuQCw",
        "outputId": "fc056cdd-1d2c-45e5-d776-b92230ed48cd"
      },
      "outputs": [
        {
          "output_type": "execute_result",
          "data": {
            "text/plain": [
              "['Python', 'Programming']"
            ]
          },
          "metadata": {},
          "execution_count": 70
        }
      ],
      "source": [
        "Skill.split(sep=' ', maxsplit= 1)"
      ]
    },
    {
      "cell_type": "code",
      "execution_count": 71,
      "metadata": {
        "id": "LHckLzd4vAxo"
      },
      "outputs": [],
      "source": [
        "Fun = 'Data Analytics' + ' is fun!'"
      ]
    },
    {
      "cell_type": "code",
      "execution_count": 72,
      "metadata": {
        "colab": {
          "base_uri": "https://localhost:8080/",
          "height": 36
        },
        "id": "ylegzvbhwNW1",
        "outputId": "10d7b115-a584-4482-b108-dff1d8a6f465"
      },
      "outputs": [
        {
          "output_type": "execute_result",
          "data": {
            "text/plain": [
              "'Data Analytics is fun!'"
            ],
            "application/vnd.google.colaboratory.intrinsic+json": {
              "type": "string"
            }
          },
          "metadata": {},
          "execution_count": 72
        }
      ],
      "source": [
        "Fun"
      ]
    },
    {
      "cell_type": "code",
      "execution_count": 73,
      "metadata": {
        "colab": {
          "base_uri": "https://localhost:8080/",
          "height": 71
        },
        "id": "wMaXNpf0wfRz",
        "outputId": "2d3decfe-c6a1-49cd-ab34-380276b9753e"
      },
      "outputs": [
        {
          "output_type": "execute_result",
          "data": {
            "text/plain": [
              "'Data Analytics is fun!Data Analytics is fun!Data Analytics is fun!Data Analytics is fun!Data Analytics is fun!Data Analytics is fun!Data Analytics is fun!Data Analytics is fun!Data Analytics is fun!Data Analytics is fun!'"
            ],
            "application/vnd.google.colaboratory.intrinsic+json": {
              "type": "string"
            }
          },
          "metadata": {},
          "execution_count": 73
        }
      ],
      "source": [
        "Fun * 10"
      ]
    },
    {
      "cell_type": "code",
      "execution_count": 74,
      "metadata": {
        "colab": {
          "base_uri": "https://localhost:8080/"
        },
        "id": "ipZ4ZkIIwh04",
        "outputId": "4497b3fd-6644-4daa-a474-44e530367e49"
      },
      "outputs": [
        {
          "output_type": "execute_result",
          "data": {
            "text/plain": [
              "22"
            ]
          },
          "metadata": {},
          "execution_count": 74
        }
      ],
      "source": [
        "len(Fun)"
      ]
    },
    {
      "cell_type": "code",
      "execution_count": 75,
      "metadata": {
        "id": "zyUaVQBmxIUu"
      },
      "outputs": [],
      "source": [
        "# String Formating"
      ]
    },
    {
      "cell_type": "code",
      "execution_count": 75,
      "metadata": {
        "id": "Om5e119zzMUA"
      },
      "outputs": [],
      "source": []
    },
    {
      "cell_type": "markdown",
      "metadata": {
        "id": "vbmgojLszNkC"
      },
      "source": [
        "***String formatting in Python is a way to insert values into a string. There are several ways to format strings in Python:***\n",
        "\n",
        "1. *Using the % Operator*\n",
        "This is an older way of formatting strings. It's not as powerful as other methods, but it's still widely used.\n",
        "\n",
        "\n",
        "name = \"John\"\n",
        "age = 30\n",
        "print(\"My name is %s and I am %d years old.\" % (name, age))\n",
        "\n",
        "\n",
        "2. *Using the str.format() Method*\n",
        "This method is more powerful than the % operator. It allows you to specify the format of the values.\n",
        "\n",
        "\n",
        "name = \"John\"\n",
        "age = 30\n",
        "print(\"My name is {} and I am {} years old.\".format(name, age))\n",
        "\n",
        "\n",
        "You can also specify the format of the values:\n",
        "\n",
        "\n",
        "pi = 3.14159265359\n",
        "print(\"The value of pi is {:.2f}\".format(pi))\n",
        "\n",
        "\n",
        "3. Using F-Strings (Formatted String Literals)\n",
        "F-strings are a new way of formatting strings in Python, introduced in version 3.6. They are more readable and convenient than other methods.\n",
        "\n",
        "\n",
        "name = \"John\"\n",
        "age = 30\n",
        "print(f\"My name is {name} and I am {age} years old.\")\n",
        "\n",
        "\n",
        "You can also specify the format of the values:\n",
        "\n",
        "\n",
        "pi = 3.14159265359\n",
        "print(f\"The value of pi is {pi:.2f}\")\n",
        "\n",
        "\n",
        "String Formatting Options\n",
        "Here are some common string formatting options:\n",
        "\n",
        "- d or i: decimal integer\n",
        "- f: fixed-point number\n",
        "- e: exponential notation\n",
        "- g: general format (fixed or exponential notation)\n",
        "- s: string\n",
        "- x or X: hexadecimal integer\n",
        "\n",
        "You can also specify the precision and width of the formatted value:\n",
        "\n",
        "\n",
        "pi = 3.14159265359\n",
        "print(f\"The value of pi is {pi:10.2f}\")  # width 10, precision 2\n",
        "\n",
        "\n",
        "Examples\n",
        "Here are some more examples of string formatting:\n",
        "\n",
        "\n",
        "# formatting integers\n",
        "x = 123\n",
        "print(f\"The value of x is {x:04d}\")  # zero-padding\n",
        "\n",
        "# formatting floats\n",
        "pi = 3.14159265359\n",
        "print(f\"The value of pi is {pi:.2e}\")  # exponential notation\n",
        "\n",
        "# formatting strings\n",
        "name = \"John\"\n",
        "print(f\"Hello, {name.upper()}!\")  # uppercase\n",
        "\n",
        "\n",
        "These are just a few examples of string formatting in Python. You can use these techniques to create complex and formatted strings."
      ]
    },
    {
      "cell_type": "code",
      "execution_count": 76,
      "metadata": {
        "id": "P0J4jMipzg5C"
      },
      "outputs": [],
      "source": [
        "Language = 'Python'\n",
        "User = 'Data Analyst'"
      ]
    },
    {
      "cell_type": "code",
      "execution_count": 77,
      "metadata": {
        "colab": {
          "base_uri": "https://localhost:8080/",
          "height": 36
        },
        "id": "tKUV8vP20U4r",
        "outputId": "dc20792b-a1e4-48fc-e514-1d65a8ad3abc"
      },
      "outputs": [
        {
          "output_type": "execute_result",
          "data": {
            "text/plain": [
              "' Language: Python'"
            ],
            "application/vnd.google.colaboratory.intrinsic+json": {
              "type": "string"
            }
          },
          "metadata": {},
          "execution_count": 77
        }
      ],
      "source": [
        "' Language: ' + Language"
      ]
    },
    {
      "cell_type": "code",
      "execution_count": 78,
      "metadata": {
        "colab": {
          "base_uri": "https://localhost:8080/",
          "height": 36
        },
        "id": "WCboPyGP0wBJ",
        "outputId": "f6328bd9-4147-4026-ce13-edeff045f41e"
      },
      "outputs": [
        {
          "output_type": "execute_result",
          "data": {
            "text/plain": [
              "'User: Data Analyst'"
            ],
            "application/vnd.google.colaboratory.intrinsic+json": {
              "type": "string"
            }
          },
          "metadata": {},
          "execution_count": 78
        }
      ],
      "source": [
        "'User: ' + User"
      ]
    },
    {
      "cell_type": "code",
      "execution_count": 79,
      "metadata": {
        "colab": {
          "base_uri": "https://localhost:8080/",
          "height": 36
        },
        "id": "Me2bjcVh06C_",
        "outputId": "e5d27285-42ff-407b-dcac-c8f9ad94d792"
      },
      "outputs": [
        {
          "output_type": "execute_result",
          "data": {
            "text/plain": [
              "'Language: Python'"
            ],
            "application/vnd.google.colaboratory.intrinsic+json": {
              "type": "string"
            }
          },
          "metadata": {},
          "execution_count": 79
        }
      ],
      "source": [
        "# format(...)\n",
        "#  |      S.format(*args, **kwargs) -> str\n",
        "#  |\n",
        "#  |      Return a formatted version of S, using substitutions from args and kwargs.\n",
        "#  |      The substitutions are identified by braces ('{' and '}').\n",
        "\n",
        "#  | creating a string with Language \"Python\"\n",
        "Language = 'Python'\n",
        "User = 'Data Analyst'\n",
        "\n",
        "'Language: {}'.format(Language)\n"
      ]
    },
    {
      "cell_type": "code",
      "execution_count": 80,
      "metadata": {
        "colab": {
          "base_uri": "https://localhost:8080/",
          "height": 36
        },
        "id": "BYJYqLDm2aZo",
        "outputId": "3ba10ad7-6d85-4555-e71d-77be62f998b0"
      },
      "outputs": [
        {
          "output_type": "execute_result",
          "data": {
            "text/plain": [
              "'User: Data Analyst'"
            ],
            "application/vnd.google.colaboratory.intrinsic+json": {
              "type": "string"
            }
          },
          "metadata": {},
          "execution_count": 80
        }
      ],
      "source": [
        "#  | Creating a string with user \"Data Analysyt\"\n",
        "Language = 'Python'\n",
        "User = 'Data Analyst'\n",
        "\n",
        "'User: {}'.format(User)"
      ]
    },
    {
      "cell_type": "code",
      "execution_count": 81,
      "metadata": {
        "colab": {
          "base_uri": "https://localhost:8080/",
          "height": 36
        },
        "id": "ORNIenl4Efm7",
        "outputId": "1efdb4f6-2570-4e13-8457-81d643d68de2"
      },
      "outputs": [
        {
          "output_type": "execute_result",
          "data": {
            "text/plain": [
              "'Programming Language: Python; User: Data Analyst'"
            ],
            "application/vnd.google.colaboratory.intrinsic+json": {
              "type": "string"
            }
          },
          "metadata": {},
          "execution_count": 81
        }
      ],
      "source": [
        "#  | Combinning both Language and User in the String format\n",
        "Language = 'Python'\n",
        "User = 'Data Analyst'\n",
        "\n",
        "'Programming Language: {}; User: {}'.format(Language, User)"
      ]
    },
    {
      "cell_type": "code",
      "execution_count": 82,
      "metadata": {
        "colab": {
          "base_uri": "https://localhost:8080/",
          "height": 36
        },
        "id": "rbx3Psp_FAM8",
        "outputId": "be488fc0-0558-43a2-9f04-0d413849af65"
      },
      "outputs": [
        {
          "output_type": "execute_result",
          "data": {
            "text/plain": [
              "'Programming Language: Python; User: Data Analyst'"
            ],
            "application/vnd.google.colaboratory.intrinsic+json": {
              "type": "string"
            }
          },
          "metadata": {},
          "execution_count": 82
        }
      ],
      "source": [
        "#  | Using f-strings Formating Literals\n",
        "Language = 'Python'\n",
        "User = 'Data Analyst'\n",
        "f'Programming Language: {Language}; User: {User}' # .format is not required"
      ]
    },
    {
      "cell_type": "code",
      "execution_count": 83,
      "metadata": {
        "id": "ODKwMVW3Gatw"
      },
      "outputs": [],
      "source": [
        "# %-Formating String Literals"
      ]
    },
    {
      "cell_type": "code",
      "execution_count": 84,
      "metadata": {
        "colab": {
          "base_uri": "https://localhost:8080/",
          "height": 36
        },
        "id": "cLL-S38AHm8M",
        "outputId": "680035ae-003f-4409-cff8-d4fb323aca14"
      },
      "outputs": [
        {
          "output_type": "execute_result",
          "data": {
            "text/plain": [
              "'Programming Language: Python'"
            ],
            "application/vnd.google.colaboratory.intrinsic+json": {
              "type": "string"
            }
          },
          "metadata": {},
          "execution_count": 84
        }
      ],
      "source": [
        "'Programming Language: %s' % (Language)"
      ]
    },
    {
      "cell_type": "code",
      "execution_count": 85,
      "metadata": {
        "colab": {
          "base_uri": "https://localhost:8080/",
          "height": 36
        },
        "id": "HJO0yOwOH2hj",
        "outputId": "37dbc6ca-1f8f-49c7-8c8e-68e59f789d41"
      },
      "outputs": [
        {
          "output_type": "execute_result",
          "data": {
            "text/plain": [
              "'User: Data Analyst'"
            ],
            "application/vnd.google.colaboratory.intrinsic+json": {
              "type": "string"
            }
          },
          "metadata": {},
          "execution_count": 85
        }
      ],
      "source": [
        "'User: %s' % (User)\n"
      ]
    },
    {
      "cell_type": "code",
      "execution_count": 86,
      "metadata": {
        "colab": {
          "base_uri": "https://localhost:8080/",
          "height": 36
        },
        "id": "dPJ__pk6IDt3",
        "outputId": "e0dc0607-e69d-4958-9a7c-c055fec270d9"
      },
      "outputs": [
        {
          "output_type": "execute_result",
          "data": {
            "text/plain": [
              "'Programming Language: Python; User: Data Analyst'"
            ],
            "application/vnd.google.colaboratory.intrinsic+json": {
              "type": "string"
            }
          },
          "metadata": {},
          "execution_count": 86
        }
      ],
      "source": [
        "'Programming Language: %s; User: %s' % (Language, User)"
      ]
    },
    {
      "cell_type": "code",
      "execution_count": 87,
      "metadata": {
        "id": "zBgZY-ZEIGyd"
      },
      "outputs": [],
      "source": [
        "#  | The join method"
      ]
    },
    {
      "cell_type": "code",
      "execution_count": 88,
      "metadata": {
        "colab": {
          "base_uri": "https://localhost:8080/",
          "height": 36
        },
        "id": "HiEJMiqMIxcL",
        "outputId": "16828217-0710-43d9-9eb3-49920e17f792"
      },
      "outputs": [
        {
          "output_type": "execute_result",
          "data": {
            "text/plain": [
              "'0, 1, 2, 3, 4, 5, 6, 7, 8, 9'"
            ],
            "application/vnd.google.colaboratory.intrinsic+json": {
              "type": "string"
            }
          },
          "metadata": {},
          "execution_count": 88
        }
      ],
      "source": [
        "integers = '0123456789'\n",
        "', '.join(integers)"
      ]
    },
    {
      "cell_type": "code",
      "execution_count": 89,
      "metadata": {
        "colab": {
          "base_uri": "https://localhost:8080/",
          "height": 36
        },
        "id": "FmH4jtV8JAsn",
        "outputId": "5b7e0feb-ea13-4879-e4cb-959c6f747876"
      },
      "outputs": [
        {
          "output_type": "execute_result",
          "data": {
            "text/plain": [
              "'Python| SQL| Machine Learning| Excel| Tableau| Power BI'"
            ],
            "application/vnd.google.colaboratory.intrinsic+json": {
              "type": "string"
            }
          },
          "metadata": {},
          "execution_count": 89
        }
      ],
      "source": [
        "Skills = ['Python', 'SQL', 'Machine Learning','Excel','Tableau', 'Power BI']\n",
        "'| '.join(Skills)"
      ]
    },
    {
      "cell_type": "code",
      "execution_count": 90,
      "metadata": {
        "id": "Xis0sEFFJsQ8"
      },
      "outputs": [],
      "source": [
        "# Operators"
      ]
    },
    {
      "cell_type": "code",
      "execution_count": 90,
      "metadata": {
        "id": "hTA4t3DGJye7"
      },
      "outputs": [],
      "source": []
    },
    {
      "cell_type": "markdown",
      "metadata": {
        "id": "bUzniVvhKtXL"
      },
      "source": [
        "Operators in Python are special symbols used to perform operations on variables and values. Here are some common operators in Python:\n",
        "\n",
        "Arithmetic Operators\n",
        "1. Addition (+): a + b\n",
        "2. Subtraction (-): a - b\n",
        "3. Multiplication (*): a * b\n",
        "4. Division (/): a / b\n",
        "5. Modulus (%): a % b (remainder of division)\n",
        "6. Exponentiation (**): a ** b (a to the power of b)\n",
        "7. Floor Division (//): a // b (integer division)\n",
        "\n",
        "Examples:\n",
        "\n",
        "\n",
        "a = 10\n",
        "b = 3\n",
        "\n",
        "print(a + b)  # Output: 13\n",
        "print(a - b)  # Output: 7\n",
        "print(a * b)  # Output: 30\n",
        "print(a / b)  # Output: 3.3333333333333335\n",
        "print(a % b)  # Output: 1\n",
        "print(a ** b)  # Output: 1000\n",
        "print(a // b)  # Output: 3\n",
        "\n",
        "\n",
        "Comparison Operators\n",
        "1. Equal (==): a == b\n",
        "2. Not Equal (!=): a != b\n",
        "3. Greater Than (>): a > b\n",
        "4. Less Than (<): a < b\n",
        "5. Greater Than or Equal (>=): a >= b\n",
        "6. Less Than or Equal (<=): a <= b\n",
        "\n",
        "Examples:\n",
        "\n",
        "\n",
        "a = 10\n",
        "b = 5\n",
        "\n",
        "print(a == b)  # Output: False\n",
        "print(a != b)  # Output: True\n",
        "print(a > b)  # Output: True\n",
        "print(a < b)  # Output: False\n",
        "print(a >= b)  # Output: True\n",
        "print(a <= b)  # Output: False\n",
        "\n",
        "\n",
        "Logical Operators\n",
        "1. And (and): a and b\n",
        "2. Or (or): a or b\n",
        "3. Not (not): not a\n",
        "\n",
        "Examples:\n",
        "\n",
        "\n",
        "a = True\n",
        "b = False\n",
        "\n",
        "print(a and b)  # Output: False\n",
        "print(a or b)  # Output: True\n",
        "print(not a)  # Output: False\n",
        "\n",
        "\n",
        "Assignment Operators\n",
        "1. Assignment (=): a = b\n",
        "2. Addition Assignment (+=): a += b (equivalent to a = a + b)\n",
        "3. Subtraction Assignment (-=): a -= b (equivalent to a = a - b)\n",
        "4. Multiplication Assignment (*=): a *= b (equivalent to a = a * b)\n",
        "5. Division Assignment (/=): a /= b (equivalent to a = a / b)\n",
        "\n",
        "Examples:\n",
        "\n",
        "\n",
        "a = 10\n",
        "b = 5\n",
        "\n",
        "a += b\n",
        "print(a)  # Output: 15\n",
        "\n",
        "a -= b\n",
        "print(a)  # Output: 10\n",
        "\n",
        "a *= b\n",
        "print(a)  # Output: 50\n",
        "\n",
        "a /= b\n",
        "print(a)  # Output: 10.0\n",
        "\n",
        "\n",
        "Bitwise Operators\n",
        "1. Bitwise AND (&): a & b\n",
        "2. Bitwise OR (|): a | b\n",
        "3. Bitwise XOR (^): a ^ b\n",
        "4. Bitwise NOT (~): ~a\n",
        "\n",
        "Examples:\n",
        "\n",
        "\n",
        "a = 5   # binary: 101\n",
        "b = 3   # binary: 011\n",
        "\n",
        "print(a & b)  # Output: 1   # binary: 001\n",
        "print(a | b)  # Output: 7   # binary: 111\n",
        "print(a ^ b)  # Output: 6   # binary: 110\n",
        "print(~a)     # Output: -6  # binary: ...111010\n",
        "\n",
        "\n",
        "These are the basic operators in Python. Understanding these operators is essential for writing effective Python code."
      ]
    },
    {
      "cell_type": "code",
      "execution_count": 91,
      "metadata": {
        "colab": {
          "base_uri": "https://localhost:8080/"
        },
        "id": "L7to0vDuK6o7",
        "outputId": "aefba737-caa2-433f-b0cd-7ff9c40515d5"
      },
      "outputs": [
        {
          "output_type": "execute_result",
          "data": {
            "text/plain": [
              "7"
            ]
          },
          "metadata": {},
          "execution_count": 91
        }
      ],
      "source": [
        "5 + 2"
      ]
    },
    {
      "cell_type": "code",
      "execution_count": 92,
      "metadata": {
        "colab": {
          "base_uri": "https://localhost:8080/"
        },
        "id": "hiKOSxDRXoeq",
        "outputId": "a410307d-7d45-48a0-a1ae-a2b6ef8d039a"
      },
      "outputs": [
        {
          "output_type": "execute_result",
          "data": {
            "text/plain": [
              "10"
            ]
          },
          "metadata": {},
          "execution_count": 92
        }
      ],
      "source": [
        "5 * 2"
      ]
    },
    {
      "cell_type": "code",
      "execution_count": 93,
      "metadata": {
        "colab": {
          "base_uri": "https://localhost:8080/"
        },
        "id": "jA8bsRokXtOr",
        "outputId": "5832313d-a094-4375-f290-d2d71be56fda"
      },
      "outputs": [
        {
          "output_type": "execute_result",
          "data": {
            "text/plain": [
              "2.5"
            ]
          },
          "metadata": {},
          "execution_count": 93
        }
      ],
      "source": [
        "5 / 2"
      ]
    },
    {
      "cell_type": "code",
      "execution_count": 94,
      "metadata": {
        "colab": {
          "base_uri": "https://localhost:8080/",
          "height": 36
        },
        "id": "xSSI0NrSYI_q",
        "outputId": "1916b00c-0ff9-4831-e17e-e4bfe4eadfa1"
      },
      "outputs": [
        {
          "output_type": "execute_result",
          "data": {
            "text/plain": [
              "'Python Guru'"
            ],
            "application/vnd.google.colaboratory.intrinsic+json": {
              "type": "string"
            }
          },
          "metadata": {},
          "execution_count": 94
        }
      ],
      "source": [
        "'Python' + ' Guru'"
      ]
    },
    {
      "cell_type": "code",
      "execution_count": 95,
      "metadata": {
        "colab": {
          "base_uri": "https://localhost:8080/",
          "height": 36
        },
        "id": "c69lY_PGYRre",
        "outputId": "5b787656-bd73-4b4a-c89a-969604520bef"
      },
      "outputs": [
        {
          "output_type": "execute_result",
          "data": {
            "text/plain": [
              "'Python Guru |Python Guru |Python Guru |Python Guru |Python Guru |'"
            ],
            "application/vnd.google.colaboratory.intrinsic+json": {
              "type": "string"
            }
          },
          "metadata": {},
          "execution_count": 95
        }
      ],
      "source": [
        "'Python Guru |' * 5"
      ]
    },
    {
      "cell_type": "code",
      "execution_count": 96,
      "metadata": {
        "colab": {
          "base_uri": "https://localhost:8080/"
        },
        "id": "iVj_akgKYW2C",
        "outputId": "831870ad-b6cf-40ee-99de-5c9a15fdc103"
      },
      "outputs": [
        {
          "output_type": "execute_result",
          "data": {
            "text/plain": [
              "9500"
            ]
          },
          "metadata": {},
          "execution_count": 96
        }
      ],
      "source": [
        "Price = 10000\n",
        "Price.__sub__(500)"
      ]
    },
    {
      "cell_type": "code",
      "execution_count": 97,
      "metadata": {
        "colab": {
          "base_uri": "https://localhost:8080/"
        },
        "id": "KFKnfI90Z8Wt",
        "outputId": "9ea5e972-7d87-46b4-f39b-b39787fe7f6f"
      },
      "outputs": [
        {
          "output_type": "execute_result",
          "data": {
            "text/plain": [
              "50000"
            ]
          },
          "metadata": {},
          "execution_count": 97
        }
      ],
      "source": [
        "Price.__mul__(5)"
      ]
    },
    {
      "cell_type": "code",
      "execution_count": 98,
      "metadata": {
        "colab": {
          "base_uri": "https://localhost:8080/"
        },
        "id": "wmk0rHb0aPBQ",
        "outputId": "09be13cc-9ef8-4dfd-e93b-789a364c8c63"
      },
      "outputs": [
        {
          "output_type": "execute_result",
          "data": {
            "text/plain": [
              "3333.3333333333335"
            ]
          },
          "metadata": {},
          "execution_count": 98
        }
      ],
      "source": [
        "Price / 3"
      ]
    },
    {
      "cell_type": "code",
      "execution_count": 99,
      "metadata": {
        "colab": {
          "base_uri": "https://localhost:8080/"
        },
        "id": "4e0v7qVwb91H",
        "outputId": "8371ee60-d1f3-4ed7-f951-fe87d6a12842"
      },
      "outputs": [
        {
          "output_type": "execute_result",
          "data": {
            "text/plain": [
              "1"
            ]
          },
          "metadata": {},
          "execution_count": 99
        }
      ],
      "source": [
        "Price % 3  # % returns the remainder"
      ]
    },
    {
      "cell_type": "code",
      "execution_count": 100,
      "metadata": {
        "colab": {
          "base_uri": "https://localhost:8080/"
        },
        "id": "LUAhDyXWcBXt",
        "outputId": "01cce88b-cf15-4584-9cad-bc0589331f33"
      },
      "outputs": [
        {
          "output_type": "execute_result",
          "data": {
            "text/plain": [
              "3333"
            ]
          },
          "metadata": {},
          "execution_count": 100
        }
      ],
      "source": [
        "Price // 3 # Double forward slash returns the whole number part"
      ]
    },
    {
      "cell_type": "code",
      "execution_count": 101,
      "metadata": {
        "id": "Ik_uut0NcdDm"
      },
      "outputs": [],
      "source": [
        "# In Python, the order of operations is determined by the following rules:\n",
        "\n",
        "# PEMDAS\n",
        "# 1. Parentheses: Expressions inside parentheses are evaluated first.\n",
        "# 2. Exponents: Exponents (e.g., **) are evaluated next.\n",
        "# 3. Multiplication and Division: Multiplication (*) and division (/, //, %) are evaluated from left to right.\n",
        "# 4. Addition and Subtraction: Addition (+) and subtraction (-) are evaluated from left to right.\n",
        "\n",
        "# Example\n",
        "\n",
        "# result = 2 + 3 * 4\n",
        "# print(result)  # Output: 14\n",
        "\n",
        "\n",
        "# In this example, the multiplication operation (3 * 4) is evaluated first, resulting in 12. Then, the addition operation (2 + 12) is evaluated, resulting in 14.\n",
        "\n",
        "# Using Parentheses\n",
        "# You can use parentheses to override the default order of operations:\n",
        "\n",
        "\n",
        "# result = (2 + 3) * 4\n",
        "# print(result)  # Output: 20\n",
        "\n",
        "\n",
        "# In this example, the expression inside the parentheses (2 + 3) is evaluated first, resulting in 5. Then, the multiplication operation (5 * 4) is evaluated, resulting in 20.\n",
        "\n",
        "# Order of Operations Table\n",
        "# Here's a table summarizing the order of operations in Python:\n",
        "\n",
        "# | Operator | Description |\n",
        "# | --- | --- |\n",
        "# | () | Parentheses |\n",
        "# | ** | Exponents |\n",
        "# | *, /, //, % | Multiplication and division |\n",
        "# | +, - | Addition and subtraction |\n",
        "# | ==, !=, >, <, >= , <= | Comparison operators |\n",
        "# | not | Logical NOT |\n",
        "# | and | Logical AND |\n",
        "# | or | Logical OR |\n"
      ]
    },
    {
      "cell_type": "code",
      "execution_count": 102,
      "metadata": {
        "colab": {
          "base_uri": "https://localhost:8080/"
        },
        "id": "dB6PAbSwdSuF",
        "outputId": "c26b9ae3-57db-49d8-c4cc-e18d406391af"
      },
      "outputs": [
        {
          "output_type": "execute_result",
          "data": {
            "text/plain": [
              "75000"
            ]
          },
          "metadata": {},
          "execution_count": 102
        }
      ],
      "source": [
        "min_salary = 50_000 # underscores are ignored by the interpreter\n",
        "max_salary = 100_000\n",
        "avg_salary = (min_salary + max_salary) // 2\n",
        "avg_salary"
      ]
    },
    {
      "cell_type": "code",
      "execution_count": 103,
      "metadata": {
        "id": "PAjcFSTBhqoJ"
      },
      "outputs": [],
      "source": [
        "# Assignment Operators"
      ]
    },
    {
      "cell_type": "code",
      "execution_count": 104,
      "metadata": {
        "id": "sye_pkfuhyHJ"
      },
      "outputs": [],
      "source": [
        "# Assignment operators in Python are used to assign a value to a variable. Here are the different types of assignment operators:\n",
        "\n",
        "# Basic Assignment Operator\n",
        "# 1. Assignment (=): assigns the value on the right side to the variable on the left side.\n",
        "\n",
        "# Example:\n",
        "\n",
        "\n",
        "# x = 5\n",
        "# print(x)  # Output: 5\n",
        "\n",
        "\n",
        "# Augmented Assignment Operators\n",
        "# 1. Addition Assignment (+=): adds the value on the right side to the variable on the left side and assigns the result back to the variable.\n",
        "# 2. Subtraction Assignment (-=): subtracts the value on the right side from the variable on the left side and assigns the result back to the variable.\n",
        "# 3. Multiplication Assignment (*=): multiplies the variable on the left side by the value on the right side and assigns the result back to the variable.\n",
        "# 4. Division Assignment (/=): divides the variable on the left side by the value on the right side and assigns the result back to the variable.\n",
        "# 5. Modulus Assignment (%=): computes the modulus of the variable on the left side and the value on the right side and assigns the result back to the variable.\n",
        "# 6. Exponentiation Assignment (**=): raises the variable on the left side to the power of the value on the right side and assigns the result back to the variable.\n",
        "# 7. Floor Division Assignment (//=): performs floor division of the variable on the left side by the value on the right side and assigns the result back to the variable.\n",
        "\n",
        "# Examples:\n",
        "\n",
        "\n",
        "# x = 5\n",
        "\n",
        "# x += 3  # equivalent to x = x + 3\n",
        "# print(x)  # Output: 8\n",
        "\n",
        "# x -= 2  # equivalent to x = x - 2\n",
        "# print(x)  # Output: 6\n",
        "\n",
        "# x *= 2  # equivalent to x = x * 2\n",
        "# print(x)  # Output: 12\n",
        "\n",
        "# x /= 2  # equivalent to x = x / 2\n",
        "# print(x)  # Output: 6.0\n",
        "\n",
        "# x %= 2  # equivalent to x = x % 2\n",
        "# print(x)  # Output: 0.0\n",
        "\n",
        "# x = 2\n",
        "# x **= 3  # equivalent to x = x ** 3\n",
        "# print(x)  # Output: 8\n",
        "\n",
        "# x //= 2  # equivalent to x = x // 2\n",
        "# print(x)  # Output: 4\n",
        "\n",
        "\n",
        "# Benefits\n",
        "# Assignment operators provide a concise way to perform operations and assign the result back to a variable. They can make your code more readable and efficient."
      ]
    },
    {
      "cell_type": "code",
      "execution_count": 105,
      "metadata": {
        "id": "EQctxd7_iC7n"
      },
      "outputs": [],
      "source": [
        "x = 5"
      ]
    },
    {
      "cell_type": "code",
      "execution_count": 106,
      "metadata": {
        "id": "hTxPbb8DnLDq"
      },
      "outputs": [],
      "source": [
        "x += 2\n"
      ]
    },
    {
      "cell_type": "code",
      "execution_count": 106,
      "metadata": {
        "id": "YJ-QhnL9pkGw"
      },
      "outputs": [],
      "source": []
    },
    {
      "cell_type": "code",
      "execution_count": 107,
      "metadata": {
        "id": "PSBMwJdznWuk"
      },
      "outputs": [],
      "source": [
        "x /= 2\n"
      ]
    },
    {
      "cell_type": "code",
      "execution_count": 108,
      "metadata": {
        "colab": {
          "base_uri": "https://localhost:8080/"
        },
        "id": "YsU8jrbjppVi",
        "outputId": "b189f615-c35a-4a1f-f95f-8d106859cc86"
      },
      "outputs": [
        {
          "output_type": "execute_result",
          "data": {
            "text/plain": [
              "3.5"
            ]
          },
          "metadata": {},
          "execution_count": 108
        }
      ],
      "source": [
        "x"
      ]
    },
    {
      "cell_type": "code",
      "execution_count": 108,
      "metadata": {
        "id": "ILclwbF2nt0G"
      },
      "outputs": [],
      "source": []
    },
    {
      "cell_type": "code",
      "execution_count": 109,
      "metadata": {
        "id": "o6w8K5bNpQF-"
      },
      "outputs": [],
      "source": [
        "x *= 5"
      ]
    },
    {
      "cell_type": "code",
      "execution_count": 110,
      "metadata": {
        "colab": {
          "base_uri": "https://localhost:8080/"
        },
        "id": "wf0P37ZIpVW9",
        "outputId": "5342ff2a-e9bf-4316-d490-2e904fb780fd"
      },
      "outputs": [
        {
          "output_type": "execute_result",
          "data": {
            "text/plain": [
              "17.5"
            ]
          },
          "metadata": {},
          "execution_count": 110
        }
      ],
      "source": [
        "x"
      ]
    },
    {
      "cell_type": "code",
      "execution_count": 111,
      "metadata": {
        "colab": {
          "base_uri": "https://localhost:8080/"
        },
        "id": "VuXpWLoHqhGY",
        "outputId": "e0cf3feb-a04c-4944-8f28-f4b8acde1231"
      },
      "outputs": [
        {
          "output_type": "execute_result",
          "data": {
            "text/plain": [
              "97.65625"
            ]
          },
          "metadata": {},
          "execution_count": 111
        }
      ],
      "source": [
        "2.5 ** 5"
      ]
    },
    {
      "cell_type": "code",
      "execution_count": 112,
      "metadata": {
        "id": "5WBJy6hwqmpp"
      },
      "outputs": [],
      "source": [
        "Salary_1 = 100_000\n",
        "Salary_2 = 50_0000"
      ]
    },
    {
      "cell_type": "code",
      "execution_count": 113,
      "metadata": {
        "colab": {
          "base_uri": "https://localhost:8080/"
        },
        "id": "CDTB5140xvfK",
        "outputId": "d6e8381a-9eea-42ec-9a5e-ad3fd8cc5a60"
      },
      "outputs": [
        {
          "output_type": "stream",
          "name": "stdout",
          "text": [
            "Salary_2 is greater than Salary_1\n"
          ]
        }
      ],
      "source": [
        "if Salary_1 > Salary_2:\n",
        "    print('Salary_1 is greater than Salary_2')\n",
        "else:\n",
        "    print('Salary_2 is greater than Salary_1')"
      ]
    },
    {
      "cell_type": "code",
      "execution_count": 114,
      "metadata": {
        "id": "cHl-drZqx0vR"
      },
      "outputs": [],
      "source": [
        "# Conditional Statements"
      ]
    },
    {
      "cell_type": "code",
      "execution_count": 115,
      "metadata": {
        "id": "6WSBQ6oazmTO"
      },
      "outputs": [],
      "source": [
        "# Conditional statements in Python are used to execute different blocks of code based on certain conditions. Here are the different types of conditional statements:\n",
        "\n",
        "# If Statement\n",
        "# The if statement is used to execute a block of code if a certain condition is true.\n",
        "\n",
        "\n",
        "# x = 5\n",
        "# if x > 10:\n",
        "#     print(\"x is greater than 10\")\n",
        "# else:\n",
        "#     print(\"x is less than or equal to 10\")\n",
        "\n",
        "\n",
        "# If-Else Statement\n",
        "# The if-else statement is used to execute one block of code if a certain condition is true and another block of code if the condition is false.\n",
        "\n",
        "\n",
        "# x = 5\n",
        "# if x > 10:\n",
        "#     print(\"x is greater than 10\")\n",
        "# else:\n",
        "#     print(\"x is less than or equal to 10\")\n",
        "\n",
        "\n",
        "# If-Elif-Else Statement\n",
        "# The if-elif-else statement is used to check multiple conditions and execute different blocks of code based on those conditions.\n",
        "\n",
        "\n",
        "# x = 5\n",
        "# if x > 10:\n",
        "#     print(\"x is greater than 10\")\n",
        "# elif x == 5:\n",
        "#     print(\"x is equal to 5\")\n",
        "# else:\n",
        "#     print(\"x is less than 5\")\n",
        "\n",
        "\n",
        "# Nested If Statements\n",
        "# Nested if statements are used to check conditions within conditions.\n",
        "\n",
        "\n",
        "# x = 5\n",
        "# y = 10\n",
        "# if x > 0:\n",
        "#     if y > 5:\n",
        "#         print(\"Both conditions are true\")\n",
        "\n",
        "\n",
        "# Conditional Expressions\n",
        "# Conditional expressions are a concise way to write simple if-else statements.\n",
        "\n",
        "\n",
        "# x = 5\n",
        "# result = \"x is greater than 10\" if x > 10 else \"x is less than or equal to 10\"\n",
        "# print(result)\n",
        "\n",
        "\n",
        "# Comparison Operators\n",
        "# Comparison operators are used to compare values and reAturn a boolean result.\n",
        "\n",
        "# - == (equal to)\n",
        "# - != (not equal to)\n",
        "# - > (greater than)\n",
        "# - < (less than)\n",
        "# - >= (greater than or equal to)\n",
        "# - <= (less than or equal to)\n",
        "\n",
        "# Logical Operators\n",
        "# Logical operators are used to combine conditions and return a boolean result.\n",
        "\n",
        "# - and (logical and)\n",
        "# - or (logical or)\n",
        "# - not (logical not)"
      ]
    },
    {
      "cell_type": "code",
      "execution_count": 116,
      "metadata": {
        "colab": {
          "base_uri": "https://localhost:8080/"
        },
        "id": "nAfR8a3rz7io",
        "outputId": "ad57c148-1ccb-4a09-b6f9-ce462056063e"
      },
      "outputs": [
        {
          "output_type": "stream",
          "name": "stdout",
          "text": [
            "Python is sweet!\n"
          ]
        }
      ],
      "source": [
        "if True:\n",
        "  print('Python is sweet!')"
      ]
    },
    {
      "cell_type": "code",
      "execution_count": 117,
      "metadata": {
        "colab": {
          "base_uri": "https://localhost:8080/"
        },
        "id": "R1og7kdv0hVN",
        "outputId": "3fec8ea0-80cc-4d62-fb64-5d857184b86c"
      },
      "outputs": [
        {
          "output_type": "stream",
          "name": "stdout",
          "text": [
            "You are not qualified for this job\n"
          ]
        }
      ],
      "source": [
        "Job_skill = 'Python'\n",
        "Required_skill = 'SQL'\n",
        "if Job_skill == Required_skill:\n",
        "  print('You are qualified for this job!')\n",
        "else:\n",
        "  print('You are not qualified for this job')"
      ]
    },
    {
      "cell_type": "code",
      "execution_count": 118,
      "metadata": {
        "colab": {
          "base_uri": "https://localhost:8080/"
        },
        "id": "bJ38OT6a2akB",
        "outputId": "88d28080-a979-4c86-f972-25acdab4c378"
      },
      "outputs": [
        {
          "output_type": "stream",
          "name": "stdout",
          "text": [
            "You are qualified for this job!\n"
          ]
        }
      ],
      "source": [
        "Job_skill = ['Python', 'SQL']\n",
        "Required_skill = 'SQL'\n",
        "if Required_skill in Job_skill:\n",
        "  print('You are qualified for this job!')\n",
        "else:\n",
        "  print('You are not qualified for this job')\n"
      ]
    },
    {
      "cell_type": "code",
      "execution_count": 119,
      "metadata": {
        "colab": {
          "base_uri": "https://localhost:8080/"
        },
        "id": "OgjXtCFf2lFF",
        "outputId": "e5e18258-c59f-41cd-9572-d7d20d748b0b"
      },
      "outputs": [
        {
          "output_type": "stream",
          "name": "stdout",
          "text": [
            "You are not qualified for this job\n"
          ]
        }
      ],
      "source": [
        "years_of_experience = 4\n",
        "if years_of_experience >= 5:\n",
        "  print('You are qualified for this job!')\n",
        "else:\n",
        "  print('You are not qualified for this job')"
      ]
    },
    {
      "cell_type": "code",
      "execution_count": 120,
      "metadata": {
        "colab": {
          "base_uri": "https://localhost:8080/"
        },
        "id": "xfPtSMgn57gS",
        "outputId": "90f587a9-b84e-4a98-99d3-d533b39ae885"
      },
      "outputs": [
        {
          "output_type": "stream",
          "name": "stdout",
          "text": [
            "You do not have the requied Skill nor Experience\n"
          ]
        }
      ],
      "source": [
        "years_of_experience = 7\n",
        "Job_skill = ['Python', 'SQL', 'Machine Learning']\n",
        "Required_skill = 'Excel'\n",
        "if years_of_experience >= 8:\n",
        "  print('You are qualified for this job!')\n",
        "elif Job_skill == Required_skill:\n",
        "  print('You are qualified for this job!')\n",
        "else:\n",
        "  print('You do not have the requied Skill nor Experience')"
      ]
    },
    {
      "cell_type": "code",
      "execution_count": 121,
      "metadata": {
        "id": "SejeiWEV6a_q"
      },
      "outputs": [],
      "source": [
        "# List"
      ]
    },
    {
      "cell_type": "code",
      "execution_count": 122,
      "metadata": {
        "id": "i5dM2__MZM61"
      },
      "outputs": [],
      "source": [
        "Job_skills = ['Python', 'SQL', 'Machine Learning']"
      ]
    },
    {
      "cell_type": "code",
      "execution_count": 123,
      "metadata": {
        "id": "qv8K8xWrZq4H"
      },
      "outputs": [],
      "source": [
        "Job_skills.append('Excel')"
      ]
    },
    {
      "cell_type": "code",
      "execution_count": 124,
      "metadata": {
        "colab": {
          "base_uri": "https://localhost:8080/"
        },
        "id": "ITnbzhEFZ-J3",
        "outputId": "bba60bb1-54d4-42b8-9835-b518e588a851"
      },
      "outputs": [
        {
          "output_type": "execute_result",
          "data": {
            "text/plain": [
              "['Python', 'SQL', 'Machine Learning', 'Excel']"
            ]
          },
          "metadata": {},
          "execution_count": 124
        }
      ],
      "source": [
        "Job_skills"
      ]
    },
    {
      "cell_type": "code",
      "execution_count": 125,
      "metadata": {
        "id": "BHHiPIvUaL65"
      },
      "outputs": [],
      "source": [
        "Job_skills.remove('Python')"
      ]
    },
    {
      "cell_type": "code",
      "execution_count": 126,
      "metadata": {
        "colab": {
          "base_uri": "https://localhost:8080/"
        },
        "id": "YmFMQvIJadVh",
        "outputId": "f2c183bd-bd38-49b0-9961-d158ea822730"
      },
      "outputs": [
        {
          "output_type": "execute_result",
          "data": {
            "text/plain": [
              "['SQL', 'Machine Learning', 'Excel']"
            ]
          },
          "metadata": {},
          "execution_count": 126
        }
      ],
      "source": [
        "Job_skills"
      ]
    },
    {
      "cell_type": "code",
      "execution_count": 127,
      "metadata": {
        "colab": {
          "base_uri": "https://localhost:8080/"
        },
        "id": "gjob2ZQQafDn",
        "outputId": "872c4033-818a-4c57-e2aa-b59846af1d1e"
      },
      "outputs": [
        {
          "output_type": "execute_result",
          "data": {
            "text/plain": [
              "3"
            ]
          },
          "metadata": {},
          "execution_count": 127
        }
      ],
      "source": [
        "len(Job_skills)"
      ]
    },
    {
      "cell_type": "code",
      "execution_count": 128,
      "metadata": {
        "colab": {
          "base_uri": "https://localhost:8080/"
        },
        "id": "L7m8f8UNao6L",
        "outputId": "c53cd3f6-0c18-4eec-c2da-a7f028369234"
      },
      "outputs": [
        {
          "output_type": "execute_result",
          "data": {
            "text/plain": [
              "0"
            ]
          },
          "metadata": {},
          "execution_count": 128
        }
      ],
      "source": [
        "Job_skills.index('SQL')"
      ]
    },
    {
      "cell_type": "code",
      "execution_count": 129,
      "metadata": {
        "colab": {
          "base_uri": "https://localhost:8080/",
          "height": 36
        },
        "id": "qGnQT1WWayIW",
        "outputId": "9e00437c-9c5d-4bb1-ff06-066695db2bf5"
      },
      "outputs": [
        {
          "output_type": "execute_result",
          "data": {
            "text/plain": [
              "'Excel'"
            ],
            "application/vnd.google.colaboratory.intrinsic+json": {
              "type": "string"
            }
          },
          "metadata": {},
          "execution_count": 129
        }
      ],
      "source": [
        "Job_skills[2]"
      ]
    },
    {
      "cell_type": "code",
      "execution_count": 130,
      "metadata": {
        "colab": {
          "base_uri": "https://localhost:8080/",
          "height": 36
        },
        "id": "LWSlvxgNa5DL",
        "outputId": "8a3b922c-ad9e-4dad-9cdd-e766e64fb748"
      },
      "outputs": [
        {
          "output_type": "execute_result",
          "data": {
            "text/plain": [
              "'SQL'"
            ],
            "application/vnd.google.colaboratory.intrinsic+json": {
              "type": "string"
            }
          },
          "metadata": {},
          "execution_count": 130
        }
      ],
      "source": [
        "Job_skills[-3]"
      ]
    },
    {
      "cell_type": "code",
      "execution_count": 131,
      "metadata": {
        "id": "CFswxKUObGJp"
      },
      "outputs": [],
      "source": [
        "Job_skills.insert(0, 'Tableau')"
      ]
    },
    {
      "cell_type": "code",
      "execution_count": 132,
      "metadata": {
        "colab": {
          "base_uri": "https://localhost:8080/"
        },
        "id": "al1L7MAlbXYT",
        "outputId": "ef1e8d5c-63fb-4772-8787-53765b293a2e"
      },
      "outputs": [
        {
          "output_type": "execute_result",
          "data": {
            "text/plain": [
              "['Tableau', 'SQL', 'Machine Learning', 'Excel']"
            ]
          },
          "metadata": {},
          "execution_count": 132
        }
      ],
      "source": [
        "Job_skills"
      ]
    },
    {
      "cell_type": "code",
      "execution_count": 133,
      "metadata": {
        "colab": {
          "base_uri": "https://localhost:8080/",
          "height": 36
        },
        "id": "uTccEbZmbbfV",
        "outputId": "db40d6d2-dc9e-4d04-b26f-c603134cb734"
      },
      "outputs": [
        {
          "output_type": "execute_result",
          "data": {
            "text/plain": [
              "'SQL'"
            ],
            "application/vnd.google.colaboratory.intrinsic+json": {
              "type": "string"
            }
          },
          "metadata": {},
          "execution_count": 133
        }
      ],
      "source": [
        "Job_skills.pop(1)"
      ]
    },
    {
      "cell_type": "code",
      "execution_count": 134,
      "metadata": {
        "colab": {
          "base_uri": "https://localhost:8080/"
        },
        "id": "Dc0u24qqegF2",
        "outputId": "9ae75f80-37af-454b-e81e-f8347f2115c3"
      },
      "outputs": [
        {
          "output_type": "execute_result",
          "data": {
            "text/plain": [
              "['Tableau', 'Machine Learning', 'Excel']"
            ]
          },
          "metadata": {},
          "execution_count": 134
        }
      ],
      "source": [
        "Job_skills"
      ]
    },
    {
      "cell_type": "code",
      "execution_count": 135,
      "metadata": {
        "id": "vrsEwUxBekkB"
      },
      "outputs": [],
      "source": [
        "skill_1, skill_2, skill_3 = Job_skills # Unpacking"
      ]
    },
    {
      "cell_type": "code",
      "execution_count": 136,
      "metadata": {
        "colab": {
          "base_uri": "https://localhost:8080/"
        },
        "id": "proa69Zqf-Wf",
        "outputId": "e70228ec-976d-4a7d-c9f9-57e739f0f84d"
      },
      "outputs": [
        {
          "output_type": "stream",
          "name": "stdout",
          "text": [
            "Tableau\n",
            "Machine Learning\n",
            "Excel\n"
          ]
        }
      ],
      "source": [
        "print(skill_1)\n",
        "print(skill_2)\n",
        "print(skill_3)"
      ]
    },
    {
      "cell_type": "markdown",
      "metadata": {
        "id": "cSnw0tFbPRcF"
      },
      "source": []
    },
    {
      "cell_type": "code",
      "execution_count": 137,
      "metadata": {
        "id": "Vm1IzeQ_gBaS"
      },
      "outputs": [],
      "source": [
        "# Comparing two list"
      ]
    },
    {
      "cell_type": "code",
      "execution_count": 138,
      "metadata": {
        "id": "cIIywiAROdQr"
      },
      "outputs": [],
      "source": [
        "Employee_1 = ['Python', 'SQL', 'Machine Learning']\n",
        "Employee_2 = ['TAblea', 'SQL', 'Power bI']"
      ]
    },
    {
      "cell_type": "code",
      "execution_count": 139,
      "metadata": {
        "colab": {
          "base_uri": "https://localhost:8080/"
        },
        "id": "uM3J-wG-OxUH",
        "outputId": "5e9e8fbf-d3b8-4f88-fa75-a4f49ad2f304"
      },
      "outputs": [
        {
          "output_type": "execute_result",
          "data": {
            "text/plain": [
              "['Python', 'SQL', 'Machine Learning', 'TAblea', 'SQL', 'Power bI']"
            ]
          },
          "metadata": {},
          "execution_count": 139
        }
      ],
      "source": [
        "Employee_skills = Employee_1 + Employee_2\n",
        "Employee_skills"
      ]
    },
    {
      "cell_type": "code",
      "execution_count": 140,
      "metadata": {
        "colab": {
          "base_uri": "https://localhost:8080/"
        },
        "id": "nnt1dfaWPGST",
        "outputId": "6b0dee5b-698d-422f-dd20-131fd0eaefa6"
      },
      "outputs": [
        {
          "output_type": "execute_result",
          "data": {
            "text/plain": [
              "['SQL', 'Power bI', 'Machine Learning', 'TAblea', 'Python']"
            ]
          },
          "metadata": {},
          "execution_count": 140
        }
      ],
      "source": [
        "Employee_skills = list(set(Employee_skills))\n",
        "Employee_skills"
      ]
    },
    {
      "cell_type": "code",
      "execution_count": 141,
      "metadata": {
        "colab": {
          "base_uri": "https://localhost:8080/"
        },
        "id": "xsqplZPHQBF5",
        "outputId": "499bf6dc-842f-4fed-ce1d-35eec0058c32"
      },
      "outputs": [
        {
          "output_type": "execute_result",
          "data": {
            "text/plain": [
              "['SQL', 'Power bI', 'Machine Learning', 'TAblea', 'Python']"
            ]
          },
          "metadata": {},
          "execution_count": 141
        }
      ],
      "source": [
        "Employee_skills"
      ]
    },
    {
      "cell_type": "code",
      "execution_count": 142,
      "metadata": {
        "colab": {
          "base_uri": "https://localhost:8080/",
          "height": 36
        },
        "id": "4D-A_yANYQXB",
        "outputId": "0dc0d5ef-c26e-41ab-fae7-a507b16a9a28"
      },
      "outputs": [
        {
          "output_type": "execute_result",
          "data": {
            "text/plain": [
              "'Machine Learning'"
            ],
            "application/vnd.google.colaboratory.intrinsic+json": {
              "type": "string"
            }
          },
          "metadata": {},
          "execution_count": 142
        }
      ],
      "source": [
        "Employee_skills[-3]"
      ]
    },
    {
      "cell_type": "code",
      "execution_count": 143,
      "metadata": {
        "colab": {
          "base_uri": "https://localhost:8080/"
        },
        "id": "dcyjrldJYW7d",
        "outputId": "a4163ad5-ba58-4ede-91fc-278a56447f4a"
      },
      "outputs": [
        {
          "output_type": "stream",
          "name": "stdout",
          "text": [
            "SQL\n",
            "['Power bI', 'Machine Learning', 'TAblea', 'Python']\n"
          ]
        }
      ],
      "source": [
        "skill_concerned , *skill_not_concerned = Employee_skills\n",
        "print(skill_concerned)\n",
        "print(skill_not_concerned)"
      ]
    },
    {
      "cell_type": "code",
      "execution_count": 144,
      "metadata": {
        "colab": {
          "base_uri": "https://localhost:8080/"
        },
        "id": "NfW1zW7QZZWZ",
        "outputId": "5b045ac1-98a9-4dca-9649-ddb51e6e24d8"
      },
      "outputs": [
        {
          "output_type": "execute_result",
          "data": {
            "text/plain": [
              "[1, 2, 3, 4, 5, 6, 7, 8, 9, 10]"
            ]
          },
          "metadata": {},
          "execution_count": 144
        }
      ],
      "source": [
        "# list Comprehension\n",
        "\n",
        "numbers=[x for x in range(1,11)]\n",
        "numbers"
      ]
    },
    {
      "cell_type": "code",
      "source": [
        "#Odd Numbers\n",
        "\n",
        "even = [x for x in range(1,11) if x%2==0]\n",
        "even"
      ],
      "metadata": {
        "colab": {
          "base_uri": "https://localhost:8080/"
        },
        "id": "_MWlxDJFDZ3J",
        "outputId": "e48ea0a0-8dac-48d7-98ee-6106d57d8939"
      },
      "execution_count": 145,
      "outputs": [
        {
          "output_type": "execute_result",
          "data": {
            "text/plain": [
              "[2, 4, 6, 8, 10]"
            ]
          },
          "metadata": {},
          "execution_count": 145
        }
      ]
    },
    {
      "cell_type": "code",
      "source": [
        "#odd Numbers\n",
        "\n",
        "Odd = [x for x in range(1,11) if x%2 != 0]\n",
        "Odd"
      ],
      "metadata": {
        "colab": {
          "base_uri": "https://localhost:8080/"
        },
        "id": "14B04ssBEaTA",
        "outputId": "f2d29b0b-ad46-4c5c-de84-83b225ac0344"
      },
      "execution_count": 146,
      "outputs": [
        {
          "output_type": "execute_result",
          "data": {
            "text/plain": [
              "[1, 3, 5, 7, 9]"
            ]
          },
          "metadata": {},
          "execution_count": 146
        }
      ]
    },
    {
      "cell_type": "code",
      "source": [
        "# taking the square of ecach even number in the list\n",
        "\n",
        "even_square = [x**2 for x in range(1,11) if x%2==0]\n",
        "even_square"
      ],
      "metadata": {
        "colab": {
          "base_uri": "https://localhost:8080/"
        },
        "id": "xVarfRFaFWOO",
        "outputId": "d4da5d3e-1d5b-4607-bd4f-60bd3ad3e7c0"
      },
      "execution_count": 147,
      "outputs": [
        {
          "output_type": "execute_result",
          "data": {
            "text/plain": [
              "[4, 16, 36, 64, 100]"
            ]
          },
          "metadata": {},
          "execution_count": 147
        }
      ]
    },
    {
      "cell_type": "code",
      "source": [
        "# List comprehensions also work for strings\n",
        "\n",
        "strings = [x for x in 'DATA ANALYTICS']\n",
        "strings"
      ],
      "metadata": {
        "colab": {
          "base_uri": "https://localhost:8080/"
        },
        "id": "xBhQ-jKXIL-j",
        "outputId": "c9845fb6-0962-470c-aa02-82b89fc21489"
      },
      "execution_count": 148,
      "outputs": [
        {
          "output_type": "execute_result",
          "data": {
            "text/plain": [
              "['D', 'A', 'T', 'A', ' ', 'A', 'N', 'A', 'L', 'Y', 'T', 'I', 'C', 'S']"
            ]
          },
          "metadata": {},
          "execution_count": 148
        }
      ]
    },
    {
      "cell_type": "code",
      "source": [
        "#Examples\n",
        "skills = [skill for skill in Employee_skills if skill == 'SQL']\n",
        "skills"
      ],
      "metadata": {
        "colab": {
          "base_uri": "https://localhost:8080/"
        },
        "id": "ay_zs7MgJWTM",
        "outputId": "4488e004-0704-429f-be7c-e41a9f5270ba"
      },
      "execution_count": 149,
      "outputs": [
        {
          "output_type": "execute_result",
          "data": {
            "text/plain": [
              "['SQL']"
            ]
          },
          "metadata": {},
          "execution_count": 149
        }
      ]
    },
    {
      "cell_type": "code",
      "source": [
        "Employee_skills"
      ],
      "metadata": {
        "colab": {
          "base_uri": "https://localhost:8080/"
        },
        "id": "5BO_IIGSKGp2",
        "outputId": "e1535210-abfc-42bb-ce55-700f1a68ec6c"
      },
      "execution_count": 150,
      "outputs": [
        {
          "output_type": "execute_result",
          "data": {
            "text/plain": [
              "['SQL', 'Power bI', 'Machine Learning', 'TAblea', 'Python']"
            ]
          },
          "metadata": {},
          "execution_count": 150
        }
      ]
    },
    {
      "cell_type": "code",
      "source": [
        "skills = [skill for skill in Employee_skills if skill == 'Management']\n",
        "len(skills)"
      ],
      "metadata": {
        "colab": {
          "base_uri": "https://localhost:8080/"
        },
        "id": "nfb8YkU4Kjtd",
        "outputId": "8d918ae6-c257-455c-af54-5f3d8c2b7a71"
      },
      "execution_count": 152,
      "outputs": [
        {
          "output_type": "execute_result",
          "data": {
            "text/plain": [
              "0"
            ]
          },
          "metadata": {},
          "execution_count": 152
        }
      ]
    },
    {
      "cell_type": "code",
      "source": [],
      "metadata": {
        "id": "vNoV6EnfW-JZ"
      },
      "execution_count": null,
      "outputs": []
    },
    {
      "cell_type": "code",
      "source": [
        "# Exercise"
      ],
      "metadata": {
        "id": "yMSNMqlxW9oz"
      },
      "execution_count": null,
      "outputs": []
    },
    {
      "cell_type": "code",
      "source": [
        "# Define data science job roles and required skills\n",
        "job_roles = [\n",
        "    {'role': 'Data Analyst', 'skills': ['Python', 'SQL', 'Excel']},\n",
        "    {'role': 'Data Scientist', 'skills': ['Python', 'R', 'Machine Learning', 'Deep Learning']},\n",
        "    {'role': 'Machine Learning Engineer', 'skills': ['Python', 'TensorFlow', 'PyTorch', 'Scikit-Learn']},\n",
        "    {'role': 'Data Engineer', 'skills': ['Python', 'Apache Spark', 'Hadoop', 'SQL']},\n",
        "    {'role': 'Business Intelligence Analyst', 'skills': ['Python', 'SQL', 'Tableau', 'Power BI', 'Excel']},\n",
        "    {'role': 'Quantitative Analyst', 'skills': ['R', 'Python', 'MATLAB', 'Statistics']},\n",
        "    {'role': 'Operations Analyst', 'skills': ['Python', 'SQL', 'Data Visualization', 'Process Improvement']},\n",
        "    {'role': 'Database Administrator', 'skills': ['SQL', 'Oracle', 'MySQL', 'Database Management']},\n",
        "    {'role': 'AI Engineer', 'skills': ['Python', 'TensorFlow', 'PyTorch', 'Computer Vision']},\n",
        "    {'role': 'Statistician', 'skills': ['R', 'SAS', 'Python', 'Statistical Modeling']}\n",
        "]\n",
        "# My skills\n",
        "my_skills = ['Python', 'SQL', 'Excel']"
      ],
      "metadata": {
        "id": "oulsfMYmLFwE"
      },
      "execution_count": 167,
      "outputs": []
    },
    {
      "cell_type": "code",
      "source": [
        "for job in job_roles:\n",
        "  print(job)\n"
      ],
      "metadata": {
        "colab": {
          "base_uri": "https://localhost:8080/"
        },
        "id": "12omG2WrPB-b",
        "outputId": "8c7d9e08-d39b-4b12-9b59-cbd78ae91bce"
      },
      "execution_count": 158,
      "outputs": [
        {
          "output_type": "stream",
          "name": "stdout",
          "text": [
            "{'role': 'Data Analyst', 'skills': ['Python', 'SQL', 'Excel']}\n",
            "{'role': 'Data Scientist', 'skills': ['Python', 'R', 'Machine Learning', 'Deep Learning']}\n",
            "{'role': 'Machine Learning Engineer', 'skills': ['Python', 'TensorFlow', 'PyTorch', 'Scikit-Learn']}\n",
            "{'role': 'Data Engineer', 'skills': ['Python', 'Apache Spark', 'Hadoop', 'SQL']}\n",
            "{'role': 'Business Intelligence Analyst', 'skills': ['Python', 'SQL', 'Tableau', 'Power BI', 'Excel']}\n",
            "{'role': 'Quantitative Analyst', 'skills': ['R', 'Python', 'MATLAB', 'Statistics']}\n",
            "{'role': 'Operations Analyst', 'skills': ['Python', 'SQL', 'Data Visualization', 'Process Improvement']}\n",
            "{'role': 'Database Administrator', 'skills': ['SQL', 'Oracle', 'MySQL', 'Database Management']}\n",
            "{'role': 'AI Engineer', 'skills': ['Python', 'TensorFlow', 'PyTorch', 'Computer Vision']}\n",
            "{'role': 'Statistician', 'skills': ['R', 'SAS', 'Python', 'Statistical Modeling']}\n"
          ]
        }
      ]
    },
    {
      "cell_type": "code",
      "source": [
        "for job in job_roles:\n",
        "  print(job['skills'])"
      ],
      "metadata": {
        "colab": {
          "base_uri": "https://localhost:8080/"
        },
        "id": "xW1ealwFQCGV",
        "outputId": "8d58a81e-f4f5-4107-bf81-57427313ef39"
      },
      "execution_count": 168,
      "outputs": [
        {
          "output_type": "stream",
          "name": "stdout",
          "text": [
            "['Python', 'SQL', 'Excel']\n",
            "['Python', 'R', 'Machine Learning', 'Deep Learning']\n",
            "['Python', 'TensorFlow', 'PyTorch', 'Scikit-Learn']\n",
            "['Python', 'Apache Spark', 'Hadoop', 'SQL']\n",
            "['Python', 'SQL', 'Tableau', 'Power BI', 'Excel']\n",
            "['R', 'Python', 'MATLAB', 'Statistics']\n",
            "['Python', 'SQL', 'Data Visualization', 'Process Improvement']\n",
            "['SQL', 'Oracle', 'MySQL', 'Database Management']\n",
            "['Python', 'TensorFlow', 'PyTorch', 'Computer Vision']\n",
            "['R', 'SAS', 'Python', 'Statistical Modeling']\n"
          ]
        }
      ]
    },
    {
      "cell_type": "code",
      "source": [
        "for skill in my_skills:\n",
        "  for job in job_roles:\n",
        "    if skill in job['skills']:\n",
        "      print(job['role'])"
      ],
      "metadata": {
        "colab": {
          "base_uri": "https://localhost:8080/"
        },
        "id": "1XYYGsSpQoSw",
        "outputId": "1b2ecef0-82fe-4260-b9ee-8553044789ef"
      },
      "execution_count": 169,
      "outputs": [
        {
          "output_type": "stream",
          "name": "stdout",
          "text": [
            "Data Analyst\n",
            "Data Scientist\n",
            "Machine Learning Engineer\n",
            "Data Engineer\n",
            "Business Intelligence Analyst\n",
            "Quantitative Analyst\n",
            "Operations Analyst\n",
            "AI Engineer\n",
            "Statistician\n",
            "Data Analyst\n",
            "Data Engineer\n",
            "Business Intelligence Analyst\n",
            "Operations Analyst\n",
            "Database Administrator\n",
            "Data Analyst\n",
            "Business Intelligence Analyst\n"
          ]
        }
      ]
    },
    {
      "cell_type": "code",
      "source": [
        "for skill in my_skills:\n",
        "  for job in job_roles:\n",
        "    if skill in job['skills']:\n",
        "      print(job['role'])\n",
        "      break"
      ],
      "metadata": {
        "colab": {
          "base_uri": "https://localhost:8080/"
        },
        "id": "MLj8F_-URjpE",
        "outputId": "917d654d-295c-4db1-a77d-8aa92f187d38"
      },
      "execution_count": 170,
      "outputs": [
        {
          "output_type": "stream",
          "name": "stdout",
          "text": [
            "Data Analyst\n",
            "Data Analyst\n",
            "Data Analyst\n"
          ]
        }
      ]
    },
    {
      "cell_type": "code",
      "source": [
        "my_skills = ['Python', 'SQL', 'Excel', 'Tableau', 'Power Bi']\n",
        "for skill in my_skills:\n",
        "  for job in job_roles:\n",
        "    if skill in job['skills']:\n",
        "      print(job['role'])\n",
        "      break"
      ],
      "metadata": {
        "colab": {
          "base_uri": "https://localhost:8080/"
        },
        "id": "jSzkweB8Rtcd",
        "outputId": "e5a72409-ff43-4931-97f2-db010a3057b0"
      },
      "execution_count": 171,
      "outputs": [
        {
          "output_type": "stream",
          "name": "stdout",
          "text": [
            "Data Analyst\n",
            "Data Analyst\n",
            "Data Analyst\n",
            "Business Intelligence Analyst\n"
          ]
        }
      ]
    },
    {
      "cell_type": "code",
      "source": [
        "list_qualified =[]\n",
        "for skill in my_skills:\n",
        "  for job in job_roles:\n",
        "    if skill in job['skills']:\n",
        "      list_qualified.append(job['role'])\n",
        "      break\n"
      ],
      "metadata": {
        "id": "XnavWGw5Sf8q"
      },
      "execution_count": 177,
      "outputs": []
    },
    {
      "cell_type": "code",
      "source": [
        "list_qualified"
      ],
      "metadata": {
        "colab": {
          "base_uri": "https://localhost:8080/"
        },
        "id": "uG5gnXwDT8yd",
        "outputId": "1b6cf9c3-22f2-4b47-abbb-ab9430e354df"
      },
      "execution_count": 180,
      "outputs": [
        {
          "output_type": "execute_result",
          "data": {
            "text/plain": [
              "['Data Analyst',\n",
              " 'Data Analyst',\n",
              " 'Data Analyst',\n",
              " 'Business Intelligence Analyst']"
            ]
          },
          "metadata": {},
          "execution_count": 180
        }
      ]
    },
    {
      "cell_type": "code",
      "source": [
        "list_qualified.count('Data Analyst')\n"
      ],
      "metadata": {
        "colab": {
          "base_uri": "https://localhost:8080/"
        },
        "id": "D5deo47XUENm",
        "outputId": "1f03c73c-fb0b-482d-bc8b-a020a50c53db"
      },
      "execution_count": 185,
      "outputs": [
        {
          "output_type": "execute_result",
          "data": {
            "text/plain": [
              "3"
            ]
          },
          "metadata": {},
          "execution_count": 185
        }
      ]
    },
    {
      "cell_type": "code",
      "source": [
        "list_qualified.count('Business Intelligence Analyst')"
      ],
      "metadata": {
        "colab": {
          "base_uri": "https://localhost:8080/"
        },
        "id": "5BF387xmUkyW",
        "outputId": "b5faba21-6419-49ab-f439-80e080648285"
      },
      "execution_count": 186,
      "outputs": [
        {
          "output_type": "execute_result",
          "data": {
            "text/plain": [
              "1"
            ]
          },
          "metadata": {},
          "execution_count": 186
        }
      ]
    },
    {
      "cell_type": "code",
      "source": [
        "# Alternative\n",
        "\n",
        "for job in job_roles:\n",
        "  if all(skill in job['skills'] for skill in my_skills):\n",
        "    print(job['role'])"
      ],
      "metadata": {
        "id": "T5M0iLXFVVK7"
      },
      "execution_count": 187,
      "outputs": []
    },
    {
      "cell_type": "code",
      "source": [
        "job_roles"
      ],
      "metadata": {
        "colab": {
          "base_uri": "https://localhost:8080/"
        },
        "id": "IfZiLJbeWbSk",
        "outputId": "0d18e068-ad0b-4be0-c89d-6cf19286b32d"
      },
      "execution_count": 189,
      "outputs": [
        {
          "output_type": "execute_result",
          "data": {
            "text/plain": [
              "[{'role': 'Data Analyst', 'skills': ['Python', 'SQL', 'Excel']},\n",
              " {'role': 'Data Scientist',\n",
              "  'skills': ['Python', 'R', 'Machine Learning', 'Deep Learning']},\n",
              " {'role': 'Machine Learning Engineer',\n",
              "  'skills': ['Python', 'TensorFlow', 'PyTorch', 'Scikit-Learn']},\n",
              " {'role': 'Data Engineer',\n",
              "  'skills': ['Python', 'Apache Spark', 'Hadoop', 'SQL']},\n",
              " {'role': 'Business Intelligence Analyst',\n",
              "  'skills': ['Python', 'SQL', 'Tableau', 'Power BI', 'Excel']},\n",
              " {'role': 'Quantitative Analyst',\n",
              "  'skills': ['R', 'Python', 'MATLAB', 'Statistics']},\n",
              " {'role': 'Operations Analyst',\n",
              "  'skills': ['Python', 'SQL', 'Data Visualization', 'Process Improvement']},\n",
              " {'role': 'Database Administrator',\n",
              "  'skills': ['SQL', 'Oracle', 'MySQL', 'Database Management']},\n",
              " {'role': 'AI Engineer',\n",
              "  'skills': ['Python', 'TensorFlow', 'PyTorch', 'Computer Vision']},\n",
              " {'role': 'Statistician',\n",
              "  'skills': ['R', 'SAS', 'Python', 'Statistical Modeling']}]"
            ]
          },
          "metadata": {},
          "execution_count": 189
        }
      ]
    },
    {
      "cell_type": "code",
      "source": [
        "job_roles = [job['roles'] for job in job_roles if all(skill in job['skills'] for skill in my_skills)]"
      ],
      "metadata": {
        "id": "nhLYg-nAWmZp"
      },
      "execution_count": 191,
      "outputs": []
    },
    {
      "cell_type": "code",
      "source": [
        "job_roles"
      ],
      "metadata": {
        "colab": {
          "base_uri": "https://localhost:8080/"
        },
        "id": "06dQqIbrXl9v",
        "outputId": "3fea0ac6-1dcb-4bef-d0ea-cd55deb4fdd2"
      },
      "execution_count": 192,
      "outputs": [
        {
          "output_type": "execute_result",
          "data": {
            "text/plain": [
              "[{'role': 'Data Analyst', 'skills': ['Python', 'SQL', 'Excel']},\n",
              " {'role': 'Data Scientist',\n",
              "  'skills': ['Python', 'R', 'Machine Learning', 'Deep Learning']},\n",
              " {'role': 'Machine Learning Engineer',\n",
              "  'skills': ['Python', 'TensorFlow', 'PyTorch', 'Scikit-Learn']},\n",
              " {'role': 'Data Engineer',\n",
              "  'skills': ['Python', 'Apache Spark', 'Hadoop', 'SQL']},\n",
              " {'role': 'Business Intelligence Analyst',\n",
              "  'skills': ['Python', 'SQL', 'Tableau', 'Power BI', 'Excel']},\n",
              " {'role': 'Quantitative Analyst',\n",
              "  'skills': ['R', 'Python', 'MATLAB', 'Statistics']},\n",
              " {'role': 'Operations Analyst',\n",
              "  'skills': ['Python', 'SQL', 'Data Visualization', 'Process Improvement']},\n",
              " {'role': 'Database Administrator',\n",
              "  'skills': ['SQL', 'Oracle', 'MySQL', 'Database Management']},\n",
              " {'role': 'AI Engineer',\n",
              "  'skills': ['Python', 'TensorFlow', 'PyTorch', 'Computer Vision']},\n",
              " {'role': 'Statistician',\n",
              "  'skills': ['R', 'SAS', 'Python', 'Statistical Modeling']}]"
            ]
          },
          "metadata": {},
          "execution_count": 192
        }
      ]
    },
    {
      "cell_type": "code",
      "source": [],
      "metadata": {
        "id": "WSyArrpVXv7C"
      },
      "execution_count": 192,
      "outputs": []
    },
    {
      "cell_type": "code",
      "source": [],
      "metadata": {
        "id": "Qfd9KHTXaMN2"
      },
      "execution_count": null,
      "outputs": []
    },
    {
      "cell_type": "code",
      "source": [
        "# A deeper look into functions"
      ],
      "metadata": {
        "id": "p61D0-c_aMmq"
      },
      "execution_count": 193,
      "outputs": []
    },
    {
      "cell_type": "code",
      "source": [],
      "metadata": {
        "id": "BBysuSxmaRbH"
      },
      "execution_count": 194,
      "outputs": []
    },
    {
      "cell_type": "code",
      "source": [
        "salaries = [10000, 100050, 250000, 400000]"
      ],
      "metadata": {
        "id": "kQ0NL-vBcHwA"
      },
      "execution_count": 195,
      "outputs": []
    },
    {
      "cell_type": "code",
      "source": [
        "min(salaries)"
      ],
      "metadata": {
        "colab": {
          "base_uri": "https://localhost:8080/"
        },
        "id": "-yVT7fKRcpTv",
        "outputId": "b1cd2f6a-f007-4ed2-eb18-48a45593a0f3"
      },
      "execution_count": 196,
      "outputs": [
        {
          "output_type": "execute_result",
          "data": {
            "text/plain": [
              "10000"
            ]
          },
          "metadata": {},
          "execution_count": 196
        }
      ]
    },
    {
      "cell_type": "code",
      "source": [
        "max(salaries)"
      ],
      "metadata": {
        "colab": {
          "base_uri": "https://localhost:8080/"
        },
        "id": "V_juXm9wcsXt",
        "outputId": "f7e320c1-4f99-46eb-8c9c-1cf9d65632db"
      },
      "execution_count": 198,
      "outputs": [
        {
          "output_type": "execute_result",
          "data": {
            "text/plain": [
              "400000"
            ]
          },
          "metadata": {},
          "execution_count": 198
        }
      ]
    },
    {
      "cell_type": "code",
      "source": [
        "sum(salaries)"
      ],
      "metadata": {
        "colab": {
          "base_uri": "https://localhost:8080/"
        },
        "id": "Z_wvPJ2ecvmf",
        "outputId": "a39a3d8d-2ec0-4ac6-878e-347f982e80f3"
      },
      "execution_count": 203,
      "outputs": [
        {
          "output_type": "execute_result",
          "data": {
            "text/plain": [
              "760050"
            ]
          },
          "metadata": {},
          "execution_count": 203
        }
      ]
    },
    {
      "cell_type": "code",
      "source": [
        "(salaries)"
      ],
      "metadata": {
        "colab": {
          "base_uri": "https://localhost:8080/"
        },
        "id": "oZvC2bo7c0HZ",
        "outputId": "38ec49b6-60e6-48f8-a00f-c2ba9bd9bb01"
      },
      "execution_count": 206,
      "outputs": [
        {
          "output_type": "execute_result",
          "data": {
            "text/plain": [
              "[10000, 100050, 250000, 400000]"
            ]
          },
          "metadata": {},
          "execution_count": 206
        }
      ]
    },
    {
      "cell_type": "code",
      "source": [
        "sorted(salaries)"
      ],
      "metadata": {
        "colab": {
          "base_uri": "https://localhost:8080/"
        },
        "id": "d94Dtx9FdS0x",
        "outputId": "d0457fa5-a0dc-47cb-f275-11d3feb7bd03"
      },
      "execution_count": 205,
      "outputs": [
        {
          "output_type": "execute_result",
          "data": {
            "text/plain": [
              "[10000, 100050, 250000, 400000]"
            ]
          },
          "metadata": {},
          "execution_count": 205
        }
      ]
    },
    {
      "cell_type": "code",
      "source": [
        "# Calculations of bonus\n",
        "base_salary = 10000\n",
        "bonus_rate = 0.1\n",
        "bonus = base_salary * bonus_rate\n",
        "bonus"
      ],
      "metadata": {
        "colab": {
          "base_uri": "https://localhost:8080/"
        },
        "id": "caZye2Mrdcra",
        "outputId": "53b295ea-03da-4bd0-faed-33e5a77e8e97"
      },
      "execution_count": 208,
      "outputs": [
        {
          "output_type": "execute_result",
          "data": {
            "text/plain": [
              "1000.0"
            ]
          },
          "metadata": {},
          "execution_count": 208
        }
      ]
    },
    {
      "cell_type": "code",
      "source": [
        "base_salary = 10000\n",
        "bonus_rate = 0.1\n",
        "bonus = base_salary * bonus_rate\n",
        "print('Your Bonus is: ', bonus)\n",
        "total_salary = base_salary + bonus\n",
        "print('Your Total Salary is: ', total_salary)\n"
      ],
      "metadata": {
        "colab": {
          "base_uri": "https://localhost:8080/"
        },
        "id": "h5Ve6oB-eYD8",
        "outputId": "ee1bcb5c-d64f-4d14-ac9d-846de91c2506"
      },
      "execution_count": 213,
      "outputs": [
        {
          "output_type": "stream",
          "name": "stdout",
          "text": [
            "Your Bonus is:  1000.0\n",
            "Your Total Salary is:  11000.0\n"
          ]
        }
      ]
    },
    {
      "cell_type": "code",
      "source": [
        "# Defining your functions"
      ],
      "metadata": {
        "id": "gvdjxwZvgswG"
      },
      "execution_count": null,
      "outputs": []
    },
    {
      "cell_type": "code",
      "source": [
        "def calculate_salaries(base_salary,bonus_rate):\n",
        "  return(base_salary*(1 + bonus_rate))\n",
        ""
      ],
      "metadata": {
        "id": "Q6JMLhTZgr_l"
      },
      "execution_count": 218,
      "outputs": []
    },
    {
      "cell_type": "code",
      "source": [
        "calculate_salaries(10000,0.1)"
      ],
      "metadata": {
        "colab": {
          "base_uri": "https://localhost:8080/"
        },
        "id": "MkiKBtGnhc5t",
        "outputId": "5315fe15-bf7b-49a6-cc5d-de32cd6fbaac"
      },
      "execution_count": 219,
      "outputs": [
        {
          "output_type": "execute_result",
          "data": {
            "text/plain": [
              "11000.0"
            ]
          },
          "metadata": {},
          "execution_count": 219
        }
      ]
    },
    {
      "cell_type": "code",
      "source": [
        "\n",
        "\n",
        "def sum_of_two_numbers(a, b):\n",
        "  return a + b"
      ],
      "metadata": {
        "id": "sf6aGYXRe00q"
      },
      "execution_count": 214,
      "outputs": []
    },
    {
      "cell_type": "code",
      "source": [
        "sum_of_two_numbers(10, 2)"
      ],
      "metadata": {
        "colab": {
          "base_uri": "https://localhost:8080/"
        },
        "id": "GGtrUfLLfuvR",
        "outputId": "65a9004c-8739-4433-ce24-5e3b37e0d9c7"
      },
      "execution_count": 215,
      "outputs": [
        {
          "output_type": "execute_result",
          "data": {
            "text/plain": [
              "12"
            ]
          },
          "metadata": {},
          "execution_count": 215
        }
      ]
    },
    {
      "cell_type": "code",
      "source": [
        "# Lambda or Anonymous FUNCTIONS"
      ],
      "metadata": {
        "id": "n8LhcuukfzQG"
      },
      "execution_count": 220,
      "outputs": []
    },
    {
      "cell_type": "code",
      "source": [
        "square = lambda x: x**2"
      ],
      "metadata": {
        "id": "8X4sAs6ujz0Z"
      },
      "execution_count": 223,
      "outputs": []
    },
    {
      "cell_type": "code",
      "source": [
        "square(3)"
      ],
      "metadata": {
        "colab": {
          "base_uri": "https://localhost:8080/"
        },
        "id": "jgxUku-Yj-SO",
        "outputId": "4fe9aca7-37c9-42a1-a45e-f8c4052cc313"
      },
      "execution_count": 225,
      "outputs": [
        {
          "output_type": "execute_result",
          "data": {
            "text/plain": [
              "9"
            ]
          },
          "metadata": {},
          "execution_count": 225
        }
      ]
    },
    {
      "cell_type": "code",
      "source": [
        "mul_by_two = lambda x,y: x*2"
      ],
      "metadata": {
        "id": "R4ct6p7LllYA"
      },
      "execution_count": 231,
      "outputs": []
    },
    {
      "cell_type": "code",
      "source": [
        "(lambda x,y: x*2 + y) (3,4)"
      ],
      "metadata": {
        "colab": {
          "base_uri": "https://localhost:8080/"
        },
        "id": "TOLAuLSVkJ6-",
        "outputId": "ce53278b-522f-4f5b-f641-7ecd8632321a"
      },
      "execution_count": 234,
      "outputs": [
        {
          "output_type": "execute_result",
          "data": {
            "text/plain": [
              "10"
            ]
          },
          "metadata": {},
          "execution_count": 234
        }
      ]
    },
    {
      "cell_type": "code",
      "source": [
        "# Using List Comprehension\n",
        "\n",
        "list_salaries = [salary for salary in salaries]\n",
        "list_salaries"
      ],
      "metadata": {
        "colab": {
          "base_uri": "https://localhost:8080/"
        },
        "id": "Ib7XVnbrlFkO",
        "outputId": "2eb2d99a-8f8d-44b3-d2da-4bb068a2cfd1"
      },
      "execution_count": 238,
      "outputs": [
        {
          "output_type": "execute_result",
          "data": {
            "text/plain": [
              "[10000, 100050, 250000, 400000]"
            ]
          },
          "metadata": {},
          "execution_count": 238
        }
      ]
    },
    {
      "cell_type": "code",
      "source": [],
      "metadata": {
        "id": "w8OJq6BKnhlP"
      },
      "execution_count": null,
      "outputs": []
    }
  ],
  "metadata": {
    "colab": {
      "provenance": [],
      "authorship_tag": "ABX9TyMQithRk82bDsxP0eFHTNnf",
      "include_colab_link": true
    },
    "kernelspec": {
      "display_name": "Python 3",
      "name": "python3"
    },
    "language_info": {
      "name": "python"
    }
  },
  "nbformat": 4,
  "nbformat_minor": 0
}