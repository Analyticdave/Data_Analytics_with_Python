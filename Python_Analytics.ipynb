{
  "cells": [
    {
      "cell_type": "markdown",
      "metadata": {
        "id": "view-in-github",
        "colab_type": "text"
      },
      "source": [
        "<a href=\"https://colab.research.google.com/github/Analyticdave/Data_Analytics_with_Python/blob/main/Python_Analytics.ipynb\" target=\"_parent\"><img src=\"https://colab.research.google.com/assets/colab-badge.svg\" alt=\"Open In Colab\"/></a>"
      ]
    },
    {
      "cell_type": "code",
      "execution_count": null,
      "metadata": {
        "id": "VW1ob1XtW9kA"
      },
      "outputs": [],
      "source": []
    },
    {
      "cell_type": "code",
      "execution_count": null,
      "metadata": {
        "id": "YzkSMwmHXNXM"
      },
      "outputs": [],
      "source": [
        "p = print"
      ]
    },
    {
      "cell_type": "code",
      "execution_count": null,
      "metadata": {
        "colab": {
          "base_uri": "https://localhost:8080/"
        },
        "id": "gLiuQE2RYXA2",
        "outputId": "654f3674-cda7-477f-cf5e-27ac5a6b164a"
      },
      "outputs": [
        {
          "name": "stdout",
          "output_type": "stream",
          "text": [
            "God is great!\n"
          ]
        }
      ],
      "source": [
        "p('God is great!')"
      ]
    },
    {
      "cell_type": "code",
      "execution_count": null,
      "metadata": {
        "id": "nwPbAs6vYdGc"
      },
      "outputs": [],
      "source": [
        "def greet():\n",
        "  return \"What's up, Data guru\""
      ]
    },
    {
      "cell_type": "code",
      "execution_count": null,
      "metadata": {
        "colab": {
          "base_uri": "https://localhost:8080/",
          "height": 35
        },
        "id": "TVPY7HOLY75k",
        "outputId": "f7aebe40-392e-4b54-fc93-3f191308b08d"
      },
      "outputs": [
        {
          "data": {
            "application/vnd.google.colaboratory.intrinsic+json": {
              "type": "string"
            },
            "text/plain": [
              "\"What's up, Data guru\""
            ]
          },
          "execution_count": 6,
          "metadata": {},
          "output_type": "execute_result"
        }
      ],
      "source": [
        "greet()"
      ]
    },
    {
      "cell_type": "code",
      "execution_count": null,
      "metadata": {
        "id": "vBePPNbbY9Tl"
      },
      "outputs": [],
      "source": [
        "job_title = 'Data Scientist'\n",
        "Location = 'Nigeria'\n",
        "Salary = 1000000"
      ]
    },
    {
      "cell_type": "code",
      "execution_count": null,
      "metadata": {
        "colab": {
          "base_uri": "https://localhost:8080/"
        },
        "id": "S4Gagdn-ab8V",
        "outputId": "9fb4d3cb-07b0-488f-d3e6-ee211c5b6866"
      },
      "outputs": [
        {
          "name": "stdout",
          "output_type": "stream",
          "text": [
            "Job: Data Scientist\n",
            "Location: Nigeria\n",
            "Salary: 1000000\n"
          ]
        }
      ],
      "source": [
        "p(f\"Job: {job_title}\")\n",
        "p(f\"Location: {Location}\")\n",
        "p(f\"Salary: {Salary}\")"
      ]
    },
    {
      "cell_type": "code",
      "execution_count": null,
      "metadata": {
        "id": "Wqwsd1jRa6Fv"
      },
      "outputs": [],
      "source": [
        "def info_show(job_title, Location, Salary):\n",
        "  p(f\"Job: {job_title}\")\n",
        "  p(f\"Location: {Location}\")\n",
        "  p(f\"Salary: {Salary}\")"
      ]
    },
    {
      "cell_type": "code",
      "execution_count": null,
      "metadata": {
        "colab": {
          "base_uri": "https://localhost:8080/"
        },
        "id": "8fSkj7CrcRwF",
        "outputId": "4942b8dd-7367-4acf-fe23-1c40c762fb11"
      },
      "outputs": [
        {
          "name": "stdout",
          "output_type": "stream",
          "text": [
            "Job: Data Scientist\n",
            "Location: Nigeria\n",
            "Salary: 1000000\n"
          ]
        }
      ],
      "source": [
        "info_show(job_title, Location, Salary)"
      ]
    },
    {
      "cell_type": "code",
      "execution_count": null,
      "metadata": {
        "id": "U5BG785EcaL2"
      },
      "outputs": [],
      "source": [
        "class JobPost:\n",
        "  def __init__(self, job_title, Location, Salary):\n",
        "    self.job_title = job_title\n",
        "    self.Location = Location\n",
        "    self.Salary = Salary"
      ]
    },
    {
      "cell_type": "code",
      "execution_count": null,
      "metadata": {
        "colab": {
          "base_uri": "https://localhost:8080/"
        },
        "id": "bcauCLLocwF5",
        "outputId": "40dfd8e4-bd67-4590-f003-cdbd0c3dba8d"
      },
      "outputs": [
        {
          "data": {
            "text/plain": [
              "<__main__.JobPost at 0x792425c65f90>"
            ]
          },
          "execution_count": 22,
          "metadata": {},
          "output_type": "execute_result"
        }
      ],
      "source": [
        "JobPost(job_title, Location, Salary)"
      ]
    },
    {
      "cell_type": "code",
      "execution_count": null,
      "metadata": {
        "id": "Umigr_bEdbZN"
      },
      "outputs": [],
      "source": [
        "# Attrbutes: The variable of an object.\n",
        "# Attribute: is a field record, defined by a class"
      ]
    },
    {
      "cell_type": "code",
      "execution_count": null,
      "metadata": {
        "id": "YadEcsiwfhGf"
      },
      "outputs": [],
      "source": [
        "Job_1 = JobPost(job_title, Location, Salary) # An instance of JobPost"
      ]
    },
    {
      "cell_type": "code",
      "execution_count": null,
      "metadata": {
        "colab": {
          "base_uri": "https://localhost:8080/"
        },
        "id": "aE66ovLSfoUL",
        "outputId": "825e7a1a-4f8f-414e-a033-fc50ba8ab482"
      },
      "outputs": [
        {
          "data": {
            "text/plain": [
              "1000000"
            ]
          },
          "execution_count": 25,
          "metadata": {},
          "output_type": "execute_result"
        }
      ],
      "source": [
        "Job_1.Salary"
      ]
    },
    {
      "cell_type": "code",
      "execution_count": null,
      "metadata": {
        "id": "dqkI6gEdfvM_"
      },
      "outputs": [],
      "source": [
        "# Methods: The function of an object\n",
        "# Method: A function defined inside a class that operates its object"
      ]
    },
    {
      "cell_type": "code",
      "execution_count": null,
      "metadata": {
        "colab": {
          "base_uri": "https://localhost:8080/"
        },
        "id": "UXgt8TkjgRTU",
        "outputId": "9b04f780-8539-44e8-df5d-4ff5c499138e"
      },
      "outputs": [
        {
          "data": {
            "text/plain": [
              "1010000"
            ]
          },
          "execution_count": 28,
          "metadata": {},
          "output_type": "execute_result"
        }
      ],
      "source": [
        "Salary.__add__(10000)"
      ]
    },
    {
      "cell_type": "code",
      "execution_count": null,
      "metadata": {
        "id": "C7bWEytdhAF3"
      },
      "outputs": [],
      "source": [
        "# Data type"
      ]
    },
    {
      "cell_type": "code",
      "execution_count": null,
      "metadata": {
        "id": "ei-VGQY0hv11"
      },
      "outputs": [],
      "source": []
    },
    {
      "cell_type": "markdown",
      "metadata": {
        "id": "YAWYIMHXkB-G"
      },
      "source": [
        "### Python has several built-in data types:\n",
        "\n",
        ">> ***Numeric Types***\n",
        "1. Integers (int): whole numbers, e.g., 1, 2, 3, etc.\n",
        "2. Floating Point Numbers (float): decimal numbers, e.g., 3.14, -0.5, etc.\n",
        "3. Complex Numbers (complex): numbers with real and imaginary parts, e.g., 3 + 4j.\n",
        "\n",
        ">> __Sequence Types__\n",
        "1. Strings (str): sequences of characters, e.g., \"hello\", 'hello', etc. Strings can be enclosed in single quotes or double quotes.\n",
        "2. Lists (list): ordered collections of items, e.g., [1, 2, 3], [\"a\", \"b\", \"c\"], etc.\n",
        "3. Tuples (tuple): ordered, immutable collections of items, e.g., (1, 2, 3), (\"a\", \"b\", \"c\"), etc.\n",
        "\n",
        ">> ***Mapping Type***\n",
        "1. Dictionaries (dict): unordered collections of key-value pairs, e.g., {\"name\": \"John\", \"age\": 30}, etc.\n",
        "\n",
        ">> ***Set Types***\n",
        "1. Sets (set): unordered collections of unique items, e.g., {1, 2, 3}, {\"a\", \"b\", \"c\"}, etc.\n",
        "2. Frozensets (frozenset): immutable sets, e.g., frozenset({1, 2, 3}).\n",
        "\n",
        ">> ***Boolean Type***\n",
        "1. Boolean (bool): a logical value that can be either True or False.\n",
        "\n",
        ">> ***Binary Types***\n",
        "1. Bytes (bytes): sequences of integers in the range 0 <= x < 256, e.g., b'hello'.\n",
        "2. ByteArray (bytearray): mutable sequences of integers in the range 0 <= x < 256.\n",
        "3. MemoryView (memoryview): a view into an existing buffer, e.g., a bytes or bytearray object.\n",
        "\n",
        ">> ***None Type***\n",
        "1. None (NoneType): a special type with a single value, None, which represents the absence of a value.\n",
        "\n",
        "These are the basic data types in Python. Understanding these data types is essential for writing effective Python code."
      ]
    },
    {
      "cell_type": "code",
      "execution_count": null,
      "metadata": {
        "id": "4xnB9mm2kGCH"
      },
      "outputs": [],
      "source": [
        "# Strings"
      ]
    },
    {
      "cell_type": "code",
      "execution_count": null,
      "metadata": {
        "id": "lstkCfKDopoK"
      },
      "outputs": [],
      "source": [
        "help(str)"
      ]
    },
    {
      "cell_type": "code",
      "execution_count": null,
      "metadata": {
        "id": "cSp3u2Efo3c-"
      },
      "outputs": [],
      "source": [
        "Skill = 'Python'"
      ]
    },
    {
      "cell_type": "code",
      "execution_count": null,
      "metadata": {
        "colab": {
          "base_uri": "https://localhost:8080/",
          "height": 35
        },
        "id": "WiIy48R5p5Ws",
        "outputId": "85e18000-50f8-4c55-8ced-633d58e71b68"
      },
      "outputs": [
        {
          "data": {
            "application/vnd.google.colaboratory.intrinsic+json": {
              "type": "string"
            },
            "text/plain": [
              "'PYTHON'"
            ]
          },
          "execution_count": 33,
          "metadata": {},
          "output_type": "execute_result"
        }
      ],
      "source": [
        "Skill.upper()"
      ]
    },
    {
      "cell_type": "code",
      "execution_count": null,
      "metadata": {
        "colab": {
          "base_uri": "https://localhost:8080/",
          "height": 35
        },
        "id": "NW3mC3mSqT02",
        "outputId": "d8fe1720-cca8-4c7f-8cc9-b6fdceeb4e77"
      },
      "outputs": [
        {
          "data": {
            "application/vnd.google.colaboratory.intrinsic+json": {
              "type": "string"
            },
            "text/plain": [
              "'python'"
            ]
          },
          "execution_count": 34,
          "metadata": {},
          "output_type": "execute_result"
        }
      ],
      "source": [
        "Skill.lower()"
      ]
    },
    {
      "cell_type": "code",
      "execution_count": null,
      "metadata": {
        "colab": {
          "base_uri": "https://localhost:8080/",
          "height": 35
        },
        "id": "KjftnfpsqxlY",
        "outputId": "121507c0-b249-4111-ab7f-c3b0a8ce2290"
      },
      "outputs": [
        {
          "data": {
            "application/vnd.google.colaboratory.intrinsic+json": {
              "type": "string"
            },
            "text/plain": [
              "'Python Programming'"
            ]
          },
          "execution_count": 37,
          "metadata": {},
          "output_type": "execute_result"
        }
      ],
      "source": [
        "Skill.__add__(' Programming')"
      ]
    },
    {
      "cell_type": "code",
      "execution_count": null,
      "metadata": {
        "colab": {
          "base_uri": "https://localhost:8080/",
          "height": 35
        },
        "id": "VOg0OUDSq-Z7",
        "outputId": "349b0844-33f1-4f11-df4f-840e3fa878ce"
      },
      "outputs": [
        {
          "data": {
            "application/vnd.google.colaboratory.intrinsic+json": {
              "type": "string"
            },
            "text/plain": [
              "'Dython'"
            ]
          },
          "execution_count": 39,
          "metadata": {},
          "output_type": "execute_result"
        }
      ],
      "source": [
        "Skill.replace('P','D',2)"
      ]
    },
    {
      "cell_type": "code",
      "execution_count": null,
      "metadata": {
        "id": "hVh5vzfLtvon"
      },
      "outputs": [],
      "source": [
        "Skill = 'Python Programming'"
      ]
    },
    {
      "cell_type": "code",
      "execution_count": null,
      "metadata": {
        "colab": {
          "base_uri": "https://localhost:8080/",
          "height": 35
        },
        "id": "O-K_UE43uGbf",
        "outputId": "4bf9fcb4-7f9d-469e-95e5-9c08b83b50e9"
      },
      "outputs": [
        {
          "data": {
            "application/vnd.google.colaboratory.intrinsic+json": {
              "type": "string"
            },
            "text/plain": [
              "'Python Programming'"
            ]
          },
          "execution_count": 42,
          "metadata": {},
          "output_type": "execute_result"
        }
      ],
      "source": [
        "Skill"
      ]
    },
    {
      "cell_type": "code",
      "execution_count": null,
      "metadata": {
        "colab": {
          "base_uri": "https://localhost:8080/"
        },
        "id": "PJ908duyuQCw",
        "outputId": "dfa59466-9107-49f8-9cbf-7849710717a6"
      },
      "outputs": [
        {
          "data": {
            "text/plain": [
              "['Python', 'Programming']"
            ]
          },
          "execution_count": 43,
          "metadata": {},
          "output_type": "execute_result"
        }
      ],
      "source": [
        "Skill.split(sep=' ', maxsplit= 1)"
      ]
    },
    {
      "cell_type": "code",
      "execution_count": null,
      "metadata": {
        "id": "LHckLzd4vAxo"
      },
      "outputs": [],
      "source": [
        "Fun = 'Data Analytics' + ' is fun!'"
      ]
    },
    {
      "cell_type": "code",
      "execution_count": null,
      "metadata": {
        "colab": {
          "base_uri": "https://localhost:8080/",
          "height": 35
        },
        "id": "ylegzvbhwNW1",
        "outputId": "11161918-3c80-4806-985b-c0afaca297b7"
      },
      "outputs": [
        {
          "data": {
            "application/vnd.google.colaboratory.intrinsic+json": {
              "type": "string"
            },
            "text/plain": [
              "'Data Analytics is fun!'"
            ]
          },
          "execution_count": 46,
          "metadata": {},
          "output_type": "execute_result"
        }
      ],
      "source": [
        "Fun"
      ]
    },
    {
      "cell_type": "code",
      "execution_count": null,
      "metadata": {
        "colab": {
          "base_uri": "https://localhost:8080/",
          "height": 70
        },
        "id": "wMaXNpf0wfRz",
        "outputId": "fb49085c-a936-413b-e34e-6f67ce8df3f3"
      },
      "outputs": [
        {
          "data": {
            "application/vnd.google.colaboratory.intrinsic+json": {
              "type": "string"
            },
            "text/plain": [
              "'Data Analytics is fun!Data Analytics is fun!Data Analytics is fun!Data Analytics is fun!Data Analytics is fun!Data Analytics is fun!Data Analytics is fun!Data Analytics is fun!Data Analytics is fun!Data Analytics is fun! '"
            ]
          },
          "execution_count": 53,
          "metadata": {},
          "output_type": "execute_result"
        }
      ],
      "source": [
        "Fun * 10"
      ]
    },
    {
      "cell_type": "code",
      "execution_count": null,
      "metadata": {
        "colab": {
          "base_uri": "https://localhost:8080/"
        },
        "id": "ipZ4ZkIIwh04",
        "outputId": "15ce5ad0-6c41-4cc4-af8f-b175c6e95d7c"
      },
      "outputs": [
        {
          "data": {
            "text/plain": [
              "22"
            ]
          },
          "execution_count": 54,
          "metadata": {},
          "output_type": "execute_result"
        }
      ],
      "source": [
        "len(Fun)"
      ]
    },
    {
      "cell_type": "code",
      "execution_count": null,
      "metadata": {
        "id": "zyUaVQBmxIUu"
      },
      "outputs": [],
      "source": [
        "# String Formating"
      ]
    },
    {
      "cell_type": "code",
      "execution_count": null,
      "metadata": {
        "id": "Om5e119zzMUA"
      },
      "outputs": [],
      "source": []
    },
    {
      "cell_type": "markdown",
      "metadata": {
        "id": "vbmgojLszNkC"
      },
      "source": [
        "***String formatting in Python is a way to insert values into a string. There are several ways to format strings in Python:***\n",
        "\n",
        "1. *Using the % Operator*\n",
        "This is an older way of formatting strings. It's not as powerful as other methods, but it's still widely used.\n",
        "\n",
        "\n",
        "name = \"John\"\n",
        "age = 30\n",
        "print(\"My name is %s and I am %d years old.\" % (name, age))\n",
        "\n",
        "\n",
        "2. *Using the str.format() Method*\n",
        "This method is more powerful than the % operator. It allows you to specify the format of the values.\n",
        "\n",
        "\n",
        "name = \"John\"\n",
        "age = 30\n",
        "print(\"My name is {} and I am {} years old.\".format(name, age))\n",
        "\n",
        "\n",
        "You can also specify the format of the values:\n",
        "\n",
        "\n",
        "pi = 3.14159265359\n",
        "print(\"The value of pi is {:.2f}\".format(pi))\n",
        "\n",
        "\n",
        "3. Using F-Strings (Formatted String Literals)\n",
        "F-strings are a new way of formatting strings in Python, introduced in version 3.6. They are more readable and convenient than other methods.\n",
        "\n",
        "\n",
        "name = \"John\"\n",
        "age = 30\n",
        "print(f\"My name is {name} and I am {age} years old.\")\n",
        "\n",
        "\n",
        "You can also specify the format of the values:\n",
        "\n",
        "\n",
        "pi = 3.14159265359\n",
        "print(f\"The value of pi is {pi:.2f}\")\n",
        "\n",
        "\n",
        "String Formatting Options\n",
        "Here are some common string formatting options:\n",
        "\n",
        "- d or i: decimal integer\n",
        "- f: fixed-point number\n",
        "- e: exponential notation\n",
        "- g: general format (fixed or exponential notation)\n",
        "- s: string\n",
        "- x or X: hexadecimal integer\n",
        "\n",
        "You can also specify the precision and width of the formatted value:\n",
        "\n",
        "\n",
        "pi = 3.14159265359\n",
        "print(f\"The value of pi is {pi:10.2f}\")  # width 10, precision 2\n",
        "\n",
        "\n",
        "Examples\n",
        "Here are some more examples of string formatting:\n",
        "\n",
        "\n",
        "# formatting integers\n",
        "x = 123\n",
        "print(f\"The value of x is {x:04d}\")  # zero-padding\n",
        "\n",
        "# formatting floats\n",
        "pi = 3.14159265359\n",
        "print(f\"The value of pi is {pi:.2e}\")  # exponential notation\n",
        "\n",
        "# formatting strings\n",
        "name = \"John\"\n",
        "print(f\"Hello, {name.upper()}!\")  # uppercase\n",
        "\n",
        "\n",
        "These are just a few examples of string formatting in Python. You can use these techniques to create complex and formatted strings."
      ]
    },
    {
      "cell_type": "code",
      "execution_count": null,
      "metadata": {
        "id": "P0J4jMipzg5C"
      },
      "outputs": [],
      "source": [
        "Language = 'Python'\n",
        "User = 'Data Analyst'"
      ]
    },
    {
      "cell_type": "code",
      "execution_count": null,
      "metadata": {
        "colab": {
          "base_uri": "https://localhost:8080/",
          "height": 35
        },
        "id": "tKUV8vP20U4r",
        "outputId": "e04a6ef2-0eaf-4ba6-a00d-6733615f919c"
      },
      "outputs": [
        {
          "data": {
            "application/vnd.google.colaboratory.intrinsic+json": {
              "type": "string"
            },
            "text/plain": [
              "' Language: Python'"
            ]
          },
          "execution_count": 57,
          "metadata": {},
          "output_type": "execute_result"
        }
      ],
      "source": [
        "' Language: ' + Language"
      ]
    },
    {
      "cell_type": "code",
      "execution_count": null,
      "metadata": {
        "colab": {
          "base_uri": "https://localhost:8080/",
          "height": 35
        },
        "id": "WCboPyGP0wBJ",
        "outputId": "cd15cff2-b20c-4de7-de18-1fb98fb9b019"
      },
      "outputs": [
        {
          "data": {
            "application/vnd.google.colaboratory.intrinsic+json": {
              "type": "string"
            },
            "text/plain": [
              "'User: Data Analyst'"
            ]
          },
          "execution_count": 58,
          "metadata": {},
          "output_type": "execute_result"
        }
      ],
      "source": [
        "'User: ' + User"
      ]
    },
    {
      "cell_type": "code",
      "execution_count": null,
      "metadata": {
        "colab": {
          "base_uri": "https://localhost:8080/",
          "height": 35
        },
        "id": "Me2bjcVh06C_",
        "outputId": "1c201d5c-ac0a-4f95-87ee-a77cf4253575"
      },
      "outputs": [
        {
          "data": {
            "application/vnd.google.colaboratory.intrinsic+json": {
              "type": "string"
            },
            "text/plain": [
              "'Language: Python'"
            ]
          },
          "execution_count": 60,
          "metadata": {},
          "output_type": "execute_result"
        }
      ],
      "source": [
        "# format(...)\n",
        "#  |      S.format(*args, **kwargs) -> str\n",
        "#  |\n",
        "#  |      Return a formatted version of S, using substitutions from args and kwargs.\n",
        "#  |      The substitutions are identified by braces ('{' and '}').\n",
        "\n",
        "#  | creating a string with Language \"Python\"\n",
        "Language = 'Python'\n",
        "User = 'Data Analyst'\n",
        "\n",
        "'Language: {}'.format(Language)\n"
      ]
    },
    {
      "cell_type": "code",
      "execution_count": null,
      "metadata": {
        "colab": {
          "base_uri": "https://localhost:8080/",
          "height": 35
        },
        "id": "BYJYqLDm2aZo",
        "outputId": "e042f0f0-528b-4ca3-9380-fa5d7d8dc986"
      },
      "outputs": [
        {
          "data": {
            "application/vnd.google.colaboratory.intrinsic+json": {
              "type": "string"
            },
            "text/plain": [
              "'User: Data Analyst'"
            ]
          },
          "execution_count": 61,
          "metadata": {},
          "output_type": "execute_result"
        }
      ],
      "source": [
        "#  | Creating a string with user \"Data Analysyt\"\n",
        "Language = 'Python'\n",
        "User = 'Data Analyst'\n",
        "\n",
        "'User: {}'.format(User)"
      ]
    },
    {
      "cell_type": "code",
      "execution_count": null,
      "metadata": {
        "colab": {
          "base_uri": "https://localhost:8080/",
          "height": 35
        },
        "id": "ORNIenl4Efm7",
        "outputId": "f1e2c04e-ea23-4f97-e585-beef6d0e6689"
      },
      "outputs": [
        {
          "data": {
            "application/vnd.google.colaboratory.intrinsic+json": {
              "type": "string"
            },
            "text/plain": [
              "'Programming Language: Python; User: Data Analyst'"
            ]
          },
          "execution_count": 64,
          "metadata": {},
          "output_type": "execute_result"
        }
      ],
      "source": [
        "#  | Combinning both Language and User in the String format\n",
        "Language = 'Python'\n",
        "User = 'Data Analyst'\n",
        "\n",
        "'Programming Language: {}; User: {}'.format(Language, User)"
      ]
    },
    {
      "cell_type": "code",
      "execution_count": null,
      "metadata": {
        "colab": {
          "base_uri": "https://localhost:8080/",
          "height": 35
        },
        "id": "rbx3Psp_FAM8",
        "outputId": "36e6dcab-74ea-4055-eb19-ec9fc90cf7a3"
      },
      "outputs": [
        {
          "data": {
            "application/vnd.google.colaboratory.intrinsic+json": {
              "type": "string"
            },
            "text/plain": [
              "'Programming Language: Python; User: Data Analyst'"
            ]
          },
          "execution_count": 65,
          "metadata": {},
          "output_type": "execute_result"
        }
      ],
      "source": [
        "#  | Using f-strings Formating Literals\n",
        "Language = 'Python'\n",
        "User = 'Data Analyst'\n",
        "f'Programming Language: {Language}; User: {User}' # .format is not required"
      ]
    },
    {
      "cell_type": "code",
      "execution_count": null,
      "metadata": {
        "id": "ODKwMVW3Gatw"
      },
      "outputs": [],
      "source": [
        "# %-Formating String Literals"
      ]
    },
    {
      "cell_type": "code",
      "execution_count": null,
      "metadata": {
        "colab": {
          "base_uri": "https://localhost:8080/",
          "height": 35
        },
        "id": "cLL-S38AHm8M",
        "outputId": "97ff2d59-90e1-41c5-b549-e6f76ca41fe5"
      },
      "outputs": [
        {
          "data": {
            "application/vnd.google.colaboratory.intrinsic+json": {
              "type": "string"
            },
            "text/plain": [
              "'Programming Language: Python'"
            ]
          },
          "execution_count": 68,
          "metadata": {},
          "output_type": "execute_result"
        }
      ],
      "source": [
        "'Programming Language: %s' % (Language)"
      ]
    },
    {
      "cell_type": "code",
      "execution_count": null,
      "metadata": {
        "colab": {
          "base_uri": "https://localhost:8080/",
          "height": 35
        },
        "id": "HJO0yOwOH2hj",
        "outputId": "3a85829d-0872-463d-f940-a8598c02afe4"
      },
      "outputs": [
        {
          "data": {
            "application/vnd.google.colaboratory.intrinsic+json": {
              "type": "string"
            },
            "text/plain": [
              "'User: Data Analyst'"
            ]
          },
          "execution_count": 73,
          "metadata": {},
          "output_type": "execute_result"
        }
      ],
      "source": [
        "'User: %s' % (User)\n"
      ]
    },
    {
      "cell_type": "code",
      "execution_count": null,
      "metadata": {
        "colab": {
          "base_uri": "https://localhost:8080/",
          "height": 35
        },
        "id": "dPJ__pk6IDt3",
        "outputId": "8027fb48-72dd-4371-a4b4-e46efaa2b924"
      },
      "outputs": [
        {
          "data": {
            "application/vnd.google.colaboratory.intrinsic+json": {
              "type": "string"
            },
            "text/plain": [
              "'Programming Language: Python; User: Data Analyst'"
            ]
          },
          "execution_count": 70,
          "metadata": {},
          "output_type": "execute_result"
        }
      ],
      "source": [
        "'Programming Language: %s; User: %s' % (Language, User)"
      ]
    },
    {
      "cell_type": "code",
      "execution_count": null,
      "metadata": {
        "id": "zBgZY-ZEIGyd"
      },
      "outputs": [],
      "source": [
        "#  | The join method"
      ]
    },
    {
      "cell_type": "code",
      "execution_count": null,
      "metadata": {
        "colab": {
          "base_uri": "https://localhost:8080/",
          "height": 35
        },
        "id": "HiEJMiqMIxcL",
        "outputId": "40cc5d71-5352-473c-b11b-6f87df3e0b76"
      },
      "outputs": [
        {
          "data": {
            "application/vnd.google.colaboratory.intrinsic+json": {
              "type": "string"
            },
            "text/plain": [
              "'0, 1, 2, 3, 4, 5, 6, 7, 8, 9'"
            ]
          },
          "execution_count": 75,
          "metadata": {},
          "output_type": "execute_result"
        }
      ],
      "source": [
        "integers = '0123456789'\n",
        "', '.join(integers)"
      ]
    },
    {
      "cell_type": "code",
      "execution_count": null,
      "metadata": {
        "colab": {
          "base_uri": "https://localhost:8080/",
          "height": 35
        },
        "id": "FmH4jtV8JAsn",
        "outputId": "c495548a-3c47-4766-8a09-6b9e05314556"
      },
      "outputs": [
        {
          "data": {
            "application/vnd.google.colaboratory.intrinsic+json": {
              "type": "string"
            },
            "text/plain": [
              "'Python| SQL| Machine Learning| Excel| Tableau| Power BI'"
            ]
          },
          "execution_count": 77,
          "metadata": {},
          "output_type": "execute_result"
        }
      ],
      "source": [
        "Skills = ['Python', 'SQL', 'Machine Learning','Excel','Tableau', 'Power BI']\n",
        "'| '.join(Skills)"
      ]
    },
    {
      "cell_type": "code",
      "execution_count": null,
      "metadata": {
        "id": "Xis0sEFFJsQ8"
      },
      "outputs": [],
      "source": [
        "# Operators"
      ]
    },
    {
      "cell_type": "code",
      "execution_count": null,
      "metadata": {
        "id": "hTA4t3DGJye7"
      },
      "outputs": [],
      "source": []
    },
    {
      "cell_type": "markdown",
      "metadata": {
        "id": "bUzniVvhKtXL"
      },
      "source": [
        "Operators in Python are special symbols used to perform operations on variables and values. Here are some common operators in Python:\n",
        "\n",
        "Arithmetic Operators\n",
        "1. Addition (+): a + b\n",
        "2. Subtraction (-): a - b\n",
        "3. Multiplication (*): a * b\n",
        "4. Division (/): a / b\n",
        "5. Modulus (%): a % b (remainder of division)\n",
        "6. Exponentiation (**): a ** b (a to the power of b)\n",
        "7. Floor Division (//): a // b (integer division)\n",
        "\n",
        "Examples:\n",
        "\n",
        "\n",
        "a = 10\n",
        "b = 3\n",
        "\n",
        "print(a + b)  # Output: 13\n",
        "print(a - b)  # Output: 7\n",
        "print(a * b)  # Output: 30\n",
        "print(a / b)  # Output: 3.3333333333333335\n",
        "print(a % b)  # Output: 1\n",
        "print(a ** b)  # Output: 1000\n",
        "print(a // b)  # Output: 3\n",
        "\n",
        "\n",
        "Comparison Operators\n",
        "1. Equal (==): a == b\n",
        "2. Not Equal (!=): a != b\n",
        "3. Greater Than (>): a > b\n",
        "4. Less Than (<): a < b\n",
        "5. Greater Than or Equal (>=): a >= b\n",
        "6. Less Than or Equal (<=): a <= b\n",
        "\n",
        "Examples:\n",
        "\n",
        "\n",
        "a = 10\n",
        "b = 5\n",
        "\n",
        "print(a == b)  # Output: False\n",
        "print(a != b)  # Output: True\n",
        "print(a > b)  # Output: True\n",
        "print(a < b)  # Output: False\n",
        "print(a >= b)  # Output: True\n",
        "print(a <= b)  # Output: False\n",
        "\n",
        "\n",
        "Logical Operators\n",
        "1. And (and): a and b\n",
        "2. Or (or): a or b\n",
        "3. Not (not): not a\n",
        "\n",
        "Examples:\n",
        "\n",
        "\n",
        "a = True\n",
        "b = False\n",
        "\n",
        "print(a and b)  # Output: False\n",
        "print(a or b)  # Output: True\n",
        "print(not a)  # Output: False\n",
        "\n",
        "\n",
        "Assignment Operators\n",
        "1. Assignment (=): a = b\n",
        "2. Addition Assignment (+=): a += b (equivalent to a = a + b)\n",
        "3. Subtraction Assignment (-=): a -= b (equivalent to a = a - b)\n",
        "4. Multiplication Assignment (*=): a *= b (equivalent to a = a * b)\n",
        "5. Division Assignment (/=): a /= b (equivalent to a = a / b)\n",
        "\n",
        "Examples:\n",
        "\n",
        "\n",
        "a = 10\n",
        "b = 5\n",
        "\n",
        "a += b\n",
        "print(a)  # Output: 15\n",
        "\n",
        "a -= b\n",
        "print(a)  # Output: 10\n",
        "\n",
        "a *= b\n",
        "print(a)  # Output: 50\n",
        "\n",
        "a /= b\n",
        "print(a)  # Output: 10.0\n",
        "\n",
        "\n",
        "Bitwise Operators\n",
        "1. Bitwise AND (&): a & b\n",
        "2. Bitwise OR (|): a | b\n",
        "3. Bitwise XOR (^): a ^ b\n",
        "4. Bitwise NOT (~): ~a\n",
        "\n",
        "Examples:\n",
        "\n",
        "\n",
        "a = 5   # binary: 101\n",
        "b = 3   # binary: 011\n",
        "\n",
        "print(a & b)  # Output: 1   # binary: 001\n",
        "print(a | b)  # Output: 7   # binary: 111\n",
        "print(a ^ b)  # Output: 6   # binary: 110\n",
        "print(~a)     # Output: -6  # binary: ...111010\n",
        "\n",
        "\n",
        "These are the basic operators in Python. Understanding these operators is essential for writing effective Python code."
      ]
    },
    {
      "cell_type": "code",
      "execution_count": null,
      "metadata": {
        "colab": {
          "base_uri": "https://localhost:8080/"
        },
        "id": "L7to0vDuK6o7",
        "outputId": "e9b44c23-a073-4397-eeea-c87224c9b0e5"
      },
      "outputs": [
        {
          "data": {
            "text/plain": [
              "7"
            ]
          },
          "execution_count": 78,
          "metadata": {},
          "output_type": "execute_result"
        }
      ],
      "source": [
        "5 + 2"
      ]
    },
    {
      "cell_type": "code",
      "execution_count": null,
      "metadata": {
        "colab": {
          "base_uri": "https://localhost:8080/"
        },
        "id": "hiKOSxDRXoeq",
        "outputId": "30c83d7d-ead4-43fd-fbd3-36763fd223dd"
      },
      "outputs": [
        {
          "data": {
            "text/plain": [
              "10"
            ]
          },
          "execution_count": 79,
          "metadata": {},
          "output_type": "execute_result"
        }
      ],
      "source": [
        "5 * 2"
      ]
    },
    {
      "cell_type": "code",
      "execution_count": null,
      "metadata": {
        "colab": {
          "base_uri": "https://localhost:8080/"
        },
        "id": "jA8bsRokXtOr",
        "outputId": "99926dfe-5d8e-486a-c9cc-e6c6f6222f54"
      },
      "outputs": [
        {
          "data": {
            "text/plain": [
              "2.5"
            ]
          },
          "execution_count": 80,
          "metadata": {},
          "output_type": "execute_result"
        }
      ],
      "source": [
        "5 / 2"
      ]
    },
    {
      "cell_type": "code",
      "execution_count": null,
      "metadata": {
        "colab": {
          "base_uri": "https://localhost:8080/",
          "height": 35
        },
        "id": "xSSI0NrSYI_q",
        "outputId": "40a09e86-ebe2-4f2c-ee74-adc3750c24af"
      },
      "outputs": [
        {
          "data": {
            "application/vnd.google.colaboratory.intrinsic+json": {
              "type": "string"
            },
            "text/plain": [
              "'Python Guru'"
            ]
          },
          "execution_count": 81,
          "metadata": {},
          "output_type": "execute_result"
        }
      ],
      "source": [
        "'Python' + ' Guru'"
      ]
    },
    {
      "cell_type": "code",
      "execution_count": null,
      "metadata": {
        "colab": {
          "base_uri": "https://localhost:8080/",
          "height": 35
        },
        "id": "c69lY_PGYRre",
        "outputId": "6d394545-e47c-4e86-9b4a-59fa0d304d42"
      },
      "outputs": [
        {
          "data": {
            "application/vnd.google.colaboratory.intrinsic+json": {
              "type": "string"
            },
            "text/plain": [
              "'Python Guru |Python Guru |Python Guru |Python Guru |Python Guru |'"
            ]
          },
          "execution_count": 84,
          "metadata": {},
          "output_type": "execute_result"
        }
      ],
      "source": [
        "'Python Guru |' * 5"
      ]
    },
    {
      "cell_type": "code",
      "execution_count": null,
      "metadata": {
        "colab": {
          "base_uri": "https://localhost:8080/"
        },
        "id": "iVj_akgKYW2C",
        "outputId": "cac61978-095f-421a-a324-161184ae2c7b"
      },
      "outputs": [
        {
          "data": {
            "text/plain": [
              "9500"
            ]
          },
          "execution_count": 86,
          "metadata": {},
          "output_type": "execute_result"
        }
      ],
      "source": [
        "Price = 10000\n",
        "Price.__sub__(500)"
      ]
    },
    {
      "cell_type": "code",
      "execution_count": null,
      "metadata": {
        "colab": {
          "base_uri": "https://localhost:8080/"
        },
        "id": "KFKnfI90Z8Wt",
        "outputId": "8e52395f-583a-4c35-be44-bd6d77ef746a"
      },
      "outputs": [
        {
          "data": {
            "text/plain": [
              "50000"
            ]
          },
          "execution_count": 87,
          "metadata": {},
          "output_type": "execute_result"
        }
      ],
      "source": [
        "Price.__mul__(5)"
      ]
    },
    {
      "cell_type": "code",
      "execution_count": null,
      "metadata": {
        "colab": {
          "base_uri": "https://localhost:8080/"
        },
        "id": "wmk0rHb0aPBQ",
        "outputId": "91635e22-a89a-415b-8020-193a769b797f"
      },
      "outputs": [
        {
          "data": {
            "text/plain": [
              "3333.3333333333335"
            ]
          },
          "execution_count": 88,
          "metadata": {},
          "output_type": "execute_result"
        }
      ],
      "source": [
        "Price / 3"
      ]
    },
    {
      "cell_type": "code",
      "execution_count": null,
      "metadata": {
        "colab": {
          "base_uri": "https://localhost:8080/"
        },
        "id": "4e0v7qVwb91H",
        "outputId": "533d00b3-d6f9-47fa-cf8a-110de575a987"
      },
      "outputs": [
        {
          "data": {
            "text/plain": [
              "1"
            ]
          },
          "execution_count": 89,
          "metadata": {},
          "output_type": "execute_result"
        }
      ],
      "source": [
        "Price % 3  # % returns the remainder"
      ]
    },
    {
      "cell_type": "code",
      "execution_count": null,
      "metadata": {
        "colab": {
          "base_uri": "https://localhost:8080/"
        },
        "id": "LUAhDyXWcBXt",
        "outputId": "7c290161-6126-4dc7-f704-69427decab39"
      },
      "outputs": [
        {
          "data": {
            "text/plain": [
              "3333"
            ]
          },
          "execution_count": 90,
          "metadata": {},
          "output_type": "execute_result"
        }
      ],
      "source": [
        "Price // 3 # Double forward slash returns the whole number part"
      ]
    },
    {
      "cell_type": "code",
      "execution_count": null,
      "metadata": {
        "id": "Ik_uut0NcdDm"
      },
      "outputs": [],
      "source": [
        "# In Python, the order of operations is determined by the following rules:\n",
        "\n",
        "# PEMDAS\n",
        "# 1. Parentheses: Expressions inside parentheses are evaluated first.\n",
        "# 2. Exponents: Exponents (e.g., **) are evaluated next.\n",
        "# 3. Multiplication and Division: Multiplication (*) and division (/, //, %) are evaluated from left to right.\n",
        "# 4. Addition and Subtraction: Addition (+) and subtraction (-) are evaluated from left to right.\n",
        "\n",
        "# Example\n",
        "\n",
        "# result = 2 + 3 * 4\n",
        "# print(result)  # Output: 14\n",
        "\n",
        "\n",
        "# In this example, the multiplication operation (3 * 4) is evaluated first, resulting in 12. Then, the addition operation (2 + 12) is evaluated, resulting in 14.\n",
        "\n",
        "# Using Parentheses\n",
        "# You can use parentheses to override the default order of operations:\n",
        "\n",
        "\n",
        "# result = (2 + 3) * 4\n",
        "# print(result)  # Output: 20\n",
        "\n",
        "\n",
        "# In this example, the expression inside the parentheses (2 + 3) is evaluated first, resulting in 5. Then, the multiplication operation (5 * 4) is evaluated, resulting in 20.\n",
        "\n",
        "# Order of Operations Table\n",
        "# Here's a table summarizing the order of operations in Python:\n",
        "\n",
        "# | Operator | Description |\n",
        "# | --- | --- |\n",
        "# | () | Parentheses |\n",
        "# | ** | Exponents |\n",
        "# | *, /, //, % | Multiplication and division |\n",
        "# | +, - | Addition and subtraction |\n",
        "# | ==, !=, >, <, >= , <= | Comparison operators |\n",
        "# | not | Logical NOT |\n",
        "# | and | Logical AND |\n",
        "# | or | Logical OR |\n"
      ]
    },
    {
      "cell_type": "code",
      "execution_count": null,
      "metadata": {
        "colab": {
          "base_uri": "https://localhost:8080/"
        },
        "id": "dB6PAbSwdSuF",
        "outputId": "27b03a37-8b52-48cf-c26f-7536c1f17f11"
      },
      "outputs": [
        {
          "data": {
            "text/plain": [
              "75000"
            ]
          },
          "execution_count": 96,
          "metadata": {},
          "output_type": "execute_result"
        }
      ],
      "source": [
        "min_salary = 50_000 # underscores are ignored by the interpreter\n",
        "max_salary = 100_000\n",
        "avg_salary = (min_salary + max_salary) // 2\n",
        "avg_salary"
      ]
    },
    {
      "cell_type": "code",
      "execution_count": null,
      "metadata": {
        "id": "PAjcFSTBhqoJ"
      },
      "outputs": [],
      "source": [
        "# Assignment Operators"
      ]
    },
    {
      "cell_type": "code",
      "execution_count": null,
      "metadata": {
        "id": "sye_pkfuhyHJ"
      },
      "outputs": [],
      "source": [
        "# Assignment operators in Python are used to assign a value to a variable. Here are the different types of assignment operators:\n",
        "\n",
        "# Basic Assignment Operator\n",
        "# 1. Assignment (=): assigns the value on the right side to the variable on the left side.\n",
        "\n",
        "# Example:\n",
        "\n",
        "\n",
        "# x = 5\n",
        "# print(x)  # Output: 5\n",
        "\n",
        "\n",
        "# Augmented Assignment Operators\n",
        "# 1. Addition Assignment (+=): adds the value on the right side to the variable on the left side and assigns the result back to the variable.\n",
        "# 2. Subtraction Assignment (-=): subtracts the value on the right side from the variable on the left side and assigns the result back to the variable.\n",
        "# 3. Multiplication Assignment (*=): multiplies the variable on the left side by the value on the right side and assigns the result back to the variable.\n",
        "# 4. Division Assignment (/=): divides the variable on the left side by the value on the right side and assigns the result back to the variable.\n",
        "# 5. Modulus Assignment (%=): computes the modulus of the variable on the left side and the value on the right side and assigns the result back to the variable.\n",
        "# 6. Exponentiation Assignment (**=): raises the variable on the left side to the power of the value on the right side and assigns the result back to the variable.\n",
        "# 7. Floor Division Assignment (//=): performs floor division of the variable on the left side by the value on the right side and assigns the result back to the variable.\n",
        "\n",
        "# Examples:\n",
        "\n",
        "\n",
        "# x = 5\n",
        "\n",
        "# x += 3  # equivalent to x = x + 3\n",
        "# print(x)  # Output: 8\n",
        "\n",
        "# x -= 2  # equivalent to x = x - 2\n",
        "# print(x)  # Output: 6\n",
        "\n",
        "# x *= 2  # equivalent to x = x * 2\n",
        "# print(x)  # Output: 12\n",
        "\n",
        "# x /= 2  # equivalent to x = x / 2\n",
        "# print(x)  # Output: 6.0\n",
        "\n",
        "# x %= 2  # equivalent to x = x % 2\n",
        "# print(x)  # Output: 0.0\n",
        "\n",
        "# x = 2\n",
        "# x **= 3  # equivalent to x = x ** 3\n",
        "# print(x)  # Output: 8\n",
        "\n",
        "# x //= 2  # equivalent to x = x // 2\n",
        "# print(x)  # Output: 4\n",
        "\n",
        "\n",
        "# Benefits\n",
        "# Assignment operators provide a concise way to perform operations and assign the result back to a variable. They can make your code more readable and efficient."
      ]
    },
    {
      "cell_type": "code",
      "execution_count": null,
      "metadata": {
        "id": "EQctxd7_iC7n"
      },
      "outputs": [],
      "source": [
        "x = 5"
      ]
    },
    {
      "cell_type": "code",
      "execution_count": null,
      "metadata": {
        "colab": {
          "base_uri": "https://localhost:8080/"
        },
        "id": "hTxPbb8DnLDq",
        "outputId": "e8767f7b-3b09-46c0-b02b-b74039435fec"
      },
      "outputs": [
        {
          "data": {
            "text/plain": [
              "7"
            ]
          },
          "execution_count": 109,
          "metadata": {},
          "output_type": "execute_result"
        }
      ],
      "source": [
        "x += 2\n"
      ]
    },
    {
      "cell_type": "code",
      "execution_count": null,
      "metadata": {
        "id": "YJ-QhnL9pkGw"
      },
      "outputs": [],
      "source": []
    },
    {
      "cell_type": "code",
      "execution_count": null,
      "metadata": {
        "id": "PSBMwJdznWuk"
      },
      "outputs": [],
      "source": [
        "x /= 2\n"
      ]
    },
    {
      "cell_type": "code",
      "execution_count": null,
      "metadata": {
        "colab": {
          "base_uri": "https://localhost:8080/"
        },
        "id": "YsU8jrbjppVi",
        "outputId": "10aaae90-9f81-49d6-9e90-aabf30a99938"
      },
      "outputs": [
        {
          "data": {
            "text/plain": [
              "2.5"
            ]
          },
          "execution_count": 121,
          "metadata": {},
          "output_type": "execute_result"
        }
      ],
      "source": [
        "x"
      ]
    },
    {
      "cell_type": "code",
      "execution_count": null,
      "metadata": {
        "id": "ILclwbF2nt0G"
      },
      "outputs": [],
      "source": []
    },
    {
      "cell_type": "code",
      "execution_count": null,
      "metadata": {
        "id": "o6w8K5bNpQF-"
      },
      "outputs": [],
      "source": [
        "x *= 5"
      ]
    },
    {
      "cell_type": "code",
      "execution_count": null,
      "metadata": {
        "colab": {
          "base_uri": "https://localhost:8080/"
        },
        "id": "wf0P37ZIpVW9",
        "outputId": "52d19ea7-d28d-49f5-8166-be0ea996859d"
      },
      "outputs": [
        {
          "data": {
            "text/plain": [
              "112.5"
            ]
          },
          "execution_count": 125,
          "metadata": {},
          "output_type": "execute_result"
        }
      ],
      "source": [
        "x"
      ]
    },
    {
      "cell_type": "code",
      "execution_count": null,
      "metadata": {
        "colab": {
          "base_uri": "https://localhost:8080/"
        },
        "id": "VuXpWLoHqhGY",
        "outputId": "4917b555-4a9c-4253-8a39-b7c15a2f30c8"
      },
      "outputs": [
        {
          "data": {
            "text/plain": [
              "97.65625"
            ]
          },
          "execution_count": 126,
          "metadata": {},
          "output_type": "execute_result"
        }
      ],
      "source": [
        "2.5 ** 5"
      ]
    },
    {
      "cell_type": "code",
      "execution_count": null,
      "metadata": {
        "id": "5WBJy6hwqmpp"
      },
      "outputs": [],
      "source": [
        "Salary_1 = 100_000\n",
        "Salary_2 = 50_0000"
      ]
    },
    {
      "cell_type": "code",
      "execution_count": null,
      "metadata": {
        "colab": {
          "base_uri": "https://localhost:8080/"
        },
        "id": "CDTB5140xvfK",
        "outputId": "37b17078-2b4e-4541-c77f-5ecadb686b2d"
      },
      "outputs": [
        {
          "name": "stdout",
          "output_type": "stream",
          "text": [
            "Salary_2 is greater than Salary_1\n"
          ]
        }
      ],
      "source": [
        "if Salary_1 > Salary_2:\n",
        "    print('Salary_1 is greater than Salary_2')\n",
        "else:\n",
        "    print('Salary_2 is greater than Salary_1')"
      ]
    },
    {
      "cell_type": "code",
      "execution_count": null,
      "metadata": {
        "id": "cHl-drZqx0vR"
      },
      "outputs": [],
      "source": [
        "# Conditional Statements"
      ]
    },
    {
      "cell_type": "code",
      "execution_count": null,
      "metadata": {
        "id": "6WSBQ6oazmTO"
      },
      "outputs": [],
      "source": [
        "# Conditional statements in Python are used to execute different blocks of code based on certain conditions. Here are the different types of conditional statements:\n",
        "\n",
        "# If Statement\n",
        "# The if statement is used to execute a block of code if a certain condition is true.\n",
        "\n",
        "\n",
        "# x = 5\n",
        "# if x > 10:\n",
        "#     print(\"x is greater than 10\")\n",
        "# else:\n",
        "#     print(\"x is less than or equal to 10\")\n",
        "\n",
        "\n",
        "# If-Else Statement\n",
        "# The if-else statement is used to execute one block of code if a certain condition is true and another block of code if the condition is false.\n",
        "\n",
        "\n",
        "# x = 5\n",
        "# if x > 10:\n",
        "#     print(\"x is greater than 10\")\n",
        "# else:\n",
        "#     print(\"x is less than or equal to 10\")\n",
        "\n",
        "\n",
        "# If-Elif-Else Statement\n",
        "# The if-elif-else statement is used to check multiple conditions and execute different blocks of code based on those conditions.\n",
        "\n",
        "\n",
        "# x = 5\n",
        "# if x > 10:\n",
        "#     print(\"x is greater than 10\")\n",
        "# elif x == 5:\n",
        "#     print(\"x is equal to 5\")\n",
        "# else:\n",
        "#     print(\"x is less than 5\")\n",
        "\n",
        "\n",
        "# Nested If Statements\n",
        "# Nested if statements are used to check conditions within conditions.\n",
        "\n",
        "\n",
        "# x = 5\n",
        "# y = 10\n",
        "# if x > 0:\n",
        "#     if y > 5:\n",
        "#         print(\"Both conditions are true\")\n",
        "\n",
        "\n",
        "# Conditional Expressions\n",
        "# Conditional expressions are a concise way to write simple if-else statements.\n",
        "\n",
        "\n",
        "# x = 5\n",
        "# result = \"x is greater than 10\" if x > 10 else \"x is less than or equal to 10\"\n",
        "# print(result)\n",
        "\n",
        "\n",
        "# Comparison Operators\n",
        "# Comparison operators are used to compare values and reAturn a boolean result.\n",
        "\n",
        "# - == (equal to)\n",
        "# - != (not equal to)\n",
        "# - > (greater than)\n",
        "# - < (less than)\n",
        "# - >= (greater than or equal to)\n",
        "# - <= (less than or equal to)\n",
        "\n",
        "# Logical Operators\n",
        "# Logical operators are used to combine conditions and return a boolean result.\n",
        "\n",
        "# - and (logical and)\n",
        "# - or (logical or)\n",
        "# - not (logical not)"
      ]
    },
    {
      "cell_type": "code",
      "execution_count": null,
      "metadata": {
        "colab": {
          "base_uri": "https://localhost:8080/"
        },
        "id": "nAfR8a3rz7io",
        "outputId": "638ea714-60c2-4328-f369-9afbfccb334a"
      },
      "outputs": [
        {
          "name": "stdout",
          "output_type": "stream",
          "text": [
            "Python is sweet!\n"
          ]
        }
      ],
      "source": [
        "if True:\n",
        "  print('Python is sweet!')"
      ]
    },
    {
      "cell_type": "code",
      "execution_count": null,
      "metadata": {
        "colab": {
          "base_uri": "https://localhost:8080/"
        },
        "id": "R1og7kdv0hVN",
        "outputId": "f32a1c18-3a35-4aff-f6b6-5b98cf3177c8"
      },
      "outputs": [
        {
          "name": "stdout",
          "output_type": "stream",
          "text": [
            "You are not qualified for this job\n"
          ]
        }
      ],
      "source": [
        "Job_skill = 'Python'\n",
        "Required_skill = 'SQL'\n",
        "if Job_skill == Required_skill:\n",
        "  print('You are qualified for this job!')\n",
        "else:\n",
        "  print('You are not qualified for this job')"
      ]
    },
    {
      "cell_type": "code",
      "execution_count": null,
      "metadata": {
        "colab": {
          "base_uri": "https://localhost:8080/"
        },
        "id": "bJ38OT6a2akB",
        "outputId": "929d6e34-135e-4c7d-ad05-b3e3ce019a23"
      },
      "outputs": [
        {
          "name": "stdout",
          "output_type": "stream",
          "text": [
            "You are qualified for this job!\n"
          ]
        }
      ],
      "source": [
        "Job_skill = ['Python', 'SQL']\n",
        "Required_skill = 'SQL'\n",
        "if Required_skill in Job_skill:\n",
        "  print('You are qualified for this job!')\n",
        "else:\n",
        "  print('You are not qualified for this job')\n"
      ]
    },
    {
      "cell_type": "code",
      "execution_count": null,
      "metadata": {
        "colab": {
          "base_uri": "https://localhost:8080/"
        },
        "id": "OgjXtCFf2lFF",
        "outputId": "4b30ef90-4672-4f28-be04-f0607befe421"
      },
      "outputs": [
        {
          "name": "stdout",
          "output_type": "stream",
          "text": [
            "You are not qualified for this job\n"
          ]
        }
      ],
      "source": [
        "years_of_experience = 4\n",
        "if years_of_experience >= 5:\n",
        "  print('You are qualified for this job!')\n",
        "else:\n",
        "  print('You are not qualified for this job')"
      ]
    },
    {
      "cell_type": "code",
      "execution_count": null,
      "metadata": {
        "colab": {
          "base_uri": "https://localhost:8080/"
        },
        "id": "xfPtSMgn57gS",
        "outputId": "5d080d1a-6a6f-493e-bcef-f35f96b68399"
      },
      "outputs": [
        {
          "name": "stdout",
          "output_type": "stream",
          "text": [
            "You do not have the requied Skill nor Experience\n"
          ]
        }
      ],
      "source": [
        "years_of_experience = 7\n",
        "Job_skill = ['Python', 'SQL', 'Machine Learning']\n",
        "Required_skill = 'Excel'\n",
        "if years_of_experience >= 8:\n",
        "  print('You are qualified for this job!')\n",
        "elif Job_skill == Required_skill:\n",
        "  print('You are qualified for this job!')\n",
        "else:\n",
        "  print('You do not have the requied Skill nor Experience')"
      ]
    },
    {
      "cell_type": "code",
      "execution_count": null,
      "metadata": {
        "id": "SejeiWEV6a_q"
      },
      "outputs": [],
      "source": [
        "# List"
      ]
    },
    {
      "cell_type": "code",
      "execution_count": null,
      "metadata": {
        "id": "i5dM2__MZM61"
      },
      "outputs": [],
      "source": [
        "Job_skills = ['Python', 'SQL', 'Machine Learning']"
      ]
    },
    {
      "cell_type": "code",
      "execution_count": null,
      "metadata": {
        "id": "qv8K8xWrZq4H"
      },
      "outputs": [],
      "source": [
        "Job_skills.append('Excel')"
      ]
    },
    {
      "cell_type": "code",
      "execution_count": null,
      "metadata": {
        "colab": {
          "base_uri": "https://localhost:8080/"
        },
        "id": "ITnbzhEFZ-J3",
        "outputId": "ec4c82d1-44b1-4d2e-817e-e09a62cdfb07"
      },
      "outputs": [
        {
          "data": {
            "text/plain": [
              "['Python', 'SQL', 'Machine Learning', 'Excel']"
            ]
          },
          "execution_count": 6,
          "metadata": {},
          "output_type": "execute_result"
        }
      ],
      "source": [
        "Job_skills"
      ]
    },
    {
      "cell_type": "code",
      "execution_count": null,
      "metadata": {
        "id": "BHHiPIvUaL65"
      },
      "outputs": [],
      "source": [
        "Job_skills.remove('Python')"
      ]
    },
    {
      "cell_type": "code",
      "execution_count": null,
      "metadata": {
        "colab": {
          "base_uri": "https://localhost:8080/"
        },
        "id": "YmFMQvIJadVh",
        "outputId": "d2297796-8d65-45f8-b88e-48cf84bed858"
      },
      "outputs": [
        {
          "data": {
            "text/plain": [
              "['SQL', 'Machine Learning', 'Excel']"
            ]
          },
          "execution_count": 8,
          "metadata": {},
          "output_type": "execute_result"
        }
      ],
      "source": [
        "Job_skills"
      ]
    },
    {
      "cell_type": "code",
      "execution_count": null,
      "metadata": {
        "colab": {
          "base_uri": "https://localhost:8080/"
        },
        "id": "gjob2ZQQafDn",
        "outputId": "72701dda-8828-41db-8e92-9736ba06b9a6"
      },
      "outputs": [
        {
          "data": {
            "text/plain": [
              "3"
            ]
          },
          "execution_count": 9,
          "metadata": {},
          "output_type": "execute_result"
        }
      ],
      "source": [
        "len(Job_skills)"
      ]
    },
    {
      "cell_type": "code",
      "execution_count": null,
      "metadata": {
        "colab": {
          "base_uri": "https://localhost:8080/"
        },
        "id": "L7m8f8UNao6L",
        "outputId": "052a2af6-b624-4e54-9f12-c83aed1ec189"
      },
      "outputs": [
        {
          "data": {
            "text/plain": [
              "0"
            ]
          },
          "execution_count": 10,
          "metadata": {},
          "output_type": "execute_result"
        }
      ],
      "source": [
        "Job_skills.index('SQL')"
      ]
    },
    {
      "cell_type": "code",
      "execution_count": null,
      "metadata": {
        "colab": {
          "base_uri": "https://localhost:8080/",
          "height": 35
        },
        "id": "qGnQT1WWayIW",
        "outputId": "bc81ee42-e566-431a-c87a-16c4f0df8b76"
      },
      "outputs": [
        {
          "data": {
            "application/vnd.google.colaboratory.intrinsic+json": {
              "type": "string"
            },
            "text/plain": [
              "'Excel'"
            ]
          },
          "execution_count": 11,
          "metadata": {},
          "output_type": "execute_result"
        }
      ],
      "source": [
        "Job_skills[2]"
      ]
    },
    {
      "cell_type": "code",
      "execution_count": null,
      "metadata": {
        "colab": {
          "base_uri": "https://localhost:8080/",
          "height": 35
        },
        "id": "LWSlvxgNa5DL",
        "outputId": "5c4892de-f14a-48fb-978a-a5d73e688ae8"
      },
      "outputs": [
        {
          "data": {
            "application/vnd.google.colaboratory.intrinsic+json": {
              "type": "string"
            },
            "text/plain": [
              "'SQL'"
            ]
          },
          "execution_count": 12,
          "metadata": {},
          "output_type": "execute_result"
        }
      ],
      "source": [
        "Job_skills[-3]"
      ]
    },
    {
      "cell_type": "code",
      "execution_count": null,
      "metadata": {
        "id": "CFswxKUObGJp"
      },
      "outputs": [],
      "source": [
        "Job_skills.insert(0, 'Tableau')"
      ]
    },
    {
      "cell_type": "code",
      "execution_count": null,
      "metadata": {
        "colab": {
          "base_uri": "https://localhost:8080/"
        },
        "id": "al1L7MAlbXYT",
        "outputId": "de112ade-8ce8-4c15-8044-508d422627c4"
      },
      "outputs": [
        {
          "data": {
            "text/plain": [
              "['Tableau', 'SQL', 'Machine Learning', 'Excel']"
            ]
          },
          "execution_count": 15,
          "metadata": {},
          "output_type": "execute_result"
        }
      ],
      "source": [
        "Job_skills"
      ]
    },
    {
      "cell_type": "code",
      "execution_count": null,
      "metadata": {
        "colab": {
          "base_uri": "https://localhost:8080/",
          "height": 35
        },
        "id": "uTccEbZmbbfV",
        "outputId": "03219e3c-b455-4c59-eff7-52e125c0c052"
      },
      "outputs": [
        {
          "data": {
            "application/vnd.google.colaboratory.intrinsic+json": {
              "type": "string"
            },
            "text/plain": [
              "'SQL'"
            ]
          },
          "execution_count": 16,
          "metadata": {},
          "output_type": "execute_result"
        }
      ],
      "source": [
        "Job_skills.pop(1)"
      ]
    },
    {
      "cell_type": "code",
      "execution_count": null,
      "metadata": {
        "colab": {
          "base_uri": "https://localhost:8080/"
        },
        "id": "Dc0u24qqegF2",
        "outputId": "be8ea87d-ebbb-4103-d2c1-5bc2328bf7a4"
      },
      "outputs": [
        {
          "data": {
            "text/plain": [
              "['Tableau', 'Machine Learning', 'Excel']"
            ]
          },
          "execution_count": 17,
          "metadata": {},
          "output_type": "execute_result"
        }
      ],
      "source": [
        "Job_skills"
      ]
    },
    {
      "cell_type": "code",
      "execution_count": null,
      "metadata": {
        "id": "vrsEwUxBekkB"
      },
      "outputs": [],
      "source": [
        "skill_1, skill_2, skill_3 = Job_skills # Unpacking"
      ]
    },
    {
      "cell_type": "code",
      "execution_count": null,
      "metadata": {
        "colab": {
          "base_uri": "https://localhost:8080/"
        },
        "id": "proa69Zqf-Wf",
        "outputId": "f4b43fc6-f93b-4d70-c6b6-b08b315f2f1d"
      },
      "outputs": [
        {
          "name": "stdout",
          "output_type": "stream",
          "text": [
            "Tableau\n",
            "Machine Learning\n",
            "Excel\n"
          ]
        }
      ],
      "source": [
        "print(skill_1)\n",
        "print(skill_2)\n",
        "print(skill_3)"
      ]
    },
    {
      "cell_type": "markdown",
      "metadata": {
        "id": "cSnw0tFbPRcF"
      },
      "source": []
    },
    {
      "cell_type": "code",
      "execution_count": null,
      "metadata": {
        "id": "Vm1IzeQ_gBaS"
      },
      "outputs": [],
      "source": [
        "# Comparing two list"
      ]
    },
    {
      "cell_type": "code",
      "execution_count": null,
      "metadata": {
        "id": "cIIywiAROdQr"
      },
      "outputs": [],
      "source": [
        "Employee_1 = ['Python', 'SQL', 'Machine Learning']\n",
        "Employee_2 = ['TAblea', 'SQL', 'Power bI']"
      ]
    },
    {
      "cell_type": "code",
      "execution_count": null,
      "metadata": {
        "colab": {
          "base_uri": "https://localhost:8080/"
        },
        "id": "uM3J-wG-OxUH",
        "outputId": "ee700088-b89c-451b-84da-0a68f597f993"
      },
      "outputs": [
        {
          "data": {
            "text/plain": [
              "['Python', 'SQL', 'Machine Learning', 'TAblea', 'SQL', 'Power bI']"
            ]
          },
          "execution_count": 7,
          "metadata": {},
          "output_type": "execute_result"
        }
      ],
      "source": [
        "Employee_skills = Employee_1 + Employee_2\n",
        "Employee_skills"
      ]
    },
    {
      "cell_type": "code",
      "execution_count": null,
      "metadata": {
        "colab": {
          "base_uri": "https://localhost:8080/"
        },
        "id": "nnt1dfaWPGST",
        "outputId": "517480b9-d605-420a-fb49-0761b7a54604"
      },
      "outputs": [
        {
          "data": {
            "text/plain": [
              "['Machine Learning', 'SQL', 'Python', 'Power bI', 'TAblea']"
            ]
          },
          "execution_count": 8,
          "metadata": {},
          "output_type": "execute_result"
        }
      ],
      "source": [
        "Employee_skills = list(set(Employee_skills))\n",
        "Employee_skills"
      ]
    },
    {
      "cell_type": "code",
      "execution_count": null,
      "metadata": {
        "colab": {
          "base_uri": "https://localhost:8080/"
        },
        "id": "xsqplZPHQBF5",
        "outputId": "30181b15-1f8d-4408-f55e-36a7de9dd71d"
      },
      "outputs": [
        {
          "data": {
            "text/plain": [
              "['Machine Learning', 'SQL', 'Python', 'Power bI', 'TAblea']"
            ]
          },
          "execution_count": 10,
          "metadata": {},
          "output_type": "execute_result"
        }
      ],
      "source": [
        "Employee_skills"
      ]
    },
    {
      "cell_type": "code",
      "execution_count": null,
      "metadata": {
        "colab": {
          "base_uri": "https://localhost:8080/"
        },
        "id": "4D-A_yANYQXB",
        "outputId": "0c644190-85bd-4849-e772-93af2b42bfc3"
      },
      "outputs": [
        {
          "data": {
            "application/vnd.google.colaboratory.intrinsic+json": {
              "type": "string"
            },
            "text/plain": [
              "'Python'"
            ]
          },
          "execution_count": 12,
          "metadata": {},
          "output_type": "execute_result"
        }
      ],
      "source": [
        "Employee_skills[-3]"
      ]
    },
    {
      "cell_type": "code",
      "execution_count": null,
      "metadata": {
        "colab": {
          "base_uri": "https://localhost:8080/"
        },
        "id": "dcyjrldJYW7d",
        "outputId": "61abc171-86e2-4dab-b604-9ee21b6150a2"
      },
      "outputs": [
        {
          "name": "stdout",
          "output_type": "stream",
          "text": [
            "Machine Learning\n",
            "['SQL', 'Python', 'Power bI', 'TAblea']\n"
          ]
        }
      ],
      "source": [
        "skill_concerned , *skill_not_concerned = Employee_skills\n",
        "print(skill_concerned)\n",
        "print(skill_not_concerned)"
      ]
    },
    {
      "cell_type": "code",
      "execution_count": null,
      "metadata": {
        "colab": {
          "background_save": true
        },
        "id": "NfW1zW7QZZWZ"
      },
      "outputs": [],
      "source": []
    }
  ],
  "metadata": {
    "colab": {
      "provenance": [],
      "authorship_tag": "ABX9TyOGYvz9w+ueghDJCxAjCHot",
      "include_colab_link": true
    },
    "kernelspec": {
      "display_name": "Python 3",
      "name": "python3"
    },
    "language_info": {
      "name": "python"
    }
  },
  "nbformat": 4,
  "nbformat_minor": 0
}