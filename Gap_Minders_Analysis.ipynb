{
  "cells": [
    {
      "cell_type": "markdown",
      "metadata": {
        "id": "view-in-github",
        "colab_type": "text"
      },
      "source": [
        "<a href=\"https://colab.research.google.com/github/Analyticdave/Data_Analytics_with_Python/blob/main/Gap_Minders_Analysis.ipynb\" target=\"_parent\"><img src=\"https://colab.research.google.com/assets/colab-badge.svg\" alt=\"Open In Colab\"/></a>"
      ]
    },
    {
      "cell_type": "code",
      "execution_count": null,
      "id": "947f065b-521e-4115-ad50-e22b0e30914b",
      "metadata": {
        "id": "947f065b-521e-4115-ad50-e22b0e30914b",
        "outputId": "56f78168-fca4-4b1b-a9a1-db0fc339ab31"
      },
      "outputs": [
        {
          "data": {
            "text/html": [
              "<div>\n",
              "<style scoped>\n",
              "    .dataframe tbody tr th:only-of-type {\n",
              "        vertical-align: middle;\n",
              "    }\n",
              "\n",
              "    .dataframe tbody tr th {\n",
              "        vertical-align: top;\n",
              "    }\n",
              "\n",
              "    .dataframe thead th {\n",
              "        text-align: right;\n",
              "    }\n",
              "</style>\n",
              "<table border=\"1\" class=\"dataframe\">\n",
              "  <thead>\n",
              "    <tr style=\"text-align: right;\">\n",
              "      <th></th>\n",
              "      <th>country</th>\n",
              "      <th>continent</th>\n",
              "      <th>year</th>\n",
              "      <th>life_exp</th>\n",
              "      <th>hdi_index</th>\n",
              "      <th>co2_consump</th>\n",
              "      <th>gdp</th>\n",
              "      <th>services</th>\n",
              "    </tr>\n",
              "  </thead>\n",
              "  <tbody>\n",
              "    <tr>\n",
              "      <th>0</th>\n",
              "      <td>Afghanistan</td>\n",
              "      <td>Asia</td>\n",
              "      <td>1998</td>\n",
              "      <td>53.3</td>\n",
              "      <td>0.344</td>\n",
              "      <td>0.0522</td>\n",
              "      <td>NaN</td>\n",
              "      <td>24.4</td>\n",
              "    </tr>\n",
              "    <tr>\n",
              "      <th>1</th>\n",
              "      <td>Afghanistan</td>\n",
              "      <td>Asia</td>\n",
              "      <td>1999</td>\n",
              "      <td>54.7</td>\n",
              "      <td>0.348</td>\n",
              "      <td>0.0402</td>\n",
              "      <td>NaN</td>\n",
              "      <td>24.6</td>\n",
              "    </tr>\n",
              "    <tr>\n",
              "      <th>2</th>\n",
              "      <td>Afghanistan</td>\n",
              "      <td>Asia</td>\n",
              "      <td>2000</td>\n",
              "      <td>54.7</td>\n",
              "      <td>0.350</td>\n",
              "      <td>0.0370</td>\n",
              "      <td>NaN</td>\n",
              "      <td>24.7</td>\n",
              "    </tr>\n",
              "    <tr>\n",
              "      <th>3</th>\n",
              "      <td>Afghanistan</td>\n",
              "      <td>Asia</td>\n",
              "      <td>2001</td>\n",
              "      <td>54.8</td>\n",
              "      <td>0.353</td>\n",
              "      <td>0.0376</td>\n",
              "      <td>NaN</td>\n",
              "      <td>24.7</td>\n",
              "    </tr>\n",
              "    <tr>\n",
              "      <th>4</th>\n",
              "      <td>Afghanistan</td>\n",
              "      <td>Asia</td>\n",
              "      <td>2002</td>\n",
              "      <td>55.5</td>\n",
              "      <td>0.384</td>\n",
              "      <td>0.0471</td>\n",
              "      <td>333.0</td>\n",
              "      <td>25.6</td>\n",
              "    </tr>\n",
              "    <tr>\n",
              "      <th>...</th>\n",
              "      <td>...</td>\n",
              "      <td>...</td>\n",
              "      <td>...</td>\n",
              "      <td>...</td>\n",
              "      <td>...</td>\n",
              "      <td>...</td>\n",
              "      <td>...</td>\n",
              "      <td>...</td>\n",
              "    </tr>\n",
              "    <tr>\n",
              "      <th>3670</th>\n",
              "      <td>Zimbabwe</td>\n",
              "      <td>Africa</td>\n",
              "      <td>2014</td>\n",
              "      <td>58.0</td>\n",
              "      <td>0.547</td>\n",
              "      <td>0.8810</td>\n",
              "      <td>1440.0</td>\n",
              "      <td>25.4</td>\n",
              "    </tr>\n",
              "    <tr>\n",
              "      <th>3671</th>\n",
              "      <td>Zimbabwe</td>\n",
              "      <td>Africa</td>\n",
              "      <td>2015</td>\n",
              "      <td>58.6</td>\n",
              "      <td>0.553</td>\n",
              "      <td>0.8810</td>\n",
              "      <td>1450.0</td>\n",
              "      <td>25.7</td>\n",
              "    </tr>\n",
              "    <tr>\n",
              "      <th>3672</th>\n",
              "      <td>Zimbabwe</td>\n",
              "      <td>Africa</td>\n",
              "      <td>2016</td>\n",
              "      <td>59.2</td>\n",
              "      <td>0.558</td>\n",
              "      <td>0.7710</td>\n",
              "      <td>1430.0</td>\n",
              "      <td>26.1</td>\n",
              "    </tr>\n",
              "    <tr>\n",
              "      <th>3673</th>\n",
              "      <td>Zimbabwe</td>\n",
              "      <td>Africa</td>\n",
              "      <td>2017</td>\n",
              "      <td>59.9</td>\n",
              "      <td>0.563</td>\n",
              "      <td>0.8450</td>\n",
              "      <td>1480.0</td>\n",
              "      <td>26.6</td>\n",
              "    </tr>\n",
              "    <tr>\n",
              "      <th>3674</th>\n",
              "      <td>Zimbabwe</td>\n",
              "      <td>Africa</td>\n",
              "      <td>2018</td>\n",
              "      <td>60.6</td>\n",
              "      <td>0.569</td>\n",
              "      <td>0.8500</td>\n",
              "      <td>1510.0</td>\n",
              "      <td>27.2</td>\n",
              "    </tr>\n",
              "  </tbody>\n",
              "</table>\n",
              "<p>3675 rows × 8 columns</p>\n",
              "</div>"
            ],
            "text/plain": [
              "          country continent  year  life_exp  hdi_index  co2_consump     gdp  \\\n",
              "0     Afghanistan      Asia  1998      53.3      0.344       0.0522     NaN   \n",
              "1     Afghanistan      Asia  1999      54.7      0.348       0.0402     NaN   \n",
              "2     Afghanistan      Asia  2000      54.7      0.350       0.0370     NaN   \n",
              "3     Afghanistan      Asia  2001      54.8      0.353       0.0376     NaN   \n",
              "4     Afghanistan      Asia  2002      55.5      0.384       0.0471   333.0   \n",
              "...           ...       ...   ...       ...        ...          ...     ...   \n",
              "3670     Zimbabwe    Africa  2014      58.0      0.547       0.8810  1440.0   \n",
              "3671     Zimbabwe    Africa  2015      58.6      0.553       0.8810  1450.0   \n",
              "3672     Zimbabwe    Africa  2016      59.2      0.558       0.7710  1430.0   \n",
              "3673     Zimbabwe    Africa  2017      59.9      0.563       0.8450  1480.0   \n",
              "3674     Zimbabwe    Africa  2018      60.6      0.569       0.8500  1510.0   \n",
              "\n",
              "      services  \n",
              "0         24.4  \n",
              "1         24.6  \n",
              "2         24.7  \n",
              "3         24.7  \n",
              "4         25.6  \n",
              "...        ...  \n",
              "3670      25.4  \n",
              "3671      25.7  \n",
              "3672      26.1  \n",
              "3673      26.6  \n",
              "3674      27.2  \n",
              "\n",
              "[3675 rows x 8 columns]"
            ]
          },
          "execution_count": 5,
          "metadata": {},
          "output_type": "execute_result"
        }
      ],
      "source": [
        "import pandas as pd\n",
        "import numpy as np\n",
        "\n",
        "import matplotlib.pyplot as plt\n",
        "\n",
        "df = pd.read_csv('C:/Users/Mckinish_Computers/Desktop/Data Analytics/Datasets/gapminder_data_graphs.csv')\n",
        "df\n",
        "\n"
      ]
    },
    {
      "cell_type": "code",
      "execution_count": null,
      "id": "68b583c8-e93a-470d-af77-1d3262c8d2ca",
      "metadata": {
        "id": "68b583c8-e93a-470d-af77-1d3262c8d2ca",
        "outputId": "1e6e881a-7ffd-483e-95a4-0b4511888f22"
      },
      "outputs": [
        {
          "name": "stdout",
          "output_type": "stream",
          "text": [
            "<class 'pandas.core.frame.DataFrame'>\n",
            "RangeIndex: 3675 entries, 0 to 3674\n",
            "Data columns (total 8 columns):\n",
            " #   Column       Non-Null Count  Dtype  \n",
            "---  ------       --------------  -----  \n",
            " 0   country      3675 non-null   object \n",
            " 1   continent    3675 non-null   object \n",
            " 2   year         3675 non-null   int64  \n",
            " 3   life_exp     3675 non-null   float64\n",
            " 4   hdi_index    3563 non-null   float64\n",
            " 5   co2_consump  3671 non-null   float64\n",
            " 6   gdp          3633 non-null   float64\n",
            " 7   services     3675 non-null   float64\n",
            "dtypes: float64(5), int64(1), object(2)\n",
            "memory usage: 229.8+ KB\n",
            "None\n"
          ]
        }
      ],
      "source": [
        "print(df.info())"
      ]
    },
    {
      "cell_type": "code",
      "execution_count": null,
      "id": "1277692b-d257-499b-8c39-aeae47e49d7e",
      "metadata": {
        "id": "1277692b-d257-499b-8c39-aeae47e49d7e",
        "outputId": "cf943376-f599-458d-e763-985d73e7f06e"
      },
      "outputs": [
        {
          "name": "stdout",
          "output_type": "stream",
          "text": [
            "   year  life_exp\n",
            "0  1998      53.3\n",
            "1  1999      54.7\n",
            "2  2000      54.7\n",
            "3  2001      54.8\n",
            "4  2002      55.5\n",
            "5  2003      56.5\n",
            "6  2004      57.1\n",
            "7  2005      57.6\n",
            "8  2006      58.0\n",
            "9  2007      58.5\n"
          ]
        }
      ],
      "source": [
        "subset = df.loc[:,['year','life_exp']]\n",
        "print(subset.head(10))"
      ]
    },
    {
      "cell_type": "code",
      "execution_count": null,
      "id": "e742411b-8c7e-4065-8700-f505e77cf252",
      "metadata": {
        "id": "e742411b-8c7e-4065-8700-f505e77cf252",
        "outputId": "1260adca-7445-4a31-d0ec-ccbd46af89b3"
      },
      "outputs": [
        {
          "data": {
            "text/plain": [
              "[0, 1, 2, 3, 4]"
            ]
          },
          "execution_count": 33,
          "metadata": {},
          "output_type": "execute_result"
        }
      ],
      "source": [
        "small_range = list(range(5))\n",
        "small_range"
      ]
    },
    {
      "cell_type": "code",
      "execution_count": null,
      "id": "ca4f3c6b-83d4-4288-9704-227a4b4853c5",
      "metadata": {
        "id": "ca4f3c6b-83d4-4288-9704-227a4b4853c5",
        "outputId": "6e719617-62cb-4d23-bcbc-bb5d30d5b779"
      },
      "outputs": [
        {
          "data": {
            "text/html": [
              "<div>\n",
              "<style scoped>\n",
              "    .dataframe tbody tr th:only-of-type {\n",
              "        vertical-align: middle;\n",
              "    }\n",
              "\n",
              "    .dataframe tbody tr th {\n",
              "        vertical-align: top;\n",
              "    }\n",
              "\n",
              "    .dataframe thead th {\n",
              "        text-align: right;\n",
              "    }\n",
              "</style>\n",
              "<table border=\"1\" class=\"dataframe\">\n",
              "  <thead>\n",
              "    <tr style=\"text-align: right;\">\n",
              "      <th></th>\n",
              "      <th>country</th>\n",
              "      <th>continent</th>\n",
              "      <th>year</th>\n",
              "      <th>life_exp</th>\n",
              "      <th>hdi_index</th>\n",
              "    </tr>\n",
              "  </thead>\n",
              "  <tbody>\n",
              "    <tr>\n",
              "      <th>0</th>\n",
              "      <td>Afghanistan</td>\n",
              "      <td>Asia</td>\n",
              "      <td>1998</td>\n",
              "      <td>53.3</td>\n",
              "      <td>0.344</td>\n",
              "    </tr>\n",
              "    <tr>\n",
              "      <th>1</th>\n",
              "      <td>Afghanistan</td>\n",
              "      <td>Asia</td>\n",
              "      <td>1999</td>\n",
              "      <td>54.7</td>\n",
              "      <td>0.348</td>\n",
              "    </tr>\n",
              "    <tr>\n",
              "      <th>2</th>\n",
              "      <td>Afghanistan</td>\n",
              "      <td>Asia</td>\n",
              "      <td>2000</td>\n",
              "      <td>54.7</td>\n",
              "      <td>0.350</td>\n",
              "    </tr>\n",
              "    <tr>\n",
              "      <th>3</th>\n",
              "      <td>Afghanistan</td>\n",
              "      <td>Asia</td>\n",
              "      <td>2001</td>\n",
              "      <td>54.8</td>\n",
              "      <td>0.353</td>\n",
              "    </tr>\n",
              "    <tr>\n",
              "      <th>4</th>\n",
              "      <td>Afghanistan</td>\n",
              "      <td>Asia</td>\n",
              "      <td>2002</td>\n",
              "      <td>55.5</td>\n",
              "      <td>0.384</td>\n",
              "    </tr>\n",
              "  </tbody>\n",
              "</table>\n",
              "</div>"
            ],
            "text/plain": [
              "       country continent  year  life_exp  hdi_index\n",
              "0  Afghanistan      Asia  1998      53.3      0.344\n",
              "1  Afghanistan      Asia  1999      54.7      0.348\n",
              "2  Afghanistan      Asia  2000      54.7      0.350\n",
              "3  Afghanistan      Asia  2001      54.8      0.353\n",
              "4  Afghanistan      Asia  2002      55.5      0.384"
            ]
          },
          "metadata": {},
          "output_type": "display_data"
        }
      ],
      "source": [
        "irsubset = df.iloc[:,small_range]\n",
        "display(irsubset.head())"
      ]
    },
    {
      "cell_type": "code",
      "execution_count": null,
      "id": "d1d88110-a636-4daa-8839-2ca5b2bf8b24",
      "metadata": {
        "id": "d1d88110-a636-4daa-8839-2ca5b2bf8b24",
        "outputId": "08892987-3bbf-4d0d-962d-63a24dfb1403"
      },
      "outputs": [
        {
          "data": {
            "text/html": [
              "<div>\n",
              "<style scoped>\n",
              "    .dataframe tbody tr th:only-of-type {\n",
              "        vertical-align: middle;\n",
              "    }\n",
              "\n",
              "    .dataframe tbody tr th {\n",
              "        vertical-align: top;\n",
              "    }\n",
              "\n",
              "    .dataframe thead th {\n",
              "        text-align: right;\n",
              "    }\n",
              "</style>\n",
              "<table border=\"1\" class=\"dataframe\">\n",
              "  <thead>\n",
              "    <tr style=\"text-align: right;\">\n",
              "      <th></th>\n",
              "      <th>country</th>\n",
              "      <th>life_exp</th>\n",
              "      <th>gdp</th>\n",
              "    </tr>\n",
              "  </thead>\n",
              "  <tbody>\n",
              "    <tr>\n",
              "      <th>3670</th>\n",
              "      <td>Zimbabwe</td>\n",
              "      <td>58.0</td>\n",
              "      <td>1440.0</td>\n",
              "    </tr>\n",
              "    <tr>\n",
              "      <th>3671</th>\n",
              "      <td>Zimbabwe</td>\n",
              "      <td>58.6</td>\n",
              "      <td>1450.0</td>\n",
              "    </tr>\n",
              "    <tr>\n",
              "      <th>3672</th>\n",
              "      <td>Zimbabwe</td>\n",
              "      <td>59.2</td>\n",
              "      <td>1430.0</td>\n",
              "    </tr>\n",
              "    <tr>\n",
              "      <th>3673</th>\n",
              "      <td>Zimbabwe</td>\n",
              "      <td>59.9</td>\n",
              "      <td>1480.0</td>\n",
              "    </tr>\n",
              "    <tr>\n",
              "      <th>3674</th>\n",
              "      <td>Zimbabwe</td>\n",
              "      <td>60.6</td>\n",
              "      <td>1510.0</td>\n",
              "    </tr>\n",
              "  </tbody>\n",
              "</table>\n",
              "</div>"
            ],
            "text/plain": [
              "       country  life_exp     gdp\n",
              "3670  Zimbabwe      58.0  1440.0\n",
              "3671  Zimbabwe      58.6  1450.0\n",
              "3672  Zimbabwe      59.2  1430.0\n",
              "3673  Zimbabwe      59.9  1480.0\n",
              "3674  Zimbabwe      60.6  1510.0"
            ]
          },
          "metadata": {},
          "output_type": "display_data"
        }
      ],
      "source": [
        "isubset = df.iloc[:,[0,3,-2]]\n",
        "display(isubset.tail())"
      ]
    },
    {
      "cell_type": "code",
      "execution_count": null,
      "id": "24ffc222-512a-430b-bef0-2b5b8fee1a3f",
      "metadata": {
        "id": "24ffc222-512a-430b-bef0-2b5b8fee1a3f",
        "outputId": "ee66ec5d-75a7-4868-ab34-47f74df812a7"
      },
      "outputs": [
        {
          "data": {
            "text/html": [
              "<div>\n",
              "<style scoped>\n",
              "    .dataframe tbody tr th:only-of-type {\n",
              "        vertical-align: middle;\n",
              "    }\n",
              "\n",
              "    .dataframe tbody tr th {\n",
              "        vertical-align: top;\n",
              "    }\n",
              "\n",
              "    .dataframe thead th {\n",
              "        text-align: right;\n",
              "    }\n",
              "</style>\n",
              "<table border=\"1\" class=\"dataframe\">\n",
              "  <thead>\n",
              "    <tr style=\"text-align: right;\">\n",
              "      <th></th>\n",
              "      <th>country</th>\n",
              "      <th>continent</th>\n",
              "      <th>year</th>\n",
              "      <th>life_exp</th>\n",
              "      <th>hdi_index</th>\n",
              "      <th>co2_consump</th>\n",
              "      <th>gdp</th>\n",
              "      <th>services</th>\n",
              "    </tr>\n",
              "  </thead>\n",
              "  <tbody>\n",
              "    <tr>\n",
              "      <th>0</th>\n",
              "      <td>Afghanistan</td>\n",
              "      <td>Asia</td>\n",
              "      <td>1998</td>\n",
              "      <td>53.3</td>\n",
              "      <td>0.344</td>\n",
              "      <td>0.0522</td>\n",
              "      <td>NaN</td>\n",
              "      <td>24.4</td>\n",
              "    </tr>\n",
              "    <tr>\n",
              "      <th>1</th>\n",
              "      <td>Afghanistan</td>\n",
              "      <td>Asia</td>\n",
              "      <td>1999</td>\n",
              "      <td>54.7</td>\n",
              "      <td>0.348</td>\n",
              "      <td>0.0402</td>\n",
              "      <td>NaN</td>\n",
              "      <td>24.6</td>\n",
              "    </tr>\n",
              "    <tr>\n",
              "      <th>2</th>\n",
              "      <td>Afghanistan</td>\n",
              "      <td>Asia</td>\n",
              "      <td>2000</td>\n",
              "      <td>54.7</td>\n",
              "      <td>0.350</td>\n",
              "      <td>0.0370</td>\n",
              "      <td>NaN</td>\n",
              "      <td>24.7</td>\n",
              "    </tr>\n",
              "    <tr>\n",
              "      <th>3</th>\n",
              "      <td>Afghanistan</td>\n",
              "      <td>Asia</td>\n",
              "      <td>2001</td>\n",
              "      <td>54.8</td>\n",
              "      <td>0.353</td>\n",
              "      <td>0.0376</td>\n",
              "      <td>NaN</td>\n",
              "      <td>24.7</td>\n",
              "    </tr>\n",
              "    <tr>\n",
              "      <th>4</th>\n",
              "      <td>Afghanistan</td>\n",
              "      <td>Asia</td>\n",
              "      <td>2002</td>\n",
              "      <td>55.5</td>\n",
              "      <td>0.384</td>\n",
              "      <td>0.0471</td>\n",
              "      <td>333.0</td>\n",
              "      <td>25.6</td>\n",
              "    </tr>\n",
              "    <tr>\n",
              "      <th>...</th>\n",
              "      <td>...</td>\n",
              "      <td>...</td>\n",
              "      <td>...</td>\n",
              "      <td>...</td>\n",
              "      <td>...</td>\n",
              "      <td>...</td>\n",
              "      <td>...</td>\n",
              "      <td>...</td>\n",
              "    </tr>\n",
              "    <tr>\n",
              "      <th>3670</th>\n",
              "      <td>Zimbabwe</td>\n",
              "      <td>Africa</td>\n",
              "      <td>2014</td>\n",
              "      <td>58.0</td>\n",
              "      <td>0.547</td>\n",
              "      <td>0.8810</td>\n",
              "      <td>1440.0</td>\n",
              "      <td>25.4</td>\n",
              "    </tr>\n",
              "    <tr>\n",
              "      <th>3671</th>\n",
              "      <td>Zimbabwe</td>\n",
              "      <td>Africa</td>\n",
              "      <td>2015</td>\n",
              "      <td>58.6</td>\n",
              "      <td>0.553</td>\n",
              "      <td>0.8810</td>\n",
              "      <td>1450.0</td>\n",
              "      <td>25.7</td>\n",
              "    </tr>\n",
              "    <tr>\n",
              "      <th>3672</th>\n",
              "      <td>Zimbabwe</td>\n",
              "      <td>Africa</td>\n",
              "      <td>2016</td>\n",
              "      <td>59.2</td>\n",
              "      <td>0.558</td>\n",
              "      <td>0.7710</td>\n",
              "      <td>1430.0</td>\n",
              "      <td>26.1</td>\n",
              "    </tr>\n",
              "    <tr>\n",
              "      <th>3673</th>\n",
              "      <td>Zimbabwe</td>\n",
              "      <td>Africa</td>\n",
              "      <td>2017</td>\n",
              "      <td>59.9</td>\n",
              "      <td>0.563</td>\n",
              "      <td>0.8450</td>\n",
              "      <td>1480.0</td>\n",
              "      <td>26.6</td>\n",
              "    </tr>\n",
              "    <tr>\n",
              "      <th>3674</th>\n",
              "      <td>Zimbabwe</td>\n",
              "      <td>Africa</td>\n",
              "      <td>2018</td>\n",
              "      <td>60.6</td>\n",
              "      <td>0.569</td>\n",
              "      <td>0.8500</td>\n",
              "      <td>1510.0</td>\n",
              "      <td>27.2</td>\n",
              "    </tr>\n",
              "  </tbody>\n",
              "</table>\n",
              "<p>3675 rows × 8 columns</p>\n",
              "</div>"
            ],
            "text/plain": [
              "          country continent  year  life_exp  hdi_index  co2_consump     gdp  \\\n",
              "0     Afghanistan      Asia  1998      53.3      0.344       0.0522     NaN   \n",
              "1     Afghanistan      Asia  1999      54.7      0.348       0.0402     NaN   \n",
              "2     Afghanistan      Asia  2000      54.7      0.350       0.0370     NaN   \n",
              "3     Afghanistan      Asia  2001      54.8      0.353       0.0376     NaN   \n",
              "4     Afghanistan      Asia  2002      55.5      0.384       0.0471   333.0   \n",
              "...           ...       ...   ...       ...        ...          ...     ...   \n",
              "3670     Zimbabwe    Africa  2014      58.0      0.547       0.8810  1440.0   \n",
              "3671     Zimbabwe    Africa  2015      58.6      0.553       0.8810  1450.0   \n",
              "3672     Zimbabwe    Africa  2016      59.2      0.558       0.7710  1430.0   \n",
              "3673     Zimbabwe    Africa  2017      59.9      0.563       0.8450  1480.0   \n",
              "3674     Zimbabwe    Africa  2018      60.6      0.569       0.8500  1510.0   \n",
              "\n",
              "      services  \n",
              "0         24.4  \n",
              "1         24.6  \n",
              "2         24.7  \n",
              "3         24.7  \n",
              "4         25.6  \n",
              "...        ...  \n",
              "3670      25.4  \n",
              "3671      25.7  \n",
              "3672      26.1  \n",
              "3673      26.6  \n",
              "3674      27.2  \n",
              "\n",
              "[3675 rows x 8 columns]"
            ]
          },
          "metadata": {},
          "output_type": "display_data"
        }
      ],
      "source": [
        "display(df)"
      ]
    },
    {
      "cell_type": "code",
      "execution_count": null,
      "id": "b6146a91-541a-44a0-84b8-b20f89fa55ca",
      "metadata": {
        "id": "b6146a91-541a-44a0-84b8-b20f89fa55ca",
        "outputId": "18521f61-5fed-456f-984d-0d998f14cd7c"
      },
      "outputs": [
        {
          "data": {
            "text/html": [
              "<div>\n",
              "<style scoped>\n",
              "    .dataframe tbody tr th:only-of-type {\n",
              "        vertical-align: middle;\n",
              "    }\n",
              "\n",
              "    .dataframe tbody tr th {\n",
              "        vertical-align: top;\n",
              "    }\n",
              "\n",
              "    .dataframe thead th {\n",
              "        text-align: right;\n",
              "    }\n",
              "</style>\n",
              "<table border=\"1\" class=\"dataframe\">\n",
              "  <thead>\n",
              "    <tr style=\"text-align: right;\">\n",
              "      <th></th>\n",
              "      <th>country</th>\n",
              "      <th>continent</th>\n",
              "      <th>year</th>\n",
              "      <th>life_exp</th>\n",
              "      <th>hdi_index</th>\n",
              "      <th>co2_consump</th>\n",
              "      <th>gdp</th>\n",
              "      <th>services</th>\n",
              "    </tr>\n",
              "  </thead>\n",
              "  <tbody>\n",
              "    <tr>\n",
              "      <th>0</th>\n",
              "      <td>Afghanistan</td>\n",
              "      <td>Asia</td>\n",
              "      <td>1998</td>\n",
              "      <td>53.3</td>\n",
              "      <td>0.344</td>\n",
              "      <td>0.0522</td>\n",
              "      <td>NaN</td>\n",
              "      <td>24.4</td>\n",
              "    </tr>\n",
              "    <tr>\n",
              "      <th>1</th>\n",
              "      <td>Afghanistan</td>\n",
              "      <td>Asia</td>\n",
              "      <td>1999</td>\n",
              "      <td>54.7</td>\n",
              "      <td>0.348</td>\n",
              "      <td>0.0402</td>\n",
              "      <td>NaN</td>\n",
              "      <td>24.6</td>\n",
              "    </tr>\n",
              "    <tr>\n",
              "      <th>2</th>\n",
              "      <td>Afghanistan</td>\n",
              "      <td>Asia</td>\n",
              "      <td>2000</td>\n",
              "      <td>54.7</td>\n",
              "      <td>0.350</td>\n",
              "      <td>0.0370</td>\n",
              "      <td>NaN</td>\n",
              "      <td>24.7</td>\n",
              "    </tr>\n",
              "    <tr>\n",
              "      <th>3</th>\n",
              "      <td>Afghanistan</td>\n",
              "      <td>Asia</td>\n",
              "      <td>2001</td>\n",
              "      <td>54.8</td>\n",
              "      <td>0.353</td>\n",
              "      <td>0.0376</td>\n",
              "      <td>NaN</td>\n",
              "      <td>24.7</td>\n",
              "    </tr>\n",
              "    <tr>\n",
              "      <th>4</th>\n",
              "      <td>Afghanistan</td>\n",
              "      <td>Asia</td>\n",
              "      <td>2002</td>\n",
              "      <td>55.5</td>\n",
              "      <td>0.384</td>\n",
              "      <td>0.0471</td>\n",
              "      <td>333.0</td>\n",
              "      <td>25.6</td>\n",
              "    </tr>\n",
              "    <tr>\n",
              "      <th>...</th>\n",
              "      <td>...</td>\n",
              "      <td>...</td>\n",
              "      <td>...</td>\n",
              "      <td>...</td>\n",
              "      <td>...</td>\n",
              "      <td>...</td>\n",
              "      <td>...</td>\n",
              "      <td>...</td>\n",
              "    </tr>\n",
              "    <tr>\n",
              "      <th>3669</th>\n",
              "      <td>Zimbabwe</td>\n",
              "      <td>Africa</td>\n",
              "      <td>2013</td>\n",
              "      <td>57.2</td>\n",
              "      <td>0.537</td>\n",
              "      <td>0.8720</td>\n",
              "      <td>1440.0</td>\n",
              "      <td>25.3</td>\n",
              "    </tr>\n",
              "    <tr>\n",
              "      <th>3670</th>\n",
              "      <td>Zimbabwe</td>\n",
              "      <td>Africa</td>\n",
              "      <td>2014</td>\n",
              "      <td>58.0</td>\n",
              "      <td>0.547</td>\n",
              "      <td>0.8810</td>\n",
              "      <td>1440.0</td>\n",
              "      <td>25.4</td>\n",
              "    </tr>\n",
              "    <tr>\n",
              "      <th>3671</th>\n",
              "      <td>Zimbabwe</td>\n",
              "      <td>Africa</td>\n",
              "      <td>2015</td>\n",
              "      <td>58.6</td>\n",
              "      <td>0.553</td>\n",
              "      <td>0.8810</td>\n",
              "      <td>1450.0</td>\n",
              "      <td>25.7</td>\n",
              "    </tr>\n",
              "    <tr>\n",
              "      <th>3672</th>\n",
              "      <td>Zimbabwe</td>\n",
              "      <td>Africa</td>\n",
              "      <td>2016</td>\n",
              "      <td>59.2</td>\n",
              "      <td>0.558</td>\n",
              "      <td>0.7710</td>\n",
              "      <td>1430.0</td>\n",
              "      <td>26.1</td>\n",
              "    </tr>\n",
              "    <tr>\n",
              "      <th>3673</th>\n",
              "      <td>Zimbabwe</td>\n",
              "      <td>Africa</td>\n",
              "      <td>2017</td>\n",
              "      <td>59.9</td>\n",
              "      <td>0.563</td>\n",
              "      <td>0.8450</td>\n",
              "      <td>1480.0</td>\n",
              "      <td>26.6</td>\n",
              "    </tr>\n",
              "  </tbody>\n",
              "</table>\n",
              "<p>3674 rows × 8 columns</p>\n",
              "</div>"
            ],
            "text/plain": [
              "          country continent  year  life_exp  hdi_index  co2_consump     gdp  \\\n",
              "0     Afghanistan      Asia  1998      53.3      0.344       0.0522     NaN   \n",
              "1     Afghanistan      Asia  1999      54.7      0.348       0.0402     NaN   \n",
              "2     Afghanistan      Asia  2000      54.7      0.350       0.0370     NaN   \n",
              "3     Afghanistan      Asia  2001      54.8      0.353       0.0376     NaN   \n",
              "4     Afghanistan      Asia  2002      55.5      0.384       0.0471   333.0   \n",
              "...           ...       ...   ...       ...        ...          ...     ...   \n",
              "3669     Zimbabwe    Africa  2013      57.2      0.537       0.8720  1440.0   \n",
              "3670     Zimbabwe    Africa  2014      58.0      0.547       0.8810  1440.0   \n",
              "3671     Zimbabwe    Africa  2015      58.6      0.553       0.8810  1450.0   \n",
              "3672     Zimbabwe    Africa  2016      59.2      0.558       0.7710  1430.0   \n",
              "3673     Zimbabwe    Africa  2017      59.9      0.563       0.8450  1480.0   \n",
              "\n",
              "      services  \n",
              "0         24.4  \n",
              "1         24.6  \n",
              "2         24.7  \n",
              "3         24.7  \n",
              "4         25.6  \n",
              "...        ...  \n",
              "3669      25.3  \n",
              "3670      25.4  \n",
              "3671      25.7  \n",
              "3672      26.1  \n",
              "3673      26.6  \n",
              "\n",
              "[3674 rows x 8 columns]"
            ]
          },
          "execution_count": 7,
          "metadata": {},
          "output_type": "execute_result"
        }
      ],
      "source": [
        "df.head(-1)"
      ]
    },
    {
      "cell_type": "code",
      "execution_count": null,
      "id": "50cbe912-7268-47c7-a336-7f67303e6942",
      "metadata": {
        "id": "50cbe912-7268-47c7-a336-7f67303e6942",
        "outputId": "343a8913-8ad0-4b2f-9eff-186b6b4c8539"
      },
      "outputs": [
        {
          "name": "stdout",
          "output_type": "stream",
          "text": [
            "country        Zimbabwe\n",
            "continent        Africa\n",
            "year               2018\n",
            "life_exp           60.6\n",
            "hdi_index         0.569\n",
            "co2_consump        0.85\n",
            "gdp              1510.0\n",
            "services           27.2\n",
            "Name: 3674, dtype: object\n"
          ]
        }
      ],
      "source": [
        "print(df.iloc[-1])"
      ]
    },
    {
      "cell_type": "code",
      "execution_count": null,
      "id": "96830519-2d55-4a22-95b4-909b21cc8eb7",
      "metadata": {
        "scrolled": true,
        "id": "96830519-2d55-4a22-95b4-909b21cc8eb7",
        "outputId": "356072ef-6fee-4127-de7a-714bd3b17c18"
      },
      "outputs": [
        {
          "name": "stdout",
          "output_type": "stream",
          "text": [
            "       country continent  year  life_exp  hdi_index  co2_consump     gdp  \\\n",
            "3670  Zimbabwe    Africa  2014      58.0      0.547        0.881  1440.0   \n",
            "3671  Zimbabwe    Africa  2015      58.6      0.553        0.881  1450.0   \n",
            "3672  Zimbabwe    Africa  2016      59.2      0.558        0.771  1430.0   \n",
            "3673  Zimbabwe    Africa  2017      59.9      0.563        0.845  1480.0   \n",
            "3674  Zimbabwe    Africa  2018      60.6      0.569        0.850  1510.0   \n",
            "\n",
            "      services  \n",
            "3670      25.4  \n",
            "3671      25.7  \n",
            "3672      26.1  \n",
            "3673      26.6  \n",
            "3674      27.2  \n"
          ]
        }
      ],
      "source": [
        "print(df.tail())"
      ]
    },
    {
      "cell_type": "code",
      "execution_count": null,
      "id": "4f9477be-90e2-4137-9248-496fa52a4d0d",
      "metadata": {
        "id": "4f9477be-90e2-4137-9248-496fa52a4d0d",
        "outputId": "089f18f0-ee12-48eb-ec15-26b0d860a012"
      },
      "outputs": [
        {
          "data": {
            "text/plain": [
              "42    Algeria\n",
              "43    Algeria\n",
              "44    Algeria\n",
              "45    Algeria\n",
              "46    Algeria\n",
              "47    Algeria\n",
              "48    Algeria\n",
              "49    Algeria\n",
              "50    Algeria\n",
              "51    Algeria\n",
              "52    Algeria\n",
              "53    Algeria\n",
              "54    Algeria\n",
              "55    Algeria\n",
              "56    Algeria\n",
              "57    Algeria\n",
              "58    Algeria\n",
              "59    Algeria\n",
              "60    Algeria\n",
              "Name: country, dtype: object"
            ]
          },
          "metadata": {},
          "output_type": "display_data"
        }
      ],
      "source": [
        "display(df.loc[42:60,'country'])"
      ]
    },
    {
      "cell_type": "code",
      "execution_count": null,
      "id": "1c6c0fd1-0e25-4dc9-8ef5-b1ba1d254551",
      "metadata": {
        "id": "1c6c0fd1-0e25-4dc9-8ef5-b1ba1d254551",
        "outputId": "3d333b5e-5bd7-4f7d-d086-b958851c0027"
      },
      "outputs": [
        {
          "data": {
            "text/plain": [
              "4     Afghanistan\n",
              "5     Afghanistan\n",
              "6     Afghanistan\n",
              "7     Afghanistan\n",
              "8     Afghanistan\n",
              "9     Afghanistan\n",
              "10    Afghanistan\n",
              "11    Afghanistan\n",
              "12    Afghanistan\n",
              "13    Afghanistan\n",
              "14    Afghanistan\n",
              "15    Afghanistan\n",
              "16    Afghanistan\n",
              "17    Afghanistan\n",
              "18    Afghanistan\n",
              "19    Afghanistan\n",
              "20    Afghanistan\n",
              "21        Albania\n",
              "22        Albania\n",
              "23        Albania\n",
              "24        Albania\n",
              "25        Albania\n",
              "26        Albania\n",
              "27        Albania\n",
              "28        Albania\n",
              "29        Albania\n",
              "30        Albania\n",
              "31        Albania\n",
              "32        Albania\n",
              "33        Albania\n",
              "34        Albania\n",
              "35        Albania\n",
              "36        Albania\n",
              "37        Albania\n",
              "38        Albania\n",
              "39        Albania\n",
              "40        Albania\n",
              "41        Albania\n",
              "42        Algeria\n",
              "43        Algeria\n",
              "44        Algeria\n",
              "45        Algeria\n",
              "46        Algeria\n",
              "47        Algeria\n",
              "48        Algeria\n",
              "49        Algeria\n",
              "50        Algeria\n",
              "51        Algeria\n",
              "52        Algeria\n",
              "53        Algeria\n",
              "54        Algeria\n",
              "55        Algeria\n",
              "56        Algeria\n",
              "57        Algeria\n",
              "58        Algeria\n",
              "59        Algeria\n",
              "Name: country, dtype: object"
            ]
          },
          "metadata": {},
          "output_type": "display_data"
        }
      ],
      "source": [
        "display(df.iloc[4:60,0])"
      ]
    },
    {
      "cell_type": "code",
      "execution_count": null,
      "id": "fca7d64a-a387-43b2-81c3-69170a049f63",
      "metadata": {
        "id": "fca7d64a-a387-43b2-81c3-69170a049f63",
        "outputId": "b83af078-5e11-4552-d9b2-eaa0ea3f6fe0"
      },
      "outputs": [
        {
          "name": "stdout",
          "output_type": "stream",
          "text": [
            "          country continent  year  life_exp  hdi_index  co2_consump     gdp  \\\n",
            "0     Afghanistan      Asia  1998      53.3      0.344       0.0522     NaN   \n",
            "1     Afghanistan      Asia  1999      54.7      0.348       0.0402     NaN   \n",
            "2     Afghanistan      Asia  2000      54.7      0.350       0.0370     NaN   \n",
            "3     Afghanistan      Asia  2001      54.8      0.353       0.0376     NaN   \n",
            "4     Afghanistan      Asia  2002      55.5      0.384       0.0471   333.0   \n",
            "...           ...       ...   ...       ...        ...          ...     ...   \n",
            "3670     Zimbabwe    Africa  2014      58.0      0.547       0.8810  1440.0   \n",
            "3671     Zimbabwe    Africa  2015      58.6      0.553       0.8810  1450.0   \n",
            "3672     Zimbabwe    Africa  2016      59.2      0.558       0.7710  1430.0   \n",
            "3673     Zimbabwe    Africa  2017      59.9      0.563       0.8450  1480.0   \n",
            "3674     Zimbabwe    Africa  2018      60.6      0.569       0.8500  1510.0   \n",
            "\n",
            "      services  \n",
            "0         24.4  \n",
            "1         24.6  \n",
            "2         24.7  \n",
            "3         24.7  \n",
            "4         25.6  \n",
            "...        ...  \n",
            "3670      25.4  \n",
            "3671      25.7  \n",
            "3672      26.1  \n",
            "3673      26.6  \n",
            "3674      27.2  \n",
            "\n",
            "[3675 rows x 8 columns]\n"
          ]
        }
      ],
      "source": [
        "print(df)"
      ]
    },
    {
      "cell_type": "code",
      "execution_count": null,
      "id": "99fa7ec5-f1a7-483a-9283-8ac19711680b",
      "metadata": {
        "id": "99fa7ec5-f1a7-483a-9283-8ac19711680b",
        "outputId": "a0538966-d7f4-4936-b91d-b8a158e82cb8"
      },
      "outputs": [
        {
          "name": "stdout",
          "output_type": "stream",
          "text": [
            "         country continent  co2_consump      gdp\n",
            "0    Afghanistan      Asia       0.0522      NaN\n",
            "50       Algeria    Africa       2.9800   3760.0\n",
            "150      Austria    Europe       8.6900  39200.0\n"
          ]
        }
      ],
      "source": [
        "print(df.iloc[[0,50,150],[0,1,5,6]])"
      ]
    },
    {
      "cell_type": "code",
      "execution_count": null,
      "id": "aa30a58f-a3c9-4241-bc62-bcbd7ccefb1a",
      "metadata": {
        "id": "aa30a58f-a3c9-4241-bc62-bcbd7ccefb1a",
        "outputId": "86a56a5e-2366-4346-eae9-624b5b7d1beb"
      },
      "outputs": [
        {
          "name": "stdout",
          "output_type": "stream",
          "text": [
            "(3675, 8)\n"
          ]
        }
      ],
      "source": [
        "print(df.shape)"
      ]
    },
    {
      "cell_type": "code",
      "execution_count": null,
      "id": "758ae649-0ced-4b4b-ad53-0cf458ff57cf",
      "metadata": {
        "id": "758ae649-0ced-4b4b-ad53-0cf458ff57cf",
        "outputId": "dd66141e-373d-4b7b-d563-74f837924f42"
      },
      "outputs": [
        {
          "name": "stdout",
          "output_type": "stream",
          "text": [
            "29400\n"
          ]
        }
      ],
      "source": [
        "print(df.size)"
      ]
    },
    {
      "cell_type": "code",
      "execution_count": null,
      "id": "b1476c72-cb58-4569-b56e-5d0146b426eb",
      "metadata": {
        "id": "b1476c72-cb58-4569-b56e-5d0146b426eb",
        "outputId": "0a04d19e-707c-49ea-d5de-aa74bd093c0e"
      },
      "outputs": [
        {
          "name": "stdout",
          "output_type": "stream",
          "text": [
            "Index(['country', 'continent', 'year', 'life_exp', 'hdi_index', 'co2_consump',\n",
            "       'gdp', 'services'],\n",
            "      dtype='object')\n"
          ]
        }
      ],
      "source": [
        "print(df.columns)"
      ]
    },
    {
      "cell_type": "code",
      "execution_count": null,
      "id": "b07e4a74-4dca-4696-ac34-ad82369913c4",
      "metadata": {
        "id": "b07e4a74-4dca-4696-ac34-ad82369913c4",
        "outputId": "a5b19a83-5cb2-4ff0-9594-4d269ee15115"
      },
      "outputs": [
        {
          "name": "stdout",
          "output_type": "stream",
          "text": [
            "country         object\n",
            "continent       object\n",
            "year             int64\n",
            "life_exp       float64\n",
            "hdi_index      float64\n",
            "co2_consump    float64\n",
            "gdp            float64\n",
            "services       float64\n",
            "dtype: object\n"
          ]
        }
      ],
      "source": [
        "print(df.dtypes)"
      ]
    },
    {
      "cell_type": "code",
      "execution_count": null,
      "id": "a3fbaaa8-1e00-473f-821b-407c3311fa29",
      "metadata": {
        "id": "a3fbaaa8-1e00-473f-821b-407c3311fa29",
        "outputId": "a210679e-a6d0-42b0-a488-bb2f67c20085"
      },
      "outputs": [
        {
          "name": "stdout",
          "output_type": "stream",
          "text": [
            "<bound method DataFrame.info of           country continent  year  life_exp  hdi_index  co2_consump     gdp  \\\n",
            "0     Afghanistan      Asia  1998      53.3      0.344       0.0522     NaN   \n",
            "1     Afghanistan      Asia  1999      54.7      0.348       0.0402     NaN   \n",
            "2     Afghanistan      Asia  2000      54.7      0.350       0.0370     NaN   \n",
            "3     Afghanistan      Asia  2001      54.8      0.353       0.0376     NaN   \n",
            "4     Afghanistan      Asia  2002      55.5      0.384       0.0471   333.0   \n",
            "...           ...       ...   ...       ...        ...          ...     ...   \n",
            "3670     Zimbabwe    Africa  2014      58.0      0.547       0.8810  1440.0   \n",
            "3671     Zimbabwe    Africa  2015      58.6      0.553       0.8810  1450.0   \n",
            "3672     Zimbabwe    Africa  2016      59.2      0.558       0.7710  1430.0   \n",
            "3673     Zimbabwe    Africa  2017      59.9      0.563       0.8450  1480.0   \n",
            "3674     Zimbabwe    Africa  2018      60.6      0.569       0.8500  1510.0   \n",
            "\n",
            "      services  \n",
            "0         24.4  \n",
            "1         24.6  \n",
            "2         24.7  \n",
            "3         24.7  \n",
            "4         25.6  \n",
            "...        ...  \n",
            "3670      25.4  \n",
            "3671      25.7  \n",
            "3672      26.1  \n",
            "3673      26.6  \n",
            "3674      27.2  \n",
            "\n",
            "[3675 rows x 8 columns]>\n"
          ]
        }
      ],
      "source": [
        "print(df.info)"
      ]
    },
    {
      "cell_type": "code",
      "execution_count": null,
      "id": "71c727d4-da46-4885-89b8-0083fd0fe694",
      "metadata": {
        "id": "71c727d4-da46-4885-89b8-0083fd0fe694",
        "outputId": "925b84b8-96f1-4cbf-ffbb-8937485e6a51"
      },
      "outputs": [
        {
          "data": {
            "text/html": [
              "<div>\n",
              "<style scoped>\n",
              "    .dataframe tbody tr th:only-of-type {\n",
              "        vertical-align: middle;\n",
              "    }\n",
              "\n",
              "    .dataframe tbody tr th {\n",
              "        vertical-align: top;\n",
              "    }\n",
              "\n",
              "    .dataframe thead th {\n",
              "        text-align: right;\n",
              "    }\n",
              "</style>\n",
              "<table border=\"1\" class=\"dataframe\">\n",
              "  <thead>\n",
              "    <tr style=\"text-align: right;\">\n",
              "      <th></th>\n",
              "      <th>country</th>\n",
              "      <th>continent</th>\n",
              "      <th>year</th>\n",
              "      <th>life_exp</th>\n",
              "      <th>hdi_index</th>\n",
              "      <th>co2_consump</th>\n",
              "      <th>gdp</th>\n",
              "      <th>services</th>\n",
              "    </tr>\n",
              "  </thead>\n",
              "  <tbody>\n",
              "    <tr>\n",
              "      <th>4</th>\n",
              "      <td>Afghanistan</td>\n",
              "      <td>Asia</td>\n",
              "      <td>2002</td>\n",
              "      <td>55.5</td>\n",
              "      <td>0.384</td>\n",
              "      <td>0.0471</td>\n",
              "      <td>333.0</td>\n",
              "      <td>25.6</td>\n",
              "    </tr>\n",
              "    <tr>\n",
              "      <th>5</th>\n",
              "      <td>Afghanistan</td>\n",
              "      <td>Asia</td>\n",
              "      <td>2003</td>\n",
              "      <td>56.5</td>\n",
              "      <td>0.393</td>\n",
              "      <td>0.0509</td>\n",
              "      <td>346.0</td>\n",
              "      <td>25.9</td>\n",
              "    </tr>\n",
              "    <tr>\n",
              "      <th>6</th>\n",
              "      <td>Afghanistan</td>\n",
              "      <td>Asia</td>\n",
              "      <td>2004</td>\n",
              "      <td>57.1</td>\n",
              "      <td>0.409</td>\n",
              "      <td>0.0368</td>\n",
              "      <td>336.0</td>\n",
              "      <td>26.1</td>\n",
              "    </tr>\n",
              "    <tr>\n",
              "      <th>7</th>\n",
              "      <td>Afghanistan</td>\n",
              "      <td>Asia</td>\n",
              "      <td>2005</td>\n",
              "      <td>57.6</td>\n",
              "      <td>0.418</td>\n",
              "      <td>0.0515</td>\n",
              "      <td>360.0</td>\n",
              "      <td>26.5</td>\n",
              "    </tr>\n",
              "    <tr>\n",
              "      <th>8</th>\n",
              "      <td>Afghanistan</td>\n",
              "      <td>Asia</td>\n",
              "      <td>2006</td>\n",
              "      <td>58.0</td>\n",
              "      <td>0.429</td>\n",
              "      <td>0.0622</td>\n",
              "      <td>368.0</td>\n",
              "      <td>26.9</td>\n",
              "    </tr>\n",
              "    <tr>\n",
              "      <th>...</th>\n",
              "      <td>...</td>\n",
              "      <td>...</td>\n",
              "      <td>...</td>\n",
              "      <td>...</td>\n",
              "      <td>...</td>\n",
              "      <td>...</td>\n",
              "      <td>...</td>\n",
              "      <td>...</td>\n",
              "    </tr>\n",
              "    <tr>\n",
              "      <th>3670</th>\n",
              "      <td>Zimbabwe</td>\n",
              "      <td>Africa</td>\n",
              "      <td>2014</td>\n",
              "      <td>58.0</td>\n",
              "      <td>0.547</td>\n",
              "      <td>0.8810</td>\n",
              "      <td>1440.0</td>\n",
              "      <td>25.4</td>\n",
              "    </tr>\n",
              "    <tr>\n",
              "      <th>3671</th>\n",
              "      <td>Zimbabwe</td>\n",
              "      <td>Africa</td>\n",
              "      <td>2015</td>\n",
              "      <td>58.6</td>\n",
              "      <td>0.553</td>\n",
              "      <td>0.8810</td>\n",
              "      <td>1450.0</td>\n",
              "      <td>25.7</td>\n",
              "    </tr>\n",
              "    <tr>\n",
              "      <th>3672</th>\n",
              "      <td>Zimbabwe</td>\n",
              "      <td>Africa</td>\n",
              "      <td>2016</td>\n",
              "      <td>59.2</td>\n",
              "      <td>0.558</td>\n",
              "      <td>0.7710</td>\n",
              "      <td>1430.0</td>\n",
              "      <td>26.1</td>\n",
              "    </tr>\n",
              "    <tr>\n",
              "      <th>3673</th>\n",
              "      <td>Zimbabwe</td>\n",
              "      <td>Africa</td>\n",
              "      <td>2017</td>\n",
              "      <td>59.9</td>\n",
              "      <td>0.563</td>\n",
              "      <td>0.8450</td>\n",
              "      <td>1480.0</td>\n",
              "      <td>26.6</td>\n",
              "    </tr>\n",
              "    <tr>\n",
              "      <th>3674</th>\n",
              "      <td>Zimbabwe</td>\n",
              "      <td>Africa</td>\n",
              "      <td>2018</td>\n",
              "      <td>60.6</td>\n",
              "      <td>0.569</td>\n",
              "      <td>0.8500</td>\n",
              "      <td>1510.0</td>\n",
              "      <td>27.2</td>\n",
              "    </tr>\n",
              "  </tbody>\n",
              "</table>\n",
              "<p>3532 rows × 8 columns</p>\n",
              "</div>"
            ],
            "text/plain": [
              "          country continent  year  life_exp  hdi_index  co2_consump     gdp  \\\n",
              "4     Afghanistan      Asia  2002      55.5      0.384       0.0471   333.0   \n",
              "5     Afghanistan      Asia  2003      56.5      0.393       0.0509   346.0   \n",
              "6     Afghanistan      Asia  2004      57.1      0.409       0.0368   336.0   \n",
              "7     Afghanistan      Asia  2005      57.6      0.418       0.0515   360.0   \n",
              "8     Afghanistan      Asia  2006      58.0      0.429       0.0622   368.0   \n",
              "...           ...       ...   ...       ...        ...          ...     ...   \n",
              "3670     Zimbabwe    Africa  2014      58.0      0.547       0.8810  1440.0   \n",
              "3671     Zimbabwe    Africa  2015      58.6      0.553       0.8810  1450.0   \n",
              "3672     Zimbabwe    Africa  2016      59.2      0.558       0.7710  1430.0   \n",
              "3673     Zimbabwe    Africa  2017      59.9      0.563       0.8450  1480.0   \n",
              "3674     Zimbabwe    Africa  2018      60.6      0.569       0.8500  1510.0   \n",
              "\n",
              "      services  \n",
              "4         25.6  \n",
              "5         25.9  \n",
              "6         26.1  \n",
              "7         26.5  \n",
              "8         26.9  \n",
              "...        ...  \n",
              "3670      25.4  \n",
              "3671      25.7  \n",
              "3672      26.1  \n",
              "3673      26.6  \n",
              "3674      27.2  \n",
              "\n",
              "[3532 rows x 8 columns]"
            ]
          },
          "execution_count": 14,
          "metadata": {},
          "output_type": "execute_result"
        }
      ],
      "source": [
        "df.dropna()"
      ]
    },
    {
      "cell_type": "code",
      "execution_count": null,
      "id": "5a6634b9-4b36-4c3d-8098-1a45d6a4b517",
      "metadata": {
        "id": "5a6634b9-4b36-4c3d-8098-1a45d6a4b517",
        "outputId": "aab9c205-c8b2-4d35-cdc3-2f14025f1af0"
      },
      "outputs": [
        {
          "data": {
            "text/html": [
              "<div>\n",
              "<style scoped>\n",
              "    .dataframe tbody tr th:only-of-type {\n",
              "        vertical-align: middle;\n",
              "    }\n",
              "\n",
              "    .dataframe tbody tr th {\n",
              "        vertical-align: top;\n",
              "    }\n",
              "\n",
              "    .dataframe thead th {\n",
              "        text-align: right;\n",
              "    }\n",
              "</style>\n",
              "<table border=\"1\" class=\"dataframe\">\n",
              "  <thead>\n",
              "    <tr style=\"text-align: right;\">\n",
              "      <th></th>\n",
              "      <th>country</th>\n",
              "      <th>continent</th>\n",
              "      <th>year</th>\n",
              "      <th>life_exp</th>\n",
              "      <th>hdi_index</th>\n",
              "      <th>co2_consump</th>\n",
              "      <th>gdp</th>\n",
              "      <th>services</th>\n",
              "    </tr>\n",
              "  </thead>\n",
              "  <tbody>\n",
              "    <tr>\n",
              "      <th>0</th>\n",
              "      <td>Afghanistan</td>\n",
              "      <td>Asia</td>\n",
              "      <td>1998</td>\n",
              "      <td>53.3</td>\n",
              "      <td>0.344</td>\n",
              "      <td>0.0522</td>\n",
              "      <td>NaN</td>\n",
              "      <td>24.4</td>\n",
              "    </tr>\n",
              "    <tr>\n",
              "      <th>1</th>\n",
              "      <td>Afghanistan</td>\n",
              "      <td>Asia</td>\n",
              "      <td>1999</td>\n",
              "      <td>54.7</td>\n",
              "      <td>0.348</td>\n",
              "      <td>0.0402</td>\n",
              "      <td>NaN</td>\n",
              "      <td>24.6</td>\n",
              "    </tr>\n",
              "    <tr>\n",
              "      <th>2</th>\n",
              "      <td>Afghanistan</td>\n",
              "      <td>Asia</td>\n",
              "      <td>2000</td>\n",
              "      <td>54.7</td>\n",
              "      <td>0.350</td>\n",
              "      <td>0.0370</td>\n",
              "      <td>NaN</td>\n",
              "      <td>24.7</td>\n",
              "    </tr>\n",
              "    <tr>\n",
              "      <th>3</th>\n",
              "      <td>Afghanistan</td>\n",
              "      <td>Asia</td>\n",
              "      <td>2001</td>\n",
              "      <td>54.8</td>\n",
              "      <td>0.353</td>\n",
              "      <td>0.0376</td>\n",
              "      <td>NaN</td>\n",
              "      <td>24.7</td>\n",
              "    </tr>\n",
              "    <tr>\n",
              "      <th>4</th>\n",
              "      <td>Afghanistan</td>\n",
              "      <td>Asia</td>\n",
              "      <td>2002</td>\n",
              "      <td>55.5</td>\n",
              "      <td>0.384</td>\n",
              "      <td>0.0471</td>\n",
              "      <td>333.0</td>\n",
              "      <td>25.6</td>\n",
              "    </tr>\n",
              "    <tr>\n",
              "      <th>...</th>\n",
              "      <td>...</td>\n",
              "      <td>...</td>\n",
              "      <td>...</td>\n",
              "      <td>...</td>\n",
              "      <td>...</td>\n",
              "      <td>...</td>\n",
              "      <td>...</td>\n",
              "      <td>...</td>\n",
              "    </tr>\n",
              "    <tr>\n",
              "      <th>3670</th>\n",
              "      <td>Zimbabwe</td>\n",
              "      <td>Africa</td>\n",
              "      <td>2014</td>\n",
              "      <td>58.0</td>\n",
              "      <td>0.547</td>\n",
              "      <td>0.8810</td>\n",
              "      <td>1440.0</td>\n",
              "      <td>25.4</td>\n",
              "    </tr>\n",
              "    <tr>\n",
              "      <th>3671</th>\n",
              "      <td>Zimbabwe</td>\n",
              "      <td>Africa</td>\n",
              "      <td>2015</td>\n",
              "      <td>58.6</td>\n",
              "      <td>0.553</td>\n",
              "      <td>0.8810</td>\n",
              "      <td>1450.0</td>\n",
              "      <td>25.7</td>\n",
              "    </tr>\n",
              "    <tr>\n",
              "      <th>3672</th>\n",
              "      <td>Zimbabwe</td>\n",
              "      <td>Africa</td>\n",
              "      <td>2016</td>\n",
              "      <td>59.2</td>\n",
              "      <td>0.558</td>\n",
              "      <td>0.7710</td>\n",
              "      <td>1430.0</td>\n",
              "      <td>26.1</td>\n",
              "    </tr>\n",
              "    <tr>\n",
              "      <th>3673</th>\n",
              "      <td>Zimbabwe</td>\n",
              "      <td>Africa</td>\n",
              "      <td>2017</td>\n",
              "      <td>59.9</td>\n",
              "      <td>0.563</td>\n",
              "      <td>0.8450</td>\n",
              "      <td>1480.0</td>\n",
              "      <td>26.6</td>\n",
              "    </tr>\n",
              "    <tr>\n",
              "      <th>3674</th>\n",
              "      <td>Zimbabwe</td>\n",
              "      <td>Africa</td>\n",
              "      <td>2018</td>\n",
              "      <td>60.6</td>\n",
              "      <td>0.569</td>\n",
              "      <td>0.8500</td>\n",
              "      <td>1510.0</td>\n",
              "      <td>27.2</td>\n",
              "    </tr>\n",
              "  </tbody>\n",
              "</table>\n",
              "<p>3675 rows × 8 columns</p>\n",
              "</div>"
            ],
            "text/plain": [
              "          country continent  year  life_exp  hdi_index  co2_consump     gdp  \\\n",
              "0     Afghanistan      Asia  1998      53.3      0.344       0.0522     NaN   \n",
              "1     Afghanistan      Asia  1999      54.7      0.348       0.0402     NaN   \n",
              "2     Afghanistan      Asia  2000      54.7      0.350       0.0370     NaN   \n",
              "3     Afghanistan      Asia  2001      54.8      0.353       0.0376     NaN   \n",
              "4     Afghanistan      Asia  2002      55.5      0.384       0.0471   333.0   \n",
              "...           ...       ...   ...       ...        ...          ...     ...   \n",
              "3670     Zimbabwe    Africa  2014      58.0      0.547       0.8810  1440.0   \n",
              "3671     Zimbabwe    Africa  2015      58.6      0.553       0.8810  1450.0   \n",
              "3672     Zimbabwe    Africa  2016      59.2      0.558       0.7710  1430.0   \n",
              "3673     Zimbabwe    Africa  2017      59.9      0.563       0.8450  1480.0   \n",
              "3674     Zimbabwe    Africa  2018      60.6      0.569       0.8500  1510.0   \n",
              "\n",
              "      services  \n",
              "0         24.4  \n",
              "1         24.6  \n",
              "2         24.7  \n",
              "3         24.7  \n",
              "4         25.6  \n",
              "...        ...  \n",
              "3670      25.4  \n",
              "3671      25.7  \n",
              "3672      26.1  \n",
              "3673      26.6  \n",
              "3674      27.2  \n",
              "\n",
              "[3675 rows x 8 columns]"
            ]
          },
          "execution_count": 15,
          "metadata": {},
          "output_type": "execute_result"
        }
      ],
      "source": [
        "df"
      ]
    },
    {
      "cell_type": "code",
      "execution_count": null,
      "id": "f79ef7b0-ec4e-4fa2-9e9f-c1b6b6a09dd3",
      "metadata": {
        "id": "f79ef7b0-ec4e-4fa2-9e9f-c1b6b6a09dd3"
      },
      "outputs": [],
      "source": [
        "country_df = df['country']"
      ]
    },
    {
      "cell_type": "code",
      "execution_count": null,
      "id": "31ad35c6-54b8-4f1e-9a35-cf30555a07d3",
      "metadata": {
        "id": "31ad35c6-54b8-4f1e-9a35-cf30555a07d3",
        "outputId": "8eba0c28-18d0-42c7-9f97-9395cd3ff480"
      },
      "outputs": [
        {
          "data": {
            "text/plain": [
              "0       Afghanistan\n",
              "1       Afghanistan\n",
              "2       Afghanistan\n",
              "3       Afghanistan\n",
              "4       Afghanistan\n",
              "           ...     \n",
              "3670       Zimbabwe\n",
              "3671       Zimbabwe\n",
              "3672       Zimbabwe\n",
              "3673       Zimbabwe\n",
              "3674       Zimbabwe\n",
              "Name: country, Length: 3675, dtype: object"
            ]
          },
          "execution_count": 19,
          "metadata": {},
          "output_type": "execute_result"
        }
      ],
      "source": [
        "country_df"
      ]
    },
    {
      "cell_type": "code",
      "execution_count": null,
      "id": "1d2d04c9-150b-4a8c-855b-0d2d2bdd3a2d",
      "metadata": {
        "id": "1d2d04c9-150b-4a8c-855b-0d2d2bdd3a2d",
        "outputId": "867f745a-8a56-403c-89c0-2b63cf2b0073"
      },
      "outputs": [
        {
          "name": "stdout",
          "output_type": "stream",
          "text": [
            "0    Afghanistan\n",
            "1    Afghanistan\n",
            "2    Afghanistan\n",
            "3    Afghanistan\n",
            "4    Afghanistan\n",
            "Name: country, dtype: object\n"
          ]
        }
      ],
      "source": [
        "print(country_df.head())"
      ]
    },
    {
      "cell_type": "code",
      "execution_count": null,
      "id": "98af71cb-8303-4c8c-b94d-322f9981e1e2",
      "metadata": {
        "id": "98af71cb-8303-4c8c-b94d-322f9981e1e2",
        "outputId": "08830bd4-6b49-42ed-bba4-15a525f127a2"
      },
      "outputs": [
        {
          "name": "stdout",
          "output_type": "stream",
          "text": [
            "       country continent  year\n",
            "0  Afghanistan      Asia  1998\n",
            "1  Afghanistan      Asia  1999\n",
            "2  Afghanistan      Asia  2000\n",
            "3  Afghanistan      Asia  2001\n",
            "4  Afghanistan      Asia  2002\n"
          ]
        }
      ],
      "source": [
        "subset = df[['country','continent','year']]\n",
        "print(subset.head())"
      ]
    },
    {
      "cell_type": "code",
      "execution_count": null,
      "id": "56e62c7d-9805-47fc-8708-58c5fea47b2d",
      "metadata": {
        "id": "56e62c7d-9805-47fc-8708-58c5fea47b2d",
        "outputId": "c3c3e343-7031-4bf8-ea1c-3b60a2e43ac8"
      },
      "outputs": [
        {
          "name": "stdout",
          "output_type": "stream",
          "text": [
            "       country continent  year  life_exp  hdi_index  co2_consump    gdp  \\\n",
            "0  Afghanistan      Asia  1998      53.3      0.344       0.0522    NaN   \n",
            "1  Afghanistan      Asia  1999      54.7      0.348       0.0402    NaN   \n",
            "2  Afghanistan      Asia  2000      54.7      0.350       0.0370    NaN   \n",
            "3  Afghanistan      Asia  2001      54.8      0.353       0.0376    NaN   \n",
            "4  Afghanistan      Asia  2002      55.5      0.384       0.0471  333.0   \n",
            "\n",
            "   services  \n",
            "0      24.4  \n",
            "1      24.6  \n",
            "2      24.7  \n",
            "3      24.7  \n",
            "4      25.6  \n"
          ]
        }
      ],
      "source": [
        "print(df.head())"
      ]
    },
    {
      "cell_type": "code",
      "execution_count": null,
      "id": "63aa2837-7f65-4fcc-bd0d-5a0ac7a31cf4",
      "metadata": {
        "id": "63aa2837-7f65-4fcc-bd0d-5a0ac7a31cf4",
        "outputId": "a6d03017-9c1d-448d-c06f-2d2640c8012f"
      },
      "outputs": [
        {
          "name": "stdout",
          "output_type": "stream",
          "text": [
            "country              Ecuador\n",
            "continent      South America\n",
            "year                    2010\n",
            "life_exp                74.3\n",
            "hdi_index              0.726\n",
            "co2_consump             2.39\n",
            "gdp                   5320.0\n",
            "services                53.6\n",
            "Name: 999, dtype: object\n"
          ]
        }
      ],
      "source": [
        "print(df.loc[999])"
      ]
    },
    {
      "cell_type": "code",
      "execution_count": null,
      "id": "88894f27-4970-4b3b-99a1-28a1c8581e2b",
      "metadata": {
        "id": "88894f27-4970-4b3b-99a1-28a1c8581e2b"
      },
      "outputs": [],
      "source": [
        "# selection of more than one column with iloc function"
      ]
    },
    {
      "cell_type": "code",
      "execution_count": null,
      "id": "12edf758-2530-4269-b213-b5337cfa0fca",
      "metadata": {
        "id": "12edf758-2530-4269-b213-b5337cfa0fca",
        "outputId": "c854140d-e339-4415-f253-311ad9002e71"
      },
      "outputs": [
        {
          "name": "stdout",
          "output_type": "stream",
          "text": [
            "           country      continent  year  life_exp  co2_consump\n",
            "0      Afghanistan           Asia  1998      53.3       0.0522\n",
            "200        Bahamas  North America  2009      73.2       4.5900\n",
            "3000  South Africa         Africa  2016      62.7       8.4600\n"
          ]
        }
      ],
      "source": [
        "print(df.iloc[[0, 200,3000 ],[0,1, 2, 3, 5]])"
      ]
    },
    {
      "cell_type": "markdown",
      "id": "faeaf74d-ca44-43c9-806e-7d61a31d0bed",
      "metadata": {
        "id": "faeaf74d-ca44-43c9-806e-7d61a31d0bed"
      },
      "source": [
        "# using theloc fuction requires typing the row names needed."
      ]
    },
    {
      "cell_type": "code",
      "execution_count": null,
      "id": "83776160-69c7-4277-862e-4840edee2364",
      "metadata": {
        "id": "83776160-69c7-4277-862e-4840edee2364",
        "outputId": "a7812ab8-cdb5-4e0d-88a4-5eee18631bb3"
      },
      "outputs": [
        {
          "name": "stdout",
          "output_type": "stream",
          "text": [
            "         country  year  life_exp\n",
            "0    Afghanistan  1998      53.3\n",
            "20   Afghanistan  2018      62.7\n",
            "500     Bulgaria  2015      73.2\n"
          ]
        }
      ],
      "source": [
        "print(df.loc[[0,20,500],['country','year','life_exp']])"
      ]
    },
    {
      "cell_type": "code",
      "execution_count": null,
      "id": "ef587e2f-8788-4c22-9aff-df6586cca300",
      "metadata": {
        "id": "ef587e2f-8788-4c22-9aff-df6586cca300"
      },
      "outputs": [],
      "source": [
        "# slicing multiple rows"
      ]
    },
    {
      "cell_type": "code",
      "execution_count": null,
      "id": "693fb1d1-7bcf-4255-ac03-7b98ba27d8f5",
      "metadata": {
        "id": "693fb1d1-7bcf-4255-ac03-7b98ba27d8f5",
        "outputId": "31e1be2e-4a9a-43af-c1a7-43c114321d02"
      },
      "outputs": [
        {
          "name": "stdout",
          "output_type": "stream",
          "text": [
            "        country  year  life_exp\n",
            "10  Afghanistan  2008      59.2\n",
            "11  Afghanistan  2009      59.9\n",
            "12  Afghanistan  2010      60.5\n",
            "13  Afghanistan  2011      61.0\n",
            "14  Afghanistan  2012      61.4\n",
            "15  Afghanistan  2013      61.9\n",
            "16  Afghanistan  2014      61.9\n",
            "17  Afghanistan  2015      61.9\n",
            "18  Afghanistan  2016      62.0\n",
            "19  Afghanistan  2017      62.9\n",
            "20  Afghanistan  2018      62.7\n"
          ]
        }
      ],
      "source": [
        "print(df.loc[10:20,['country','year','life_exp']])"
      ]
    },
    {
      "cell_type": "code",
      "execution_count": null,
      "id": "56c1fd70-aa4c-4fe7-b7c2-a1407092c35c",
      "metadata": {
        "id": "56c1fd70-aa4c-4fe7-b7c2-a1407092c35c"
      },
      "outputs": [],
      "source": [
        "# printing multiple rows with the head function"
      ]
    },
    {
      "cell_type": "code",
      "execution_count": null,
      "id": "6dc9eda9-680d-417a-a972-efb82da6232d",
      "metadata": {
        "id": "6dc9eda9-680d-417a-a972-efb82da6232d",
        "outputId": "d193e8ef-2c28-4b00-a3c5-e43347321d8d"
      },
      "outputs": [
        {
          "name": "stdout",
          "output_type": "stream",
          "text": [
            "        country continent  year  life_exp  hdi_index  co2_consump    gdp  \\\n",
            "0   Afghanistan      Asia  1998      53.3      0.344       0.0522    NaN   \n",
            "1   Afghanistan      Asia  1999      54.7      0.348       0.0402    NaN   \n",
            "2   Afghanistan      Asia  2000      54.7      0.350       0.0370    NaN   \n",
            "3   Afghanistan      Asia  2001      54.8      0.353       0.0376    NaN   \n",
            "4   Afghanistan      Asia  2002      55.5      0.384       0.0471  333.0   \n",
            "5   Afghanistan      Asia  2003      56.5      0.393       0.0509  346.0   \n",
            "6   Afghanistan      Asia  2004      57.1      0.409       0.0368  336.0   \n",
            "7   Afghanistan      Asia  2005      57.6      0.418       0.0515  360.0   \n",
            "8   Afghanistan      Asia  2006      58.0      0.429       0.0622  368.0   \n",
            "9   Afghanistan      Asia  2007      58.5      0.447       0.0838  409.0   \n",
            "10  Afghanistan      Asia  2008      59.2      0.447       0.1520  415.0   \n",
            "11  Afghanistan      Asia  2009      59.9      0.460       0.2380  492.0   \n",
            "12  Afghanistan      Asia  2010      60.5      0.472       0.2900  547.0   \n",
            "13  Afghanistan      Asia  2011      61.0      0.477       0.4060  533.0   \n",
            "14  Afghanistan      Asia  2012      61.4      0.489       0.3450  580.0   \n",
            "15  Afghanistan      Asia  2013      61.9      0.496       0.2800  592.0   \n",
            "16  Afghanistan      Asia  2014      61.9      0.500       0.2530  588.0   \n",
            "17  Afghanistan      Asia  2015      61.9      0.500       0.2620  578.0   \n",
            "18  Afghanistan      Asia  2016      62.0      0.502       0.2450  575.0   \n",
            "19  Afghanistan      Asia  2017      62.9      0.506       0.2470  576.0   \n",
            "\n",
            "    services  \n",
            "0       24.4  \n",
            "1       24.6  \n",
            "2       24.7  \n",
            "3       24.7  \n",
            "4       25.6  \n",
            "5       25.9  \n",
            "6       26.1  \n",
            "7       26.5  \n",
            "8       26.9  \n",
            "9       27.7  \n",
            "10      28.2  \n",
            "11      29.5  \n",
            "12      30.7  \n",
            "13      31.7  \n",
            "14      32.8  \n",
            "15      33.8  \n",
            "16      34.8  \n",
            "17      35.8  \n",
            "18      36.9  \n",
            "19      38.0  \n"
          ]
        }
      ],
      "source": [
        "print(df.head(n=20))"
      ]
    },
    {
      "cell_type": "code",
      "execution_count": null,
      "id": "4315607e-8b73-4607-8bc2-e68789f5e6e9",
      "metadata": {
        "id": "4315607e-8b73-4607-8bc2-e68789f5e6e9",
        "outputId": "93f8f0de-ad4f-4d68-ede8-70d0d3352e11"
      },
      "outputs": [
        {
          "data": {
            "text/plain": [
              "country          0\n",
              "continent        0\n",
              "year             0\n",
              "life_exp         0\n",
              "hdi_index      112\n",
              "co2_consump      4\n",
              "gdp             42\n",
              "services         0\n",
              "dtype: int64"
            ]
          },
          "execution_count": 11,
          "metadata": {},
          "output_type": "execute_result"
        }
      ],
      "source": [
        "df.isna().sum()"
      ]
    },
    {
      "cell_type": "code",
      "execution_count": null,
      "id": "14b03349-ce87-45c1-93b2-f35bed49053f",
      "metadata": {
        "id": "14b03349-ce87-45c1-93b2-f35bed49053f",
        "outputId": "134955d7-724f-4b0e-b2b3-f24680921959"
      },
      "outputs": [
        {
          "data": {
            "text/plain": [
              "0"
            ]
          },
          "execution_count": 8,
          "metadata": {},
          "output_type": "execute_result"
        }
      ],
      "source": [
        "#checking for duplicate rows\n",
        "df.duplicated().sum()"
      ]
    },
    {
      "cell_type": "code",
      "execution_count": null,
      "id": "34a5d07f-431d-4618-8b6f-45ace87ffed0",
      "metadata": {
        "id": "34a5d07f-431d-4618-8b6f-45ace87ffed0"
      },
      "outputs": [],
      "source": [
        "# finding the mean using the mean() and groupby() functions"
      ]
    },
    {
      "cell_type": "code",
      "execution_count": null,
      "id": "a7f1d1c0-f0e7-47c1-95d8-b3e08fea3cf7",
      "metadata": {
        "id": "a7f1d1c0-f0e7-47c1-95d8-b3e08fea3cf7",
        "outputId": "70a66ab7-1c29-4a3c-b2de-f3aab2ed459d"
      },
      "outputs": [
        {
          "name": "stdout",
          "output_type": "stream",
          "text": [
            "year\n",
            "1998    66.912000\n",
            "1999    67.125714\n",
            "2000    67.410286\n",
            "2001    67.676000\n",
            "2002    67.873714\n",
            "2003    68.094286\n",
            "2004    68.371429\n",
            "2005    68.735429\n",
            "2006    69.122857\n",
            "2007    69.516571\n",
            "2008    69.850286\n",
            "2009    70.217714\n",
            "2010    70.473143\n",
            "2011    70.967429\n",
            "2012    71.312571\n",
            "2013    71.607429\n",
            "2014    71.804000\n",
            "2015    72.045143\n",
            "2016    72.324000\n",
            "2017    72.584571\n",
            "2018    72.810857\n",
            "Name: life_exp, dtype: float64\n"
          ]
        }
      ],
      "source": [
        "print(df.groupby('year')['life_exp'].mean())"
      ]
    },
    {
      "cell_type": "code",
      "execution_count": null,
      "id": "a0511f23-bf96-4aa9-b54c-dd4b97157966",
      "metadata": {
        "id": "a0511f23-bf96-4aa9-b54c-dd4b97157966"
      },
      "outputs": [],
      "source": [
        "# finding the mean using multiple parameters"
      ]
    },
    {
      "cell_type": "code",
      "execution_count": null,
      "id": "2f564dd4-2b52-4609-b241-0b3077d9f969",
      "metadata": {
        "id": "2f564dd4-2b52-4609-b241-0b3077d9f969",
        "outputId": "b9d15da5-9769-497a-8ae9-ee5328490bd9"
      },
      "outputs": [
        {
          "name": "stdout",
          "output_type": "stream",
          "text": [
            "                     life_exp           gdp\n",
            "year continent                             \n",
            "1998 Africa         56.111765   1549.021739\n",
            "     Asia           68.774468   9294.272727\n",
            "     Europe         74.715385  21277.692308\n",
            "     North America  71.831579  10372.105263\n",
            "     Oceania        68.187500  11151.250000\n",
            "...                       ...           ...\n",
            "2018 Asia           74.344681  12845.936170\n",
            "     Europe         79.187179  29992.820513\n",
            "     North America  75.268421  14000.526316\n",
            "     Oceania        70.625000  15218.750000\n",
            "     South America  75.827273   8611.818182\n",
            "\n",
            "[126 rows x 2 columns]\n"
          ]
        }
      ],
      "source": [
        "multi_group = df.groupby(['year','continent'])[['life_exp','gdp']].mean()\n",
        "print(multi_group)"
      ]
    },
    {
      "cell_type": "code",
      "execution_count": null,
      "id": "0a0832ed-5a68-4b08-b40b-2549bea99282",
      "metadata": {
        "id": "0a0832ed-5a68-4b08-b40b-2549bea99282",
        "outputId": "e80973a4-085c-4d6f-d667-5140afbf0aca"
      },
      "outputs": [
        {
          "name": "stdout",
          "output_type": "stream",
          "text": [
            "                     life_exp           gdp\n",
            "year continent                             \n",
            "1998 Africa         56.111765   1549.021739\n",
            "     Asia           68.774468   9294.272727\n",
            "     Europe         74.715385  21277.692308\n",
            "     North America  71.831579  10372.105263\n",
            "     Oceania        68.187500  11151.250000\n",
            "...                       ...           ...\n",
            "2018 Asia           74.344681  12845.936170\n",
            "     Europe         79.187179  29992.820513\n",
            "     North America  75.268421  14000.526316\n",
            "     Oceania        70.625000  15218.750000\n",
            "     South America  75.827273   8611.818182\n",
            "\n",
            "[126 rows x 2 columns]\n"
          ]
        }
      ],
      "source": [
        "print(multi_group)"
      ]
    },
    {
      "cell_type": "code",
      "execution_count": null,
      "id": "ce5237f5-64bc-4d3a-a5b1-2d1995d5651b",
      "metadata": {
        "id": "ce5237f5-64bc-4d3a-a5b1-2d1995d5651b",
        "outputId": "78717571-638d-4994-c54f-dfa8c874847d"
      },
      "outputs": [
        {
          "name": "stdout",
          "output_type": "stream",
          "text": [
            "                     life_exp           gdp\n",
            "year continent                             \n",
            "1998 Africa         56.111765   1549.021739\n",
            "     Asia           68.774468   9294.272727\n",
            "     Europe         74.715385  21277.692308\n",
            "     North America  71.831579  10372.105263\n",
            "     Oceania        68.187500  11151.250000\n",
            "...                       ...           ...\n",
            "2013 South America  75.063636   8451.818182\n",
            "2014 Africa         63.317647   2294.607843\n",
            "     Asia           73.572340  12262.659574\n",
            "     Europe         78.630769  27327.435897\n",
            "     North America  74.863158  13306.315789\n",
            "\n",
            "[100 rows x 2 columns]\n"
          ]
        }
      ],
      "source": [
        "print(multi_group.head(n=100))"
      ]
    },
    {
      "cell_type": "code",
      "execution_count": null,
      "id": "16a64d7d-65df-4597-a15e-9d76fdabaa82",
      "metadata": {
        "id": "16a64d7d-65df-4597-a15e-9d76fdabaa82",
        "outputId": "6a1dc914-9f81-4170-c8ac-25267c038fed"
      },
      "outputs": [
        {
          "name": "stdout",
          "output_type": "stream",
          "text": [
            "<bound method DataFrame.reset_index of                      life_exp           gdp\n",
            "year continent                             \n",
            "1998 Africa         56.111765   1549.021739\n",
            "     Asia           68.774468   9294.272727\n",
            "     Europe         74.715385  21277.692308\n",
            "     North America  71.831579  10372.105263\n",
            "     Oceania        68.187500  11151.250000\n",
            "...                       ...           ...\n",
            "2018 Asia           74.344681  12845.936170\n",
            "     Europe         79.187179  29992.820513\n",
            "     North America  75.268421  14000.526316\n",
            "     Oceania        70.625000  15218.750000\n",
            "     South America  75.827273   8611.818182\n",
            "\n",
            "[126 rows x 2 columns]>\n",
            "None\n"
          ]
        }
      ],
      "source": [
        "index = print(multi_group.reset_index)\n",
        "print(index)"
      ]
    },
    {
      "cell_type": "code",
      "execution_count": null,
      "id": "1c3a7e05-3482-47b9-a2da-7229035ef36d",
      "metadata": {
        "id": "1c3a7e05-3482-47b9-a2da-7229035ef36d"
      },
      "outputs": [],
      "source": [
        "# use of the nnunique() function"
      ]
    },
    {
      "cell_type": "code",
      "execution_count": null,
      "id": "7bc753a2-0ed0-46f7-9237-bcf5681be21b",
      "metadata": {
        "id": "7bc753a2-0ed0-46f7-9237-bcf5681be21b",
        "outputId": "316e0c97-b453-41ba-d759-7bdcb11e0f4f"
      },
      "outputs": [
        {
          "name": "stdout",
          "output_type": "stream",
          "text": [
            "continent\n",
            "Africa           51\n",
            "Asia             47\n",
            "Europe           39\n",
            "North America    19\n",
            "Oceania           8\n",
            "South America    11\n",
            "Name: country, dtype: int64\n"
          ]
        }
      ],
      "source": [
        "print(df.groupby('continent')['country'].nunique())"
      ]
    },
    {
      "cell_type": "code",
      "execution_count": null,
      "id": "b4175b28-3af3-43f5-939a-0695b3ae8bf3",
      "metadata": {
        "id": "b4175b28-3af3-43f5-939a-0695b3ae8bf3"
      },
      "outputs": [],
      "source": [
        "## ce ==> continental life expectancy\n",
        "# the code prints the mean continental life expectancy based on th continents"
      ]
    },
    {
      "cell_type": "code",
      "execution_count": null,
      "id": "d53cafc8-fec7-48e7-8180-37074130e3da",
      "metadata": {
        "id": "d53cafc8-fec7-48e7-8180-37074130e3da",
        "outputId": "eaac9d62-570c-4cc8-9154-549a3f09f496"
      },
      "outputs": [
        {
          "name": "stdout",
          "output_type": "stream",
          "text": [
            "continent\n",
            "Africa           60.274136\n",
            "Asia             71.677102\n",
            "Europe           77.047741\n",
            "North America    74.048872\n",
            "Oceania          69.346429\n",
            "South America    74.023810\n",
            "Name: life_exp, dtype: float64\n",
            "None\n"
          ]
        }
      ],
      "source": [
        "ce = print(df.groupby('continent',)['life_exp'].mean())\n",
        "print(ce)"
      ]
    },
    {
      "cell_type": "code",
      "execution_count": null,
      "id": "cabd7c22-0a5c-4165-b984-9769a7b8855f",
      "metadata": {
        "id": "cabd7c22-0a5c-4165-b984-9769a7b8855f",
        "outputId": "9aec99e4-1b26-49de-d8fc-501a413270b3"
      },
      "outputs": [
        {
          "name": "stdout",
          "output_type": "stream",
          "text": [
            "year\n",
            "1998    66.912000\n",
            "1999    67.125714\n",
            "2000    67.410286\n",
            "2001    67.676000\n",
            "2002    67.873714\n",
            "2003    68.094286\n",
            "2004    68.371429\n",
            "2005    68.735429\n",
            "2006    69.122857\n",
            "2007    69.516571\n",
            "2008    69.850286\n",
            "2009    70.217714\n",
            "2010    70.473143\n",
            "2011    70.967429\n",
            "2012    71.312571\n",
            "2013    71.607429\n",
            "2014    71.804000\n",
            "2015    72.045143\n",
            "2016    72.324000\n",
            "2017    72.584571\n",
            "2018    72.810857\n",
            "Name: life_exp, dtype: float64\n"
          ]
        }
      ],
      "source": [
        "ye = print(df.groupby('year')['life_exp'].mean())"
      ]
    },
    {
      "cell_type": "code",
      "execution_count": null,
      "id": "28ba278c-29b8-4918-abd8-57d748bc415f",
      "metadata": {
        "id": "28ba278c-29b8-4918-abd8-57d748bc415f"
      },
      "outputs": [],
      "source": []
    },
    {
      "cell_type": "code",
      "execution_count": null,
      "id": "7579c06c-c7e5-4bd4-b5e7-1910e065490b",
      "metadata": {
        "id": "7579c06c-c7e5-4bd4-b5e7-1910e065490b"
      },
      "outputs": [],
      "source": []
    },
    {
      "cell_type": "code",
      "execution_count": null,
      "id": "2529c8a4-5532-4af1-832a-0164984dabef",
      "metadata": {
        "id": "2529c8a4-5532-4af1-832a-0164984dabef"
      },
      "outputs": [],
      "source": []
    }
  ],
  "metadata": {
    "kernelspec": {
      "display_name": "Python 3 (ipykernel)",
      "language": "python",
      "name": "python3"
    },
    "language_info": {
      "codemirror_mode": {
        "name": "ipython",
        "version": 3
      },
      "file_extension": ".py",
      "mimetype": "text/x-python",
      "name": "python",
      "nbconvert_exporter": "python",
      "pygments_lexer": "ipython3",
      "version": "3.12.7"
    },
    "colab": {
      "provenance": [],
      "include_colab_link": true
    }
  },
  "nbformat": 4,
  "nbformat_minor": 5
}